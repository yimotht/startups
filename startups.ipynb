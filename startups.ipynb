{
 "cells": [
  {
   "cell_type": "markdown",
   "metadata": {
    "id": "4mJbK1knrJgz"
   },
   "source": [
    "# Проект: Исследование стартапов\n",
    "\n",
    "- Автор: Дудаков Т.С.\n",
    "- Дата: 20.09.2025"
   ]
  },
  {
   "cell_type": "markdown",
   "metadata": {
    "id": "P6j0r3worJg0"
   },
   "source": [
    "## Введение"
   ]
  },
  {
   "cell_type": "markdown",
   "metadata": {
    "id": "8lQtbsIUyFG6"
   },
   "source": [
    "### Цели и задачи проекта\n",
    "\n",
    "**Основной целью** проекта является проведение комплексного анализа исторических данных о стартапах для формирования обоснованной и надежной основы будущей инвестиционной стратегии компании. Проект нацелен на переход от предоставления льготных займов к полноценной инвестиционной деятельности, подразумевающей покупку, развитие и последующую продажу перспективных компаний. Ключевой ожидаемый результат — создание проверенного и интерпретированного датасета, а также получение ответов на конкретные бизнес-вопросы, которые позволят компании выработать эффективную модель ведения нового для себя бизнеса.\n",
    "\n",
    "Для этого необходимо решить следующие ключевые задачи:\n",
    "1. Подготовить и очистить данные: провести аудит качества, предобработку и объединить таблицы по корректным столбцам.\n",
    "2. Оценить достоверность данных: проверить правдоподобность информации о сотрудниках и их образовании.\n",
    "3. Проанализировать аномалии: изучить суть сделок с символической стоимостью (0 или 1 доллар).\n",
    "4. Провести аналитическое исследование: выявить зависимость цены покупки от категории стартапа и количества раундов финансирования, рассчитать и визуализировать ключевые показатели.\n",
    "5. Выявить признаки успеха: определить показатели, которые с наибольшей вероятностью коррелируют с успешными сделками.\n",
    "\n",
    "### Описание данных\n",
    "\n",
    "Таблица ```acquisition```. Содержит информацию о покупках одними компаниями других компаний:\n",
    "- id — идентификатор покупки.\n",
    "- acquiring_company_id — идентификатор покупающей компании.\n",
    "- acquired_company_id — идентификатор покупаемой компании.\n",
    "- term_code — варианты расчёта.\n",
    "- price_amount — сумма сделки.\n",
    "- acquired_at — дата сделки.\n",
    "\n",
    "Таблица ```company_and_rounds```. Содержит информацию о компаниях и раундах финансирования:\n",
    "- company ID — идентификатор компании.\n",
    "- name — название компании.\n",
    "- category code — категория области деятельности компании.\n",
    "- status — статус компании.\n",
    "- founded at — дата инвестирования.\n",
    "- closed at — дата закрытия компании.\n",
    "- domain — официальный сайт компании.\n",
    "- network username — ник компании в сети.\n",
    "- country code — код страны компании.\n",
    "- investment rounds — число инвестиционных раундов.\n",
    "- funding rounds — число раундов финансирования.\n",
    "- funding total — сумма финансирования.\n",
    "- milestones — вехи финансирования.\n",
    "- funding round id — идентификатор этапа финансирования.\n",
    "- company id — идентификатор компании.\n",
    "- funded at — дата финансирования.\n",
    "- funding round type — тип финансирования.\n",
    "- raised amount — сумма финансирования.\n",
    "- pre money valuation — предварительная денежная оценка.\n",
    "- participants — число участников.\n",
    "- is first round — является ли раунд первым.\n",
    "- is last round — является раунд последним.\n",
    "\n",
    "Таблица ```education```. Содержит информацию об образовании сотрудника:\n",
    "- id — идентификатор записи об образовании.\n",
    "- person_id — идентификатор работника.\n",
    "- instituition — название учебного заведения.\n",
    "- graduated_at — дата получения образования.\n",
    "\n",
    "Таблица ```people```. Содержит информацию о сотрудниках:\n",
    "- id — идентификатор сотрудника.\n",
    "- first_name — имя сотрудника.\n",
    "- last_name — фамилия сотрудника.\n",
    "- company_id — идентификатор компании.\n",
    "- network_username — ник в социальных сетях.\n",
    "\n",
    "Таблица ```degrees```. Содержит информацию о типе образования сотрудника:\n",
    "- id — идентификатор записи.\n",
    "- object_id — идентификатор сотрудника.\n",
    "- degree_type — тип образования.\n",
    "- subject — специальность.\n",
    "\n",
    "Также есть дополнительные таблицы. Эти таблицы не требуются для выполнения проекта, но связаны с исследуемыми данными:\n",
    "\n",
    "Таблица ```fund```. Содержит информацию о фондах:\n",
    "- id — идентификатор фонда.\n",
    "- name — название фонда.\n",
    "- category_code — категория области деятельности компании.\n",
    "- founded_at — дата создания фонда.\n",
    "- domain — сайт фонда.\n",
    "- network_username — ник фонда в сети.\n",
    "- country_code — код страны фонда.\n",
    "- investment_rounds — число инвестиционных раундов.\n",
    "- invested_companies — число профинансированных компаний.\n",
    "- milestones — вехи финансирования.\n",
    "\n",
    "Таблица ```investment```. Содержит информацию о раундах инвестирования:\n",
    "- id — идентификатор этапа инвестирования.\n",
    "- funding_round_id — идентификатор раунда инвестирования.\n",
    "- company_id — идентификатор компании.\n",
    "- funding_round_type — тип финансирования.\n",
    "- fund_id — идентификатор фонда.\n",
    "\n",
    "### Содержание проекта\n",
    "\n",
    "План выполнения проекта формулируется следующим образом.\n",
    "\n",
    "**Этап 1. Знакомство с данными и первичная предобработка**\n",
    "На первом этапе проводится первичный аудит данных для понимания их структуры, качества и потенциала для дальнейшего анализа.\n",
    "\n",
    "1.  **Загрузка и первичный осмотр:** Загружаются все предоставленные датасеты. Проверяются и приводятся названия всех столбцов к единому формату. Для каждого набора данных изучается общая информация: количество записей, типы данных и количество пропущенных значений для формирования первоначального понимания полноты данных.\n",
    "2.  **Приведение типов данных и оценка пропусков:** Преобразуются столбцы с датами в соответствующий тип данных `datetime` для последующего временного анализа. На основе полученной информации о пропусках формулируется предварительный вывод о том, достаточно ли данных для решения поставленных задач, и обозначаются основные проблемные зоны.\n",
    "\n",
    "**Этап 2. Предобработка данных и предварительное исследование**\n",
    "На этом этапе проводится углубленный анализ отдельных бизнес-вопросов и начинается подготовка данных к объединению.\n",
    "\n",
    "1.  **Анализ раундов финансирования по годам:** На основе датасета `company_and_rounds.csv` строится сводная таблица, показывающая типичный размер инвестиций в раунде и общее количество раундов для каждого года (с фильтром для лет, где было более 50 раундов). Результаты визуализируются на графике для отображения динамики и формулировки ответов на вопросы о пиковом годе и тенденциях 2013 года.\n",
    "2.  **Оценка полноты данных об образовании:** Объединяются таблицы `people.csv` и `education.csv` для оценки полноты сведений об образовании сотрудников. Компании разделяются на логичные группы по размеру (например, малые, средние, крупные) для вычисления средней доли сотрудников без информации об образовании в каждой группе. Дополнительно проверяется возможность и целесообразность присоединения таблицы `degrees.csv` для обогащения анализа.\n",
    "3.  **Проверка столбцов для объединения:** Детально анализируется столбец `network_username`, который встречается в нескольких таблицах. Проверяется, является ли он уникальным идентификатором и насколько часто значения в этом столбце дублируются среди разных датасетов для определения возможности его использования для надежного объединения данных.\n",
    "4.  **Глубокая предобработка проблемного датасета:** Проводится работа с датасетом `company_and_rounds.csv`. Он приводится в структурированный вид, удобный для анализа на уровне компаний. Работа включает обработку пропусков, преобразование структуры таблицы и обеспечение целостности данных для корректного соотнесения каждого параметра с конкретной компанией.\n",
    "\n",
    "После завершения этого этапа результаты предоставляются на ревью для подтверждения корректности выбранного направления перед переходом к углубленному анализу.\n",
    "\n",
    "**Этап 3. Исследовательский анализ объединённых таблиц**\n",
    "После подтверждения корректности выполненных работ проводится ключевая часть анализа на основе объединенных данных.\n",
    "\n",
    "1.  **Формирование итоговой таблицы для анализа:** Объединяются обработанные данные на основе подготовленного `company_and_rounds.csv`. Для анализа отбираются компании, у которых указаны значения `funding_rounds` или `investment_rounds` больше нуля, или те, у которых в колонке `status` указано `acquired`. Проверяется полнота и корректность получившейся таблицы.\n",
    "2.  **Анализ выбросов:** Графическими и аналитическими методами исследуется столбец `funding_total` для определения типичного размера общего финансирования для одной компании и выявления выбивающихся значений. Анализируются показатели, возвращаемые методом `.describe()`, и оценивается применимость стандартных методов для нахождения типичных значений.\n",
    "3.  **Исследование аномальных сделок:** Выявляются и анализируются компании, которые были проданы за ноль или за один доллар, но при этом имели ненулевой общий объём финансирования. Для столбца `funding_total` рассчитываются верхняя и нижняя границы выбросов с указанием соответствующих процентилей.\n",
    "4.  **Анализ цен по категориям:** Среди категорий стартапов выделяются те, которые характеризуются типично высокими ценами покупки и наибольшим разбросом цен. Обосновывается методология составления топа и выбора градаций.\n",
    "5.  **Анализ количества раундов финансирования:** Исследуются значения столбца `funding_rounds`. Строится график, отображающий среднее количество раундов финансирования для стартапов с разными статусами. Формулируются выводы о взаимосвязи.\n",
    "\n",
    "**Этап 4. Формулировка выводов и рекомендаций**\n",
    "На заключительном этапе описывается, что было сделано в проекте, формулируются выводы, подкрепляют ли они друг друга или заставляют сомневаться в полученных результатах. Формируются итоговые рекомендации для бизнеса."
   ]
  },
  {
   "cell_type": "markdown",
   "metadata": {
    "id": "xqr6uttCrJg0"
   },
   "source": [
    "\n",
    "## Шаг 1. Знакомство с данными: загрузка и первичная предобработка\n",
    "\n",
    "Названия файлов:\n",
    "* acquisition.csv\n",
    "* company_and_rounds.csv\n",
    "* people.csv\n",
    "* education.csv\n",
    "* degrees.csv\n",
    "\n",
    "Опциональные датасеты:\n",
    "* fund.csv\n",
    "* investment.csv\n",
    "\n",
    "\n",
    "Они находятся в папке datasets, если вы выполняете работу на платформе. В случае, если вы делаете работу локально, доступ к файлам в папке можно получить по адресу `https://code.s3.yandex.net/datasets/` + имя файла.\n",
    "\n",
    "### 1.1. Вывод общей информации, исправление названия столбцов"
   ]
  },
  {
   "cell_type": "code",
   "execution_count": 1,
   "metadata": {
    "id": "2Tm4Pk__Felf"
   },
   "outputs": [],
   "source": [
    "#начнем с импортирования всех необходимых для проведения анализа библиотек\n",
    "import pandas as pd\n",
    "import matplotlib.pyplot as plt\n",
    "import seaborn as sns"
   ]
  },
  {
   "cell_type": "code",
   "execution_count": 2,
   "metadata": {
    "id": "oNqJ2qpRFebv"
   },
   "outputs": [
    {
     "name": "stdout",
     "output_type": "stream",
     "text": [
      "<class 'pandas.core.frame.DataFrame'>\n",
      "RangeIndex: 9407 entries, 0 to 9406\n",
      "Data columns (total 6 columns):\n",
      " #   Column                Non-Null Count  Dtype \n",
      "---  ------                --------------  ----- \n",
      " 0   id                    9407 non-null   int64 \n",
      " 1   acquiring_company_id  9407 non-null   int64 \n",
      " 2   acquired_company_id   9407 non-null   int64 \n",
      " 3   term_code             1831 non-null   object\n",
      " 4   price_amount          9407 non-null   int64 \n",
      " 5   acquired_at           9378 non-null   object\n",
      "dtypes: int64(4), object(2)\n",
      "memory usage: 441.1+ KB\n",
      "<class 'pandas.core.frame.DataFrame'>\n",
      "RangeIndex: 217774 entries, 0 to 217773\n",
      "Data columns (total 22 columns):\n",
      " #   Column                 Non-Null Count   Dtype  \n",
      "---  ------                 --------------   -----  \n",
      " 0   company  ID            217472 non-null  float64\n",
      " 1   name                   217472 non-null  object \n",
      " 2   category  code         143886 non-null  object \n",
      " 3   status                 217472 non-null  object \n",
      " 4   founded  at            109956 non-null  object \n",
      " 5   closed  at             3449 non-null    object \n",
      " 6   domain                 147159 non-null  object \n",
      " 7   network  username      95534 non-null   object \n",
      " 8   country  code          108607 non-null  object \n",
      " 9   investment  rounds     217472 non-null  float64\n",
      " 10  funding  rounds        217472 non-null  float64\n",
      " 11  funding  total         217472 non-null  float64\n",
      " 12  milestones             217472 non-null  float64\n",
      " 13  funding  round  id     52928 non-null   float64\n",
      " 14  company  id            52928 non-null   float64\n",
      " 15  funded  at             52680 non-null   object \n",
      " 16  funding  round  type   52928 non-null   object \n",
      " 17  raised  amount         52928 non-null   float64\n",
      " 18  pre  money  valuation  52928 non-null   float64\n",
      " 19  participants           52928 non-null   float64\n",
      " 20  is  first  round       52928 non-null   float64\n",
      " 21  is  last  round        52928 non-null   float64\n",
      "dtypes: float64(12), object(10)\n",
      "memory usage: 36.6+ MB\n",
      "<class 'pandas.core.frame.DataFrame'>\n",
      "RangeIndex: 226709 entries, 0 to 226708\n",
      "Data columns (total 5 columns):\n",
      " #   Column            Non-Null Count   Dtype  \n",
      "---  ------            --------------   -----  \n",
      " 0   id                226709 non-null  int64  \n",
      " 1   first_name        226704 non-null  object \n",
      " 2   last_name         226708 non-null  object \n",
      " 3   company_id        34615 non-null   float64\n",
      " 4   network_username  38867 non-null   object \n",
      "dtypes: float64(1), int64(1), object(3)\n",
      "memory usage: 8.6+ MB\n",
      "<class 'pandas.core.frame.DataFrame'>\n",
      "RangeIndex: 109610 entries, 0 to 109609\n",
      "Data columns (total 4 columns):\n",
      " #   Column        Non-Null Count   Dtype \n",
      "---  ------        --------------   ----- \n",
      " 0   id            109610 non-null  int64 \n",
      " 1   person_id     109610 non-null  int64 \n",
      " 2   instituition  109555 non-null  object\n",
      " 3   graduated_at  58054 non-null   object\n",
      "dtypes: int64(2), object(2)\n",
      "memory usage: 3.3+ MB\n",
      "<class 'pandas.core.frame.DataFrame'>\n",
      "RangeIndex: 109610 entries, 0 to 109609\n",
      "Data columns (total 4 columns):\n",
      " #   Column       Non-Null Count   Dtype \n",
      "---  ------       --------------   ----- \n",
      " 0   id           109610 non-null  int64 \n",
      " 1   object_id    109610 non-null  object\n",
      " 2   degree_type  98392 non-null   object\n",
      " 3   subject      81298 non-null   object\n",
      "dtypes: int64(1), object(3)\n",
      "memory usage: 3.3+ MB\n"
     ]
    },
    {
     "data": {
      "text/plain": [
       "None"
      ]
     },
     "metadata": {},
     "output_type": "display_data"
    },
    {
     "data": {
      "text/html": [
       "<div>\n",
       "<style scoped>\n",
       "    .dataframe tbody tr th:only-of-type {\n",
       "        vertical-align: middle;\n",
       "    }\n",
       "\n",
       "    .dataframe tbody tr th {\n",
       "        vertical-align: top;\n",
       "    }\n",
       "\n",
       "    .dataframe thead th {\n",
       "        text-align: right;\n",
       "    }\n",
       "</style>\n",
       "<table border=\"1\" class=\"dataframe\">\n",
       "  <thead>\n",
       "    <tr style=\"text-align: right;\">\n",
       "      <th></th>\n",
       "      <th>id</th>\n",
       "      <th>acquiring_company_id</th>\n",
       "      <th>acquired_company_id</th>\n",
       "      <th>term_code</th>\n",
       "      <th>price_amount</th>\n",
       "      <th>acquired_at</th>\n",
       "    </tr>\n",
       "  </thead>\n",
       "  <tbody>\n",
       "    <tr>\n",
       "      <th>0</th>\n",
       "      <td>1</td>\n",
       "      <td>11</td>\n",
       "      <td>10</td>\n",
       "      <td>NaN</td>\n",
       "      <td>20000000</td>\n",
       "      <td>2007-05-30</td>\n",
       "    </tr>\n",
       "    <tr>\n",
       "      <th>1</th>\n",
       "      <td>7</td>\n",
       "      <td>59</td>\n",
       "      <td>72</td>\n",
       "      <td>cash</td>\n",
       "      <td>60000000</td>\n",
       "      <td>2007-07-01</td>\n",
       "    </tr>\n",
       "    <tr>\n",
       "      <th>2</th>\n",
       "      <td>8</td>\n",
       "      <td>24</td>\n",
       "      <td>132</td>\n",
       "      <td>cash</td>\n",
       "      <td>280000000</td>\n",
       "      <td>2007-05-01</td>\n",
       "    </tr>\n",
       "    <tr>\n",
       "      <th>3</th>\n",
       "      <td>9</td>\n",
       "      <td>59</td>\n",
       "      <td>155</td>\n",
       "      <td>cash</td>\n",
       "      <td>100000000</td>\n",
       "      <td>2007-06-01</td>\n",
       "    </tr>\n",
       "    <tr>\n",
       "      <th>4</th>\n",
       "      <td>10</td>\n",
       "      <td>212</td>\n",
       "      <td>215</td>\n",
       "      <td>cash</td>\n",
       "      <td>25000000</td>\n",
       "      <td>2007-07-01</td>\n",
       "    </tr>\n",
       "  </tbody>\n",
       "</table>\n",
       "</div>"
      ],
      "text/plain": [
       "   id  acquiring_company_id  acquired_company_id term_code  price_amount  \\\n",
       "0   1                    11                   10       NaN      20000000   \n",
       "1   7                    59                   72      cash      60000000   \n",
       "2   8                    24                  132      cash     280000000   \n",
       "3   9                    59                  155      cash     100000000   \n",
       "4  10                   212                  215      cash      25000000   \n",
       "\n",
       "  acquired_at  \n",
       "0  2007-05-30  \n",
       "1  2007-07-01  \n",
       "2  2007-05-01  \n",
       "3  2007-06-01  \n",
       "4  2007-07-01  "
      ]
     },
     "metadata": {},
     "output_type": "display_data"
    },
    {
     "data": {
      "text/plain": [
       "None"
      ]
     },
     "metadata": {},
     "output_type": "display_data"
    },
    {
     "data": {
      "text/html": [
       "<div>\n",
       "<style scoped>\n",
       "    .dataframe tbody tr th:only-of-type {\n",
       "        vertical-align: middle;\n",
       "    }\n",
       "\n",
       "    .dataframe tbody tr th {\n",
       "        vertical-align: top;\n",
       "    }\n",
       "\n",
       "    .dataframe thead th {\n",
       "        text-align: right;\n",
       "    }\n",
       "</style>\n",
       "<table border=\"1\" class=\"dataframe\">\n",
       "  <thead>\n",
       "    <tr style=\"text-align: right;\">\n",
       "      <th></th>\n",
       "      <th>company  ID</th>\n",
       "      <th>name</th>\n",
       "      <th>category  code</th>\n",
       "      <th>status</th>\n",
       "      <th>founded  at</th>\n",
       "      <th>closed  at</th>\n",
       "      <th>domain</th>\n",
       "      <th>network  username</th>\n",
       "      <th>country  code</th>\n",
       "      <th>investment  rounds</th>\n",
       "      <th>...</th>\n",
       "      <th>milestones</th>\n",
       "      <th>funding  round  id</th>\n",
       "      <th>company  id</th>\n",
       "      <th>funded  at</th>\n",
       "      <th>funding  round  type</th>\n",
       "      <th>raised  amount</th>\n",
       "      <th>pre  money  valuation</th>\n",
       "      <th>participants</th>\n",
       "      <th>is  first  round</th>\n",
       "      <th>is  last  round</th>\n",
       "    </tr>\n",
       "  </thead>\n",
       "  <tbody>\n",
       "    <tr>\n",
       "      <th>0</th>\n",
       "      <td>1.0</td>\n",
       "      <td>Wetpaint</td>\n",
       "      <td>web</td>\n",
       "      <td>operating</td>\n",
       "      <td>2005-10-17</td>\n",
       "      <td>NaN</td>\n",
       "      <td>wetpaint-inc.com</td>\n",
       "      <td>BachelrWetpaint</td>\n",
       "      <td>USA</td>\n",
       "      <td>0.0</td>\n",
       "      <td>...</td>\n",
       "      <td>5.0</td>\n",
       "      <td>888.0</td>\n",
       "      <td>1.0</td>\n",
       "      <td>2005-10-01</td>\n",
       "      <td>series-a</td>\n",
       "      <td>5250000.0</td>\n",
       "      <td>0.0</td>\n",
       "      <td>2.0</td>\n",
       "      <td>0.0</td>\n",
       "      <td>1.0</td>\n",
       "    </tr>\n",
       "    <tr>\n",
       "      <th>1</th>\n",
       "      <td>1.0</td>\n",
       "      <td>Wetpaint</td>\n",
       "      <td>web</td>\n",
       "      <td>operating</td>\n",
       "      <td>2005-10-17</td>\n",
       "      <td>NaN</td>\n",
       "      <td>wetpaint-inc.com</td>\n",
       "      <td>BachelrWetpaint</td>\n",
       "      <td>USA</td>\n",
       "      <td>0.0</td>\n",
       "      <td>...</td>\n",
       "      <td>5.0</td>\n",
       "      <td>889.0</td>\n",
       "      <td>1.0</td>\n",
       "      <td>2007-01-01</td>\n",
       "      <td>series-b</td>\n",
       "      <td>9500000.0</td>\n",
       "      <td>0.0</td>\n",
       "      <td>3.0</td>\n",
       "      <td>0.0</td>\n",
       "      <td>0.0</td>\n",
       "    </tr>\n",
       "    <tr>\n",
       "      <th>2</th>\n",
       "      <td>1.0</td>\n",
       "      <td>Wetpaint</td>\n",
       "      <td>web</td>\n",
       "      <td>operating</td>\n",
       "      <td>2005-10-17</td>\n",
       "      <td>NaN</td>\n",
       "      <td>wetpaint-inc.com</td>\n",
       "      <td>BachelrWetpaint</td>\n",
       "      <td>USA</td>\n",
       "      <td>0.0</td>\n",
       "      <td>...</td>\n",
       "      <td>5.0</td>\n",
       "      <td>2312.0</td>\n",
       "      <td>1.0</td>\n",
       "      <td>2008-05-19</td>\n",
       "      <td>series-c+</td>\n",
       "      <td>25000000.0</td>\n",
       "      <td>0.0</td>\n",
       "      <td>4.0</td>\n",
       "      <td>1.0</td>\n",
       "      <td>0.0</td>\n",
       "    </tr>\n",
       "    <tr>\n",
       "      <th>3</th>\n",
       "      <td>10.0</td>\n",
       "      <td>Flektor</td>\n",
       "      <td>games_video</td>\n",
       "      <td>acquired</td>\n",
       "      <td>NaN</td>\n",
       "      <td>NaN</td>\n",
       "      <td>flektor.com</td>\n",
       "      <td>NaN</td>\n",
       "      <td>USA</td>\n",
       "      <td>0.0</td>\n",
       "      <td>...</td>\n",
       "      <td>0.0</td>\n",
       "      <td>NaN</td>\n",
       "      <td>NaN</td>\n",
       "      <td>NaN</td>\n",
       "      <td>NaN</td>\n",
       "      <td>NaN</td>\n",
       "      <td>NaN</td>\n",
       "      <td>NaN</td>\n",
       "      <td>NaN</td>\n",
       "      <td>NaN</td>\n",
       "    </tr>\n",
       "    <tr>\n",
       "      <th>4</th>\n",
       "      <td>100.0</td>\n",
       "      <td>There</td>\n",
       "      <td>games_video</td>\n",
       "      <td>acquired</td>\n",
       "      <td>NaN</td>\n",
       "      <td>NaN</td>\n",
       "      <td>there.com</td>\n",
       "      <td>NaN</td>\n",
       "      <td>USA</td>\n",
       "      <td>0.0</td>\n",
       "      <td>...</td>\n",
       "      <td>4.0</td>\n",
       "      <td>NaN</td>\n",
       "      <td>NaN</td>\n",
       "      <td>NaN</td>\n",
       "      <td>NaN</td>\n",
       "      <td>NaN</td>\n",
       "      <td>NaN</td>\n",
       "      <td>NaN</td>\n",
       "      <td>NaN</td>\n",
       "      <td>NaN</td>\n",
       "    </tr>\n",
       "  </tbody>\n",
       "</table>\n",
       "<p>5 rows × 22 columns</p>\n",
       "</div>"
      ],
      "text/plain": [
       "   company  ID      name category  code     status founded  at closed  at  \\\n",
       "0          1.0  Wetpaint            web  operating  2005-10-17        NaN   \n",
       "1          1.0  Wetpaint            web  operating  2005-10-17        NaN   \n",
       "2          1.0  Wetpaint            web  operating  2005-10-17        NaN   \n",
       "3         10.0   Flektor    games_video   acquired         NaN        NaN   \n",
       "4        100.0     There    games_video   acquired         NaN        NaN   \n",
       "\n",
       "             domain network  username country  code  investment  rounds  ...  \\\n",
       "0  wetpaint-inc.com   BachelrWetpaint           USA                 0.0  ...   \n",
       "1  wetpaint-inc.com   BachelrWetpaint           USA                 0.0  ...   \n",
       "2  wetpaint-inc.com   BachelrWetpaint           USA                 0.0  ...   \n",
       "3       flektor.com               NaN           USA                 0.0  ...   \n",
       "4         there.com               NaN           USA                 0.0  ...   \n",
       "\n",
       "   milestones  funding  round  id  company  id  funded  at  \\\n",
       "0         5.0               888.0          1.0  2005-10-01   \n",
       "1         5.0               889.0          1.0  2007-01-01   \n",
       "2         5.0              2312.0          1.0  2008-05-19   \n",
       "3         0.0                 NaN          NaN         NaN   \n",
       "4         4.0                 NaN          NaN         NaN   \n",
       "\n",
       "   funding  round  type raised  amount pre  money  valuation  participants  \\\n",
       "0              series-a      5250000.0                   0.0           2.0   \n",
       "1              series-b      9500000.0                   0.0           3.0   \n",
       "2             series-c+     25000000.0                   0.0           4.0   \n",
       "3                   NaN            NaN                   NaN           NaN   \n",
       "4                   NaN            NaN                   NaN           NaN   \n",
       "\n",
       "   is  first  round  is  last  round  \n",
       "0               0.0              1.0  \n",
       "1               0.0              0.0  \n",
       "2               1.0              0.0  \n",
       "3               NaN              NaN  \n",
       "4               NaN              NaN  \n",
       "\n",
       "[5 rows x 22 columns]"
      ]
     },
     "metadata": {},
     "output_type": "display_data"
    },
    {
     "data": {
      "text/plain": [
       "None"
      ]
     },
     "metadata": {},
     "output_type": "display_data"
    },
    {
     "data": {
      "text/html": [
       "<div>\n",
       "<style scoped>\n",
       "    .dataframe tbody tr th:only-of-type {\n",
       "        vertical-align: middle;\n",
       "    }\n",
       "\n",
       "    .dataframe tbody tr th {\n",
       "        vertical-align: top;\n",
       "    }\n",
       "\n",
       "    .dataframe thead th {\n",
       "        text-align: right;\n",
       "    }\n",
       "</style>\n",
       "<table border=\"1\" class=\"dataframe\">\n",
       "  <thead>\n",
       "    <tr style=\"text-align: right;\">\n",
       "      <th></th>\n",
       "      <th>id</th>\n",
       "      <th>first_name</th>\n",
       "      <th>last_name</th>\n",
       "      <th>company_id</th>\n",
       "      <th>network_username</th>\n",
       "    </tr>\n",
       "  </thead>\n",
       "  <tbody>\n",
       "    <tr>\n",
       "      <th>0</th>\n",
       "      <td>10</td>\n",
       "      <td>Mark</td>\n",
       "      <td>Zuckerberg</td>\n",
       "      <td>5.0</td>\n",
       "      <td>NaN</td>\n",
       "    </tr>\n",
       "    <tr>\n",
       "      <th>1</th>\n",
       "      <td>100</td>\n",
       "      <td>Peter</td>\n",
       "      <td>Lester</td>\n",
       "      <td>27.0</td>\n",
       "      <td>NaN</td>\n",
       "    </tr>\n",
       "    <tr>\n",
       "      <th>2</th>\n",
       "      <td>1000</td>\n",
       "      <td>Dr. Steven</td>\n",
       "      <td>E. Saunders</td>\n",
       "      <td>292.0</td>\n",
       "      <td>NaN</td>\n",
       "    </tr>\n",
       "    <tr>\n",
       "      <th>3</th>\n",
       "      <td>10000</td>\n",
       "      <td>Neil</td>\n",
       "      <td>Capel</td>\n",
       "      <td>2526.0</td>\n",
       "      <td>NaN</td>\n",
       "    </tr>\n",
       "    <tr>\n",
       "      <th>4</th>\n",
       "      <td>100000</td>\n",
       "      <td>Sue</td>\n",
       "      <td>Pilsch</td>\n",
       "      <td>NaN</td>\n",
       "      <td>NaN</td>\n",
       "    </tr>\n",
       "  </tbody>\n",
       "</table>\n",
       "</div>"
      ],
      "text/plain": [
       "       id  first_name    last_name  company_id network_username\n",
       "0      10        Mark   Zuckerberg         5.0              NaN\n",
       "1     100       Peter       Lester        27.0              NaN\n",
       "2    1000  Dr. Steven  E. Saunders       292.0              NaN\n",
       "3   10000        Neil        Capel      2526.0              NaN\n",
       "4  100000         Sue       Pilsch         NaN              NaN"
      ]
     },
     "metadata": {},
     "output_type": "display_data"
    },
    {
     "data": {
      "text/plain": [
       "None"
      ]
     },
     "metadata": {},
     "output_type": "display_data"
    },
    {
     "data": {
      "text/html": [
       "<div>\n",
       "<style scoped>\n",
       "    .dataframe tbody tr th:only-of-type {\n",
       "        vertical-align: middle;\n",
       "    }\n",
       "\n",
       "    .dataframe tbody tr th {\n",
       "        vertical-align: top;\n",
       "    }\n",
       "\n",
       "    .dataframe thead th {\n",
       "        text-align: right;\n",
       "    }\n",
       "</style>\n",
       "<table border=\"1\" class=\"dataframe\">\n",
       "  <thead>\n",
       "    <tr style=\"text-align: right;\">\n",
       "      <th></th>\n",
       "      <th>id</th>\n",
       "      <th>person_id</th>\n",
       "      <th>instituition</th>\n",
       "      <th>graduated_at</th>\n",
       "    </tr>\n",
       "  </thead>\n",
       "  <tbody>\n",
       "    <tr>\n",
       "      <th>0</th>\n",
       "      <td>1</td>\n",
       "      <td>6117</td>\n",
       "      <td>NaN</td>\n",
       "      <td>NaN</td>\n",
       "    </tr>\n",
       "    <tr>\n",
       "      <th>1</th>\n",
       "      <td>2</td>\n",
       "      <td>6136</td>\n",
       "      <td>Washington University, St. Louis</td>\n",
       "      <td>1990-01-01</td>\n",
       "    </tr>\n",
       "    <tr>\n",
       "      <th>2</th>\n",
       "      <td>3</td>\n",
       "      <td>6136</td>\n",
       "      <td>Boston University</td>\n",
       "      <td>1992-01-01</td>\n",
       "    </tr>\n",
       "    <tr>\n",
       "      <th>3</th>\n",
       "      <td>4</td>\n",
       "      <td>6005</td>\n",
       "      <td>University of Greenwich</td>\n",
       "      <td>2006-01-01</td>\n",
       "    </tr>\n",
       "    <tr>\n",
       "      <th>4</th>\n",
       "      <td>5</td>\n",
       "      <td>5832</td>\n",
       "      <td>Rice University</td>\n",
       "      <td>NaN</td>\n",
       "    </tr>\n",
       "  </tbody>\n",
       "</table>\n",
       "</div>"
      ],
      "text/plain": [
       "   id  person_id                      instituition graduated_at\n",
       "0   1       6117                               NaN          NaN\n",
       "1   2       6136  Washington University, St. Louis   1990-01-01\n",
       "2   3       6136                 Boston University   1992-01-01\n",
       "3   4       6005           University of Greenwich   2006-01-01\n",
       "4   5       5832                   Rice University          NaN"
      ]
     },
     "metadata": {},
     "output_type": "display_data"
    },
    {
     "data": {
      "text/plain": [
       "None"
      ]
     },
     "metadata": {},
     "output_type": "display_data"
    },
    {
     "data": {
      "text/html": [
       "<div>\n",
       "<style scoped>\n",
       "    .dataframe tbody tr th:only-of-type {\n",
       "        vertical-align: middle;\n",
       "    }\n",
       "\n",
       "    .dataframe tbody tr th {\n",
       "        vertical-align: top;\n",
       "    }\n",
       "\n",
       "    .dataframe thead th {\n",
       "        text-align: right;\n",
       "    }\n",
       "</style>\n",
       "<table border=\"1\" class=\"dataframe\">\n",
       "  <thead>\n",
       "    <tr style=\"text-align: right;\">\n",
       "      <th></th>\n",
       "      <th>id</th>\n",
       "      <th>object_id</th>\n",
       "      <th>degree_type</th>\n",
       "      <th>subject</th>\n",
       "    </tr>\n",
       "  </thead>\n",
       "  <tbody>\n",
       "    <tr>\n",
       "      <th>0</th>\n",
       "      <td>1</td>\n",
       "      <td>p:6117</td>\n",
       "      <td>MBA</td>\n",
       "      <td>NaN</td>\n",
       "    </tr>\n",
       "    <tr>\n",
       "      <th>1</th>\n",
       "      <td>2</td>\n",
       "      <td>p:6136</td>\n",
       "      <td>BA</td>\n",
       "      <td>English, French</td>\n",
       "    </tr>\n",
       "    <tr>\n",
       "      <th>2</th>\n",
       "      <td>3</td>\n",
       "      <td>p:6136</td>\n",
       "      <td>MS</td>\n",
       "      <td>Mass Communication</td>\n",
       "    </tr>\n",
       "    <tr>\n",
       "      <th>3</th>\n",
       "      <td>4</td>\n",
       "      <td>p:6005</td>\n",
       "      <td>MS</td>\n",
       "      <td>Internet Technology</td>\n",
       "    </tr>\n",
       "    <tr>\n",
       "      <th>4</th>\n",
       "      <td>5</td>\n",
       "      <td>p:5832</td>\n",
       "      <td>BCS</td>\n",
       "      <td>Computer Science, Psychology</td>\n",
       "    </tr>\n",
       "  </tbody>\n",
       "</table>\n",
       "</div>"
      ],
      "text/plain": [
       "   id object_id degree_type                       subject\n",
       "0   1    p:6117         MBA                           NaN\n",
       "1   2    p:6136          BA               English, French\n",
       "2   3    p:6136          MS            Mass Communication\n",
       "3   4    p:6005          MS           Internet Technology\n",
       "4   5    p:5832         BCS  Computer Science, Psychology"
      ]
     },
     "metadata": {},
     "output_type": "display_data"
    }
   ],
   "source": [
    "#Прочитаем данные из файлов и сохраним их в переменные\n",
    "acquisition_df = pd.read_csv('https://code.s3.yandex.net/datasets/acquisition.csv')\n",
    "company_and_rounds_df = pd.read_csv('https://code.s3.yandex.net/datasets/company_and_rounds.csv')\n",
    "people_df = pd.read_csv('https://code.s3.yandex.net/datasets/people.csv')\n",
    "education_df = pd.read_csv('https://code.s3.yandex.net/datasets/education.csv')\n",
    "degrees_df = pd.read_csv('https://code.s3.yandex.net/datasets/degrees.csv')\n",
    "display(acquisition_df.info(), \n",
    "        acquisition_df.head(), \n",
    "        company_and_rounds_df.info(),\n",
    "        company_and_rounds_df.head(),\n",
    "        people_df.info(),\n",
    "        people_df.head(),\n",
    "        education_df.info(),\n",
    "        education_df.head(),\n",
    "        degrees_df.info(),\n",
    "        degrees_df.head())"
   ]
  },
  {
   "cell_type": "markdown",
   "metadata": {},
   "source": [
    "Таблица `acquisition` состоит из 9407 строк и 6 столбцов(id, acquiring_company_id, acquired_company_id, term_code, price_amount, acquired_at).\n",
    "\n",
    "Таблица `company_and_rounds` стоит из 217774 строк и 22 столбцов(company  ID, name, category  code, status, founded  at, closed  at, domain, network  username, country  code, investment  rounds, funding  rounds, funding  total, milestones, funding  round, company  id, funded  at, funding  round  type, raised  amount, pre  money  valuation, participants, is  first  round, is  last  round) \n",
    "\n",
    "Таблица `people` состоит из 226709 строк и 5 столбцов(id, first_name, last_name, company_id, network_username)\n",
    "\n",
    "Таблица `education` состоит из 109610 строк и 4 столбцов(id, person_id, instituition, graduated_at)\n",
    "\n",
    "Таблица `degrees` состоит из 109610 строк и 4 столбцов(id, object_id, degree_type, subject)"
   ]
  },
  {
   "cell_type": "markdown",
   "metadata": {},
   "source": [
    "---\n",
    "\n",
    "### Промежуточный вывод\n",
    "\n",
    "Во всех датасетах наблюдается проблема с пробелами в названиях столбцов (например, `company  ID`, `founded  at`, `network  username`), что требует их обязательного переименования в snake_case для корректной работы кода. Кроме того, анализ показал серьезные проблемы с полнотой данных: ключевые для анализа столбцы, такие как `term_code` в таблице сделок, `raised_amount` и `funding_round_type` в основном датасете, а также `company_id` в таблице людей, содержат высокий уровень пропусков, что существенно ограничивает выборку для анализа и требует осторожности в интерпретации будущих результатов.\n",
    "\n",
    "Отдельное внимание следует уделить несоответствию типов данных. Столбцы с датами (`acquired_at`, `founded_at`, `closed_at`, `funded_at`, `graduated_at`) хранятся в строковом формате (object) и должны быть преобразованы в тип `datetime`. Также выявлены потенциальные точки для объединения таблиц: столбец `company_id` присутствует в нескольких датасетах, а `network_username`, несмотря на низкую заполненность, может быть использован для проверки связей. Столбец `object_id` в таблице degrees, имеющий префикс `p:`, требует очистки для корректного соединения с таблицей people по `id`. Также было замечено дважды встречающийся столбец `company ID` и `company id` - вероятней всего имеют разное предназначение и разные данные."
   ]
  },
  {
   "cell_type": "markdown",
   "metadata": {
    "id": "mg2gEwh0rJg0"
   },
   "source": [
    "### 1.2. Смена типов и анализ пропусков\n"
   ]
  },
  {
   "cell_type": "code",
   "execution_count": 3,
   "metadata": {
    "id": "FsL0A8RBrJg1",
    "vscode": {
     "languageId": "plaintext"
    }
   },
   "outputs": [
    {
     "data": {
      "text/plain": [
       "Index(['company_id', 'name', 'category_code', 'status', 'founded_at',\n",
       "       'closed_at', 'domain', 'network_username', 'country_code',\n",
       "       'investment_rounds', 'funding_rounds', 'funding_total', 'milestones',\n",
       "       'funding_round_id', 'funding_company_id', 'funded_at',\n",
       "       'funding_round_type', 'raised_amount', 'pre_money_valuation',\n",
       "       'participants', 'is_first_round', 'is_last_round'],\n",
       "      dtype='object')"
      ]
     },
     "metadata": {},
     "output_type": "display_data"
    },
    {
     "data": {
      "text/plain": [
       "Index(['id', 'person_id', 'institution', 'graduated_at'], dtype='object')"
      ]
     },
     "metadata": {},
     "output_type": "display_data"
    }
   ],
   "source": [
    "#приведем названия датафреймов \n",
    "# Для company_and_rounds_df\n",
    "company_and_rounds_df.columns = [\n",
    "    'company_id', 'name', 'category_code', 'status', 'founded_at', 'closed_at', \n",
    "    'domain', 'network_username', 'country_code', 'investment_rounds', \n",
    "    'funding_rounds', 'funding_total', 'milestones', 'funding_round_id', \n",
    "    'funding_company_id', 'funded_at', 'funding_round_type', 'raised_amount', \n",
    "    'pre_money_valuation', 'participants', 'is_first_round', 'is_last_round'\n",
    "]\n",
    "\n",
    "# Для education_df (с исправлением опечатки)\n",
    "education_df.columns = ['id', 'person_id', 'institution', 'graduated_at']\n",
    "\n",
    "# Остальные датасеты не требуют изменений\n",
    "display(company_and_rounds_df.columns, education_df.columns)"
   ]
  },
  {
   "cell_type": "markdown",
   "metadata": {},
   "source": [
    "Приведем данные в необхожимых столбцах к нужным типам (Int64, DateTime)"
   ]
  },
  {
   "cell_type": "code",
   "execution_count": 4,
   "metadata": {
    "id": "46VskrGyFeJ-"
   },
   "outputs": [
    {
     "name": "stdout",
     "output_type": "stream",
     "text": [
      "<class 'pandas.core.frame.DataFrame'>\n",
      "RangeIndex: 9407 entries, 0 to 9406\n",
      "Data columns (total 6 columns):\n",
      " #   Column                Non-Null Count  Dtype         \n",
      "---  ------                --------------  -----         \n",
      " 0   id                    9407 non-null   Int64         \n",
      " 1   acquiring_company_id  9407 non-null   int64         \n",
      " 2   acquired_company_id   9407 non-null   int64         \n",
      " 3   term_code             1831 non-null   object        \n",
      " 4   price_amount          9407 non-null   int64         \n",
      " 5   acquired_at           9378 non-null   datetime64[ns]\n",
      "dtypes: Int64(1), datetime64[ns](1), int64(3), object(1)\n",
      "memory usage: 450.3+ KB\n",
      "<class 'pandas.core.frame.DataFrame'>\n",
      "RangeIndex: 217774 entries, 0 to 217773\n",
      "Data columns (total 22 columns):\n",
      " #   Column               Non-Null Count   Dtype         \n",
      "---  ------               --------------   -----         \n",
      " 0   company_id           217472 non-null  Int64         \n",
      " 1   name                 217472 non-null  object        \n",
      " 2   category_code        143886 non-null  object        \n",
      " 3   status               217472 non-null  object        \n",
      " 4   founded_at           109956 non-null  datetime64[ns]\n",
      " 5   closed_at            3449 non-null    datetime64[ns]\n",
      " 6   domain               147159 non-null  object        \n",
      " 7   network_username     95534 non-null   object        \n",
      " 8   country_code         108607 non-null  object        \n",
      " 9   investment_rounds    217472 non-null  Int64         \n",
      " 10  funding_rounds       217472 non-null  Int64         \n",
      " 11  funding_total        217472 non-null  float64       \n",
      " 12  milestones           217472 non-null  Int64         \n",
      " 13  funding_round_id     52928 non-null   Int64         \n",
      " 14  funding_company_id   52928 non-null   Int64         \n",
      " 15  funded_at            52680 non-null   datetime64[ns]\n",
      " 16  funding_round_type   52928 non-null   object        \n",
      " 17  raised_amount        52928 non-null   float64       \n",
      " 18  pre_money_valuation  52928 non-null   float64       \n",
      " 19  participants         52928 non-null   Int64         \n",
      " 20  is_first_round       52928 non-null   Int64         \n",
      " 21  is_last_round        52928 non-null   Int64         \n",
      "dtypes: Int64(9), datetime64[ns](3), float64(3), object(7)\n",
      "memory usage: 38.4+ MB\n",
      "<class 'pandas.core.frame.DataFrame'>\n",
      "RangeIndex: 109610 entries, 0 to 109609\n",
      "Data columns (total 4 columns):\n",
      " #   Column        Non-Null Count   Dtype         \n",
      "---  ------        --------------   -----         \n",
      " 0   id            109610 non-null  int64         \n",
      " 1   person_id     109610 non-null  int64         \n",
      " 2   institution   109555 non-null  object        \n",
      " 3   graduated_at  58054 non-null   datetime64[ns]\n",
      "dtypes: datetime64[ns](1), int64(2), object(1)\n",
      "memory usage: 3.3+ MB\n",
      "<class 'pandas.core.frame.DataFrame'>\n",
      "RangeIndex: 109610 entries, 0 to 109609\n",
      "Data columns (total 4 columns):\n",
      " #   Column       Non-Null Count   Dtype  \n",
      "---  ------       --------------   -----  \n",
      " 0   id           109610 non-null  int64  \n",
      " 1   object_id    109610 non-null  float32\n",
      " 2   degree_type  98392 non-null   object \n",
      " 3   subject      81298 non-null   object \n",
      "dtypes: float32(1), int64(1), object(2)\n",
      "memory usage: 2.9+ MB\n"
     ]
    },
    {
     "data": {
      "text/plain": [
       "None"
      ]
     },
     "metadata": {},
     "output_type": "display_data"
    },
    {
     "data": {
      "text/plain": [
       "None"
      ]
     },
     "metadata": {},
     "output_type": "display_data"
    },
    {
     "data": {
      "text/plain": [
       "None"
      ]
     },
     "metadata": {},
     "output_type": "display_data"
    },
    {
     "data": {
      "text/plain": [
       "None"
      ]
     },
     "metadata": {},
     "output_type": "display_data"
    }
   ],
   "source": [
    "# Обработка acquisition_df\n",
    "acquisition_df['acquired_at'] = pd.to_datetime(acquisition_df['acquired_at'], errors='coerce')\n",
    "acquisition_df['id'] = acquisition_df['id'].astype('Int64')\n",
    "\n",
    "# Обработка company_and_rounds_df\n",
    "date_columns = ['founded_at', 'closed_at', 'funded_at']\n",
    "\n",
    "for col in date_columns:\n",
    "    company_and_rounds_df[col] = pd.to_datetime(company_and_rounds_df[col], errors='coerce')\n",
    "    \n",
    "int_columns = ['company_id', 'investment_rounds', 'funding_rounds',  'milestones', \n",
    "                'funding_round_id', 'funding_company_id', 'participants', 'is_first_round', 'is_last_round']\n",
    "for col in int_columns:\n",
    "    company_and_rounds_df[col] = company_and_rounds_df[col].astype('Int64')\n",
    "    \n",
    "# Обработка education_df\n",
    "education_df['graduated_at'] = pd.to_datetime(education_df['graduated_at'], errors='coerce')\n",
    "\n",
    "# Обработка degrees_df\n",
    "degrees_df['object_id'] = degrees_df['object_id'].str.replace('p:', '', regex=False)\n",
    "degrees_df['object_id'] = pd.to_numeric(degrees_df['object_id'], downcast='float', errors='coerce')\n",
    "\n",
    "display(acquisition_df.info(), company_and_rounds_df.info(), education_df.info(), degrees_df.info())"
   ]
  },
  {
   "cell_type": "markdown",
   "metadata": {
    "id": "DEg1tl8DFeBn"
   },
   "source": [
    "- Названия столбцов были приведены к snake_case\n",
    "- Были проведены замены типов данных на соответствующие\n",
    "- Исправлены опечатки в названиях столбцов"
   ]
  },
  {
   "cell_type": "markdown",
   "metadata": {},
   "source": [
    "### Анализ дубликатов и пропусков\n",
    "\n",
    "Проанализируем количество пропусков в каждом датафрейме. Выведем их в абсолютном и относительном выражении:"
   ]
  },
  {
   "cell_type": "code",
   "execution_count": 5,
   "metadata": {
    "scrolled": true
   },
   "outputs": [
    {
     "name": "stdout",
     "output_type": "stream",
     "text": [
      "Пропуски acquisition_df в абсолютном выражении\n"
     ]
    },
    {
     "data": {
      "text/plain": [
       "id                         0\n",
       "acquiring_company_id       0\n",
       "acquired_company_id        0\n",
       "term_code               7576\n",
       "price_amount               0\n",
       "acquired_at               29\n",
       "dtype: int64"
      ]
     },
     "metadata": {},
     "output_type": "display_data"
    },
    {
     "name": "stdout",
     "output_type": "stream",
     "text": [
      "Пропуски acquisition_df в относительном выражении, %\n"
     ]
    },
    {
     "data": {
      "text/plain": [
       "id                       0.000000\n",
       "acquiring_company_id     0.000000\n",
       "acquired_company_id      0.000000\n",
       "term_code               80.535771\n",
       "price_amount             0.000000\n",
       "acquired_at              0.308281\n",
       "dtype: float64"
      ]
     },
     "metadata": {},
     "output_type": "display_data"
    }
   ],
   "source": [
    "#Пропуски в acquisition_df\n",
    "print('Пропуски acquisition_df в абсолютном выражении')\n",
    "display(acquisition_df.isna().sum()) #абсолютное выражение\n",
    "print('Пропуски acquisition_df в относительном выражении, %')\n",
    "display(acquisition_df.isna().sum() / len(acquisition_df) * 100) #относительное выражение в %"
   ]
  },
  {
   "cell_type": "code",
   "execution_count": 6,
   "metadata": {},
   "outputs": [
    {
     "name": "stdout",
     "output_type": "stream",
     "text": [
      "Пропуски company_and_rounds_df в абсолютном выражении\n"
     ]
    },
    {
     "data": {
      "text/plain": [
       "company_id                302\n",
       "name                      302\n",
       "category_code           73888\n",
       "status                    302\n",
       "founded_at             107818\n",
       "closed_at              214325\n",
       "domain                  70615\n",
       "network_username       122240\n",
       "country_code           109167\n",
       "investment_rounds         302\n",
       "funding_rounds            302\n",
       "funding_total             302\n",
       "milestones                302\n",
       "funding_round_id       164846\n",
       "funding_company_id     164846\n",
       "funded_at              165094\n",
       "funding_round_type     164846\n",
       "raised_amount          164846\n",
       "pre_money_valuation    164846\n",
       "participants           164846\n",
       "is_first_round         164846\n",
       "is_last_round          164846\n",
       "dtype: int64"
      ]
     },
     "metadata": {},
     "output_type": "display_data"
    },
    {
     "name": "stdout",
     "output_type": "stream",
     "text": [
      "Пропуски company_and_rounds_df в относительном выражении, %\n"
     ]
    },
    {
     "data": {
      "text/plain": [
       "company_id              0.138676\n",
       "name                    0.138676\n",
       "category_code          33.928752\n",
       "status                  0.138676\n",
       "founded_at             49.509124\n",
       "closed_at              98.416248\n",
       "domain                 32.425818\n",
       "network_username       56.131586\n",
       "country_code           50.128574\n",
       "investment_rounds       0.138676\n",
       "funding_rounds          0.138676\n",
       "funding_total           0.138676\n",
       "milestones              0.138676\n",
       "funding_round_id       75.695905\n",
       "funding_company_id     75.695905\n",
       "funded_at              75.809784\n",
       "funding_round_type     75.695905\n",
       "raised_amount          75.695905\n",
       "pre_money_valuation    75.695905\n",
       "participants           75.695905\n",
       "is_first_round         75.695905\n",
       "is_last_round          75.695905\n",
       "dtype: float64"
      ]
     },
     "metadata": {},
     "output_type": "display_data"
    }
   ],
   "source": [
    "#Пропуски в company_and_rounds_df\n",
    "print('Пропуски company_and_rounds_df в абсолютном выражении')\n",
    "display(company_and_rounds_df.isna().sum()) #абсолютное выражение\n",
    "print('Пропуски company_and_rounds_df в относительном выражении, %')\n",
    "display(company_and_rounds_df.isna().sum() / len(company_and_rounds_df) * 100) #относительное выражение в %"
   ]
  },
  {
   "cell_type": "code",
   "execution_count": 7,
   "metadata": {},
   "outputs": [
    {
     "name": "stdout",
     "output_type": "stream",
     "text": [
      "Пропуски people_df в абсолютном выражении\n"
     ]
    },
    {
     "data": {
      "text/plain": [
       "id                       0\n",
       "first_name               5\n",
       "last_name                1\n",
       "company_id          192094\n",
       "network_username    187842\n",
       "dtype: int64"
      ]
     },
     "metadata": {},
     "output_type": "display_data"
    },
    {
     "name": "stdout",
     "output_type": "stream",
     "text": [
      "Пропуски people_df в относительном выражении, %\n"
     ]
    },
    {
     "data": {
      "text/plain": [
       "id                   0.000000\n",
       "first_name           0.002205\n",
       "last_name            0.000441\n",
       "company_id          84.731528\n",
       "network_username    82.855996\n",
       "dtype: float64"
      ]
     },
     "metadata": {},
     "output_type": "display_data"
    }
   ],
   "source": [
    "#Пропуски в people_df\n",
    "print('Пропуски people_df в абсолютном выражении')\n",
    "display(people_df.isna().sum()) #абсолютное выражение\n",
    "print('Пропуски people_df в относительном выражении, %')\n",
    "display(people_df.isna().sum() / len(people_df) * 100) #относительное выражение в %"
   ]
  },
  {
   "cell_type": "code",
   "execution_count": 8,
   "metadata": {},
   "outputs": [
    {
     "name": "stdout",
     "output_type": "stream",
     "text": [
      "Пропуски education_df в абсолютном выражении\n"
     ]
    },
    {
     "data": {
      "text/plain": [
       "id                  0\n",
       "person_id           0\n",
       "institution        55\n",
       "graduated_at    51556\n",
       "dtype: int64"
      ]
     },
     "metadata": {},
     "output_type": "display_data"
    },
    {
     "name": "stdout",
     "output_type": "stream",
     "text": [
      "Пропуски education_df в относительном выражении, %\n"
     ]
    },
    {
     "data": {
      "text/plain": [
       "id               0.000000\n",
       "person_id        0.000000\n",
       "institution      0.050178\n",
       "graduated_at    47.035854\n",
       "dtype: float64"
      ]
     },
     "metadata": {},
     "output_type": "display_data"
    }
   ],
   "source": [
    "#Пропуски в education_df\n",
    "print('Пропуски education_df в абсолютном выражении')\n",
    "display(education_df.isna().sum()) #абсолютное выражение\n",
    "print('Пропуски education_df в относительном выражении, %')\n",
    "display(education_df.isna().sum() / len(education_df) * 100) #относительное выражение в %"
   ]
  },
  {
   "cell_type": "code",
   "execution_count": 9,
   "metadata": {},
   "outputs": [
    {
     "name": "stdout",
     "output_type": "stream",
     "text": [
      "Пропуски degrees_df в абсолютном выражении\n"
     ]
    },
    {
     "data": {
      "text/plain": [
       "id                 0\n",
       "object_id          0\n",
       "degree_type    11218\n",
       "subject        28312\n",
       "dtype: int64"
      ]
     },
     "metadata": {},
     "output_type": "display_data"
    },
    {
     "name": "stdout",
     "output_type": "stream",
     "text": [
      "Пропуски degrees_df в относительном выражении, %\n"
     ]
    },
    {
     "data": {
      "text/plain": [
       "id              0.000000\n",
       "object_id       0.000000\n",
       "degree_type    10.234468\n",
       "subject        25.829760\n",
       "dtype: float64"
      ]
     },
     "metadata": {},
     "output_type": "display_data"
    }
   ],
   "source": [
    "#Пропуски в degrees_df\n",
    "print('Пропуски degrees_df в абсолютном выражении')\n",
    "display(degrees_df.isna().sum()) #абсолютное выражение\n",
    "print('Пропуски degrees_df в относительном выражении, %')\n",
    "display(degrees_df.isna().sum() / len(degrees_df) * 100) #относительное выражение в %"
   ]
  },
  {
   "cell_type": "markdown",
   "metadata": {},
   "source": [
    "Анализ пропусков данных выявил критически низкую заполненность ключевых полей во всех датасетах: в acquisition_df отсутствует 80,5% вариантов расчета (term_code), в company_and_rounds_df от 75,7% до 98,4% данных о раундах финансирования и финансовых показателях, в people_df пропущено 84,7% привязок сотрудников к компаниям (company_id), в education_df отсутствует 47% дат окончания обучения (graduated_at), а в degrees_df не заполнено 25,8% специальностей (subject). Такой уровень пропусков существенно ограничивает возможности анализа и требует особой осторожности при интерпретации любых результатов"
   ]
  },
  {
   "cell_type": "markdown",
   "metadata": {},
   "source": [
    "Проанализируем полные дубликаты:"
   ]
  },
  {
   "cell_type": "code",
   "execution_count": 10,
   "metadata": {},
   "outputs": [
    {
     "name": "stdout",
     "output_type": "stream",
     "text": [
      "Полные дубликаты в датафрейме:\n",
      "acquisition -  0\n",
      "company_and_rounds -  0\n",
      "people -  0\n",
      "education -  0\n",
      "degrees -  0\n"
     ]
    }
   ],
   "source": [
    "#Проверка полных дубликатов\n",
    "print(\"Полные дубликаты в датафрейме:\")\n",
    "print(\"acquisition - \", acquisition_df.duplicated().sum())\n",
    "print(\"company_and_rounds - \", company_and_rounds_df.duplicated().sum())\n",
    "print(\"people - \", people_df.duplicated().sum())\n",
    "print(\"education - \", education_df.duplicated().sum())\n",
    "print(\"degrees - \", degrees_df.duplicated().sum())"
   ]
  },
  {
   "cell_type": "markdown",
   "metadata": {},
   "source": [
    "Полные дубликаты отсутствуют."
   ]
  },
  {
   "cell_type": "markdown",
   "metadata": {},
   "source": [
    "---\n",
    "\n",
    "### Промежуточный вывод\n",
    "\n",
    "Проведенная предобработка данных выявила системные проблемы с качеством и полнотой информации во всех датасетах. Несмотря на успешное приведение названий столбцов к snake_case и коррекцию типов данных (особенно для временных меток), анализ пропусков показал критический уровень неполноты ключевых полей: отсутствие 80,5% вариантов расчета (term_code) в acquisition_df, 75,7-98,4% данных о финансировании в company_and_rounds_df, 84,7% привязок сотрудников к компаниям в people_df, 47% дат окончания обучения в education_df и 25,8% специальностей в degrees_df. Хотя полные дубликаты отсутствуют, такой масштаб пропусков существенно ограничивает репрезентативность выборки и требует крайне осторожной интерпретации любых результатов"
   ]
  },
  {
   "cell_type": "markdown",
   "metadata": {
    "id": "u60cHsn6rJg1"
   },
   "source": [
    "## Шаг 2. Предобработка данных, предварительное исследование"
   ]
  },
  {
   "cell_type": "markdown",
   "metadata": {
    "id": "g2bHIIjcrJg1"
   },
   "source": [
    "\n",
    "### 2.1. Раунды финансирования по годам\n"
   ]
  },
  {
   "cell_type": "code",
   "execution_count": 11,
   "metadata": {
    "id": "Cf5IjfOQrJg1",
    "vscode": {
     "languageId": "plaintext"
    }
   },
   "outputs": [
    {
     "data": {
      "text/html": [
       "<div>\n",
       "<style scoped>\n",
       "    .dataframe tbody tr th:only-of-type {\n",
       "        vertical-align: middle;\n",
       "    }\n",
       "\n",
       "    .dataframe tbody tr th {\n",
       "        vertical-align: top;\n",
       "    }\n",
       "\n",
       "    .dataframe thead th {\n",
       "        text-align: right;\n",
       "    }\n",
       "</style>\n",
       "<table border=\"1\" class=\"dataframe\">\n",
       "  <thead>\n",
       "    <tr style=\"text-align: right;\">\n",
       "      <th></th>\n",
       "      <th>Год</th>\n",
       "      <th>Количество раундов</th>\n",
       "      <th>Типичный размер средств</th>\n",
       "    </tr>\n",
       "  </thead>\n",
       "  <tbody>\n",
       "    <tr>\n",
       "      <th>15</th>\n",
       "      <td>1999.0</td>\n",
       "      <td>76</td>\n",
       "      <td>2000000.0</td>\n",
       "    </tr>\n",
       "    <tr>\n",
       "      <th>16</th>\n",
       "      <td>2000.0</td>\n",
       "      <td>125</td>\n",
       "      <td>4200000.0</td>\n",
       "    </tr>\n",
       "    <tr>\n",
       "      <th>17</th>\n",
       "      <td>2001.0</td>\n",
       "      <td>96</td>\n",
       "      <td>3000000.0</td>\n",
       "    </tr>\n",
       "    <tr>\n",
       "      <th>18</th>\n",
       "      <td>2002.0</td>\n",
       "      <td>116</td>\n",
       "      <td>4200000.0</td>\n",
       "    </tr>\n",
       "    <tr>\n",
       "      <th>19</th>\n",
       "      <td>2003.0</td>\n",
       "      <td>159</td>\n",
       "      <td>3000000.0</td>\n",
       "    </tr>\n",
       "    <tr>\n",
       "      <th>20</th>\n",
       "      <td>2004.0</td>\n",
       "      <td>291</td>\n",
       "      <td>5000000.0</td>\n",
       "    </tr>\n",
       "    <tr>\n",
       "      <th>21</th>\n",
       "      <td>2005.0</td>\n",
       "      <td>1633</td>\n",
       "      <td>5500000.0</td>\n",
       "    </tr>\n",
       "    <tr>\n",
       "      <th>22</th>\n",
       "      <td>2006.0</td>\n",
       "      <td>2436</td>\n",
       "      <td>5000000.0</td>\n",
       "    </tr>\n",
       "    <tr>\n",
       "      <th>23</th>\n",
       "      <td>2007.0</td>\n",
       "      <td>3279</td>\n",
       "      <td>3973320.0</td>\n",
       "    </tr>\n",
       "    <tr>\n",
       "      <th>24</th>\n",
       "      <td>2008.0</td>\n",
       "      <td>3774</td>\n",
       "      <td>3110000.0</td>\n",
       "    </tr>\n",
       "    <tr>\n",
       "      <th>25</th>\n",
       "      <td>2009.0</td>\n",
       "      <td>4151</td>\n",
       "      <td>2000000.0</td>\n",
       "    </tr>\n",
       "    <tr>\n",
       "      <th>26</th>\n",
       "      <td>2010.0</td>\n",
       "      <td>6221</td>\n",
       "      <td>1602500.0</td>\n",
       "    </tr>\n",
       "    <tr>\n",
       "      <th>27</th>\n",
       "      <td>2011.0</td>\n",
       "      <td>9204</td>\n",
       "      <td>1200000.0</td>\n",
       "    </tr>\n",
       "    <tr>\n",
       "      <th>28</th>\n",
       "      <td>2012.0</td>\n",
       "      <td>9970</td>\n",
       "      <td>1000000.0</td>\n",
       "    </tr>\n",
       "    <tr>\n",
       "      <th>29</th>\n",
       "      <td>2013.0</td>\n",
       "      <td>11072</td>\n",
       "      <td>1200000.0</td>\n",
       "    </tr>\n",
       "  </tbody>\n",
       "</table>\n",
       "</div>"
      ],
      "text/plain": [
       "       Год  Количество раундов  Типичный размер средств\n",
       "15  1999.0                  76                2000000.0\n",
       "16  2000.0                 125                4200000.0\n",
       "17  2001.0                  96                3000000.0\n",
       "18  2002.0                 116                4200000.0\n",
       "19  2003.0                 159                3000000.0\n",
       "20  2004.0                 291                5000000.0\n",
       "21  2005.0                1633                5500000.0\n",
       "22  2006.0                2436                5000000.0\n",
       "23  2007.0                3279                3973320.0\n",
       "24  2008.0                3774                3110000.0\n",
       "25  2009.0                4151                2000000.0\n",
       "26  2010.0                6221                1602500.0\n",
       "27  2011.0                9204                1200000.0\n",
       "28  2012.0                9970                1000000.0\n",
       "29  2013.0               11072                1200000.0"
      ]
     },
     "metadata": {},
     "output_type": "display_data"
    }
   ],
   "source": [
    "# Добавим столбец в котором выделим год раунда финансирования\n",
    "company_and_rounds_df['funded_year'] = company_and_rounds_df['funded_at'].dt.year\n",
    "\n",
    "# Составим сводную табшицу\n",
    "pivot_company_and_rounds_df = company_and_rounds_df.pivot_table(index = 'funded_year',\n",
    "                                                               values = ['funding_round_id', 'raised_amount'],\n",
    "                                                               aggfunc = {'raised_amount' : 'median', 'funding_round_id' : 'count'}\n",
    "                                                               ).reset_index()\n",
    "\n",
    "# Отфильтруем информацию: оставим только те строки, где есть информация о более чем 50 раундах финансирования\n",
    "filtered_by_year = pivot_company_and_rounds_df[pivot_company_and_rounds_df['funding_round_id'] > 50]\n",
    "\n",
    "# Переименуем названия столбцов для лучшей читаемости\n",
    "filtered_by_year.columns = ['Год', 'Количество раундов', 'Типичный размер средств']\n",
    "display(filtered_by_year)"
   ]
  },
  {
   "cell_type": "markdown",
   "metadata": {
    "id": "8Fbz6KmzFdYP"
   },
   "source": [
    "Сделаем визуализацию полученных данных:"
   ]
  },
  {
   "cell_type": "code",
   "execution_count": 12,
   "metadata": {
    "id": "Z92DzKMMFdKW"
   },
   "outputs": [
    {
     "data": {
      "image/png": "[encoded data removed]",
      "text/plain": [
       "<Figure size 1440x432 with 1 Axes>"
      ]
     },
     "metadata": {
      "needs_background": "light"
     },
     "output_type": "display_data"
    }
   ],
   "source": [
    "# Для визуализации типичного размера средства будем использовать линейный график:\n",
    "filtered_by_year.plot(kind = 'line', \n",
    "                      x = 'Год', \n",
    "                      y = 'Типичный размер средств', \n",
    "                      title = 'Распределение типичного размера средств, которые стартапы получали в рамках одного раунда финансирования',\n",
    "                      xlabel = 'Год', \n",
    "                      ylabel = 'Размер средств, млн',\n",
    "                      legend = False,\n",
    "                      figsize=(20, 6))\n",
    "plt.xticks(range(1999, 2014)) #отобразим каждый год на оси ОХ\n",
    "plt.grid()\n",
    "plt.show()"
   ]
  },
  {
   "cell_type": "code",
   "execution_count": 13,
   "metadata": {},
   "outputs": [
    {
     "data": {
      "image/png": "[encoded data removed]",
      "text/plain": [
       "<Figure size 1440x432 with 1 Axes>"
      ]
     },
     "metadata": {
      "needs_background": "light"
     },
     "output_type": "display_data"
    }
   ],
   "source": [
    "# Для визуализации количества раундов финансирования будем использовать линейный график:\n",
    "filtered_by_year.plot(kind = 'line', \n",
    "                      x = 'Год', \n",
    "                      y = 'Количество раундов', \n",
    "                      title = 'Распределение количества раундов финансирования',\n",
    "                      xlabel = 'Год', \n",
    "                      ylabel = 'Раунды финансирования, кол-во',\n",
    "                      legend = False,\n",
    "                      figsize=(20, 6))\n",
    "plt.xticks(range(1999, 2014)) #отобразим каждый год на оси ОХ\n",
    "plt.grid()\n",
    "plt.show()"
   ]
  },
  {
   "cell_type": "markdown",
   "metadata": {},
   "source": [
    "Анализ данных показывает, что максимальный типичный размер средств в рамках одного раунда финансирования был достигнут в 2005 году и составил 5 500 000. Что касается тенденций 2013 года, то наблюдался противоречивый тренд: при рекордном количестве раундов финансирования (11 072) типичный размер инвестиций в один раунд значительно сократился до 1 200 000, что демонстрирует обратную зависимость между доступностью финансирования и размером отдельных инвестиционных траншей в этот период."
   ]
  },
  {
   "cell_type": "markdown",
   "metadata": {
    "id": "45if1en1rJg2"
   },
   "source": [
    "\n",
    "### 2.2. Люди и их образование\n"
   ]
  },
  {
   "cell_type": "code",
   "execution_count": 14,
   "metadata": {
    "id": "psPO7C4MrJg2",
    "vscode": {
     "languageId": "plaintext"
    }
   },
   "outputs": [
    {
     "name": "stdout",
     "output_type": "stream",
     "text": [
      "<class 'pandas.core.frame.DataFrame'>\n",
      "Int64Index: 268248 entries, 0 to 268247\n",
      "Data columns (total 9 columns):\n",
      " #   Column            Non-Null Count   Dtype         \n",
      "---  ------            --------------   -----         \n",
      " 0   id_people         267694 non-null  float64       \n",
      " 1   first_name        267689 non-null  object        \n",
      " 2   last_name         267693 non-null  object        \n",
      " 3   company_id        44789 non-null   float64       \n",
      " 4   network_username  50775 non-null   object        \n",
      " 5   id_education      109610 non-null  float64       \n",
      " 6   person_id         109610 non-null  float64       \n",
      " 7   institution       109555 non-null  object        \n",
      " 8   graduated_at      58054 non-null   datetime64[ns]\n",
      "dtypes: datetime64[ns](1), float64(4), object(4)\n",
      "memory usage: 20.5+ MB\n"
     ]
    },
    {
     "data": {
      "text/plain": [
       "None"
      ]
     },
     "metadata": {},
     "output_type": "display_data"
    },
    {
     "data": {
      "text/html": [
       "<div>\n",
       "<style scoped>\n",
       "    .dataframe tbody tr th:only-of-type {\n",
       "        vertical-align: middle;\n",
       "    }\n",
       "\n",
       "    .dataframe tbody tr th {\n",
       "        vertical-align: top;\n",
       "    }\n",
       "\n",
       "    .dataframe thead th {\n",
       "        text-align: right;\n",
       "    }\n",
       "</style>\n",
       "<table border=\"1\" class=\"dataframe\">\n",
       "  <thead>\n",
       "    <tr style=\"text-align: right;\">\n",
       "      <th></th>\n",
       "      <th>id_people</th>\n",
       "      <th>first_name</th>\n",
       "      <th>last_name</th>\n",
       "      <th>company_id</th>\n",
       "      <th>network_username</th>\n",
       "      <th>id_education</th>\n",
       "      <th>person_id</th>\n",
       "      <th>institution</th>\n",
       "      <th>graduated_at</th>\n",
       "    </tr>\n",
       "  </thead>\n",
       "  <tbody>\n",
       "    <tr>\n",
       "      <th>0</th>\n",
       "      <td>10.0</td>\n",
       "      <td>Mark</td>\n",
       "      <td>Zuckerberg</td>\n",
       "      <td>5.0</td>\n",
       "      <td>NaN</td>\n",
       "      <td>2415.0</td>\n",
       "      <td>10.0</td>\n",
       "      <td>Harvard University</td>\n",
       "      <td>NaT</td>\n",
       "    </tr>\n",
       "    <tr>\n",
       "      <th>1</th>\n",
       "      <td>100.0</td>\n",
       "      <td>Peter</td>\n",
       "      <td>Lester</td>\n",
       "      <td>27.0</td>\n",
       "      <td>NaN</td>\n",
       "      <td>NaN</td>\n",
       "      <td>NaN</td>\n",
       "      <td>NaN</td>\n",
       "      <td>NaT</td>\n",
       "    </tr>\n",
       "    <tr>\n",
       "      <th>2</th>\n",
       "      <td>1000.0</td>\n",
       "      <td>Dr. Steven</td>\n",
       "      <td>E. Saunders</td>\n",
       "      <td>292.0</td>\n",
       "      <td>NaN</td>\n",
       "      <td>NaN</td>\n",
       "      <td>NaN</td>\n",
       "      <td>NaN</td>\n",
       "      <td>NaT</td>\n",
       "    </tr>\n",
       "    <tr>\n",
       "      <th>3</th>\n",
       "      <td>10000.0</td>\n",
       "      <td>Neil</td>\n",
       "      <td>Capel</td>\n",
       "      <td>2526.0</td>\n",
       "      <td>NaN</td>\n",
       "      <td>NaN</td>\n",
       "      <td>NaN</td>\n",
       "      <td>NaN</td>\n",
       "      <td>NaT</td>\n",
       "    </tr>\n",
       "    <tr>\n",
       "      <th>4</th>\n",
       "      <td>100000.0</td>\n",
       "      <td>Sue</td>\n",
       "      <td>Pilsch</td>\n",
       "      <td>NaN</td>\n",
       "      <td>NaN</td>\n",
       "      <td>NaN</td>\n",
       "      <td>NaN</td>\n",
       "      <td>NaN</td>\n",
       "      <td>NaT</td>\n",
       "    </tr>\n",
       "  </tbody>\n",
       "</table>\n",
       "</div>"
      ],
      "text/plain": [
       "   id_people  first_name    last_name  company_id network_username  \\\n",
       "0       10.0        Mark   Zuckerberg         5.0              NaN   \n",
       "1      100.0       Peter       Lester        27.0              NaN   \n",
       "2     1000.0  Dr. Steven  E. Saunders       292.0              NaN   \n",
       "3    10000.0        Neil        Capel      2526.0              NaN   \n",
       "4   100000.0         Sue       Pilsch         NaN              NaN   \n",
       "\n",
       "   id_education  person_id         institution graduated_at  \n",
       "0        2415.0       10.0  Harvard University          NaT  \n",
       "1           NaN        NaN                 NaN          NaT  \n",
       "2           NaN        NaN                 NaN          NaT  \n",
       "3           NaN        NaN                 NaN          NaT  \n",
       "4           NaN        NaN                 NaN          NaT  "
      ]
     },
     "metadata": {},
     "output_type": "display_data"
    }
   ],
   "source": [
    "# Начнем анализ полноты сведений о сотрудниках с объединения датасетов people.csv и education.csv по столбцам\n",
    "# person_id(идентификатор работника) таблицы education и id(идентификатор сотрудника) таблицы people\n",
    "people_education_df = people_df.merge(education_df, left_on='id', right_on='person_id', suffixes=('_people', '_education'), how='outer')\n",
    "\n",
    "display(people_education_df.info(), people_education_df.head())"
   ]
  },
  {
   "cell_type": "markdown",
   "metadata": {
    "id": "4FC98Pd-FcmG"
   },
   "source": [
    "Присоеденим к объедененному датасету таблицу degrees. Переименуем и удалим дублированные столбцы."
   ]
  },
  {
   "cell_type": "code",
   "execution_count": 15,
   "metadata": {},
   "outputs": [
    {
     "name": "stdout",
     "output_type": "stream",
     "text": [
      "<class 'pandas.core.frame.DataFrame'>\n",
      "Int64Index: 371810 entries, 0 to 371809\n",
      "Data columns (total 13 columns):\n",
      " #   Column            Non-Null Count   Dtype         \n",
      "---  ------            --------------   -----         \n",
      " 0   id_people         370836 non-null  float64       \n",
      " 1   first_name        370831 non-null  object        \n",
      " 2   last_name         370835 non-null  object        \n",
      " 3   company_id        70869 non-null   float64       \n",
      " 4   network_username  81529 non-null   object        \n",
      " 5   id_education      213172 non-null  float64       \n",
      " 6   person_id         213172 non-null  float64       \n",
      " 7   institution       213082 non-null  object        \n",
      " 8   graduated_at      114615 non-null  datetime64[ns]\n",
      " 9   id                213172 non-null  float64       \n",
      " 10  object_id         213172 non-null  float32       \n",
      " 11  degree_type       191610 non-null  object        \n",
      " 12  subject           157183 non-null  object        \n",
      "dtypes: datetime64[ns](1), float32(1), float64(5), object(6)\n",
      "memory usage: 38.3+ MB\n"
     ]
    },
    {
     "data": {
      "text/plain": [
       "None"
      ]
     },
     "metadata": {},
     "output_type": "display_data"
    },
    {
     "data": {
      "text/html": [
       "<div>\n",
       "<style scoped>\n",
       "    .dataframe tbody tr th:only-of-type {\n",
       "        vertical-align: middle;\n",
       "    }\n",
       "\n",
       "    .dataframe tbody tr th {\n",
       "        vertical-align: top;\n",
       "    }\n",
       "\n",
       "    .dataframe thead th {\n",
       "        text-align: right;\n",
       "    }\n",
       "</style>\n",
       "<table border=\"1\" class=\"dataframe\">\n",
       "  <thead>\n",
       "    <tr style=\"text-align: right;\">\n",
       "      <th></th>\n",
       "      <th>id_people</th>\n",
       "      <th>first_name</th>\n",
       "      <th>last_name</th>\n",
       "      <th>company_id</th>\n",
       "      <th>network_username</th>\n",
       "      <th>id_education</th>\n",
       "      <th>person_id</th>\n",
       "      <th>institution</th>\n",
       "      <th>graduated_at</th>\n",
       "      <th>id</th>\n",
       "      <th>object_id</th>\n",
       "      <th>degree_type</th>\n",
       "      <th>subject</th>\n",
       "    </tr>\n",
       "  </thead>\n",
       "  <tbody>\n",
       "    <tr>\n",
       "      <th>0</th>\n",
       "      <td>10.0</td>\n",
       "      <td>Mark</td>\n",
       "      <td>Zuckerberg</td>\n",
       "      <td>5.0</td>\n",
       "      <td>NaN</td>\n",
       "      <td>2415.0</td>\n",
       "      <td>10.0</td>\n",
       "      <td>Harvard University</td>\n",
       "      <td>NaT</td>\n",
       "      <td>2415.0</td>\n",
       "      <td>10.0</td>\n",
       "      <td>NaN</td>\n",
       "      <td>Computer Science</td>\n",
       "    </tr>\n",
       "    <tr>\n",
       "      <th>1</th>\n",
       "      <td>100.0</td>\n",
       "      <td>Peter</td>\n",
       "      <td>Lester</td>\n",
       "      <td>27.0</td>\n",
       "      <td>NaN</td>\n",
       "      <td>NaN</td>\n",
       "      <td>NaN</td>\n",
       "      <td>NaN</td>\n",
       "      <td>NaT</td>\n",
       "      <td>NaN</td>\n",
       "      <td>NaN</td>\n",
       "      <td>NaN</td>\n",
       "      <td>NaN</td>\n",
       "    </tr>\n",
       "    <tr>\n",
       "      <th>2</th>\n",
       "      <td>1000.0</td>\n",
       "      <td>Dr. Steven</td>\n",
       "      <td>E. Saunders</td>\n",
       "      <td>292.0</td>\n",
       "      <td>NaN</td>\n",
       "      <td>NaN</td>\n",
       "      <td>NaN</td>\n",
       "      <td>NaN</td>\n",
       "      <td>NaT</td>\n",
       "      <td>NaN</td>\n",
       "      <td>NaN</td>\n",
       "      <td>NaN</td>\n",
       "      <td>NaN</td>\n",
       "    </tr>\n",
       "    <tr>\n",
       "      <th>3</th>\n",
       "      <td>10000.0</td>\n",
       "      <td>Neil</td>\n",
       "      <td>Capel</td>\n",
       "      <td>2526.0</td>\n",
       "      <td>NaN</td>\n",
       "      <td>NaN</td>\n",
       "      <td>NaN</td>\n",
       "      <td>NaN</td>\n",
       "      <td>NaT</td>\n",
       "      <td>NaN</td>\n",
       "      <td>NaN</td>\n",
       "      <td>NaN</td>\n",
       "      <td>NaN</td>\n",
       "    </tr>\n",
       "    <tr>\n",
       "      <th>4</th>\n",
       "      <td>100000.0</td>\n",
       "      <td>Sue</td>\n",
       "      <td>Pilsch</td>\n",
       "      <td>NaN</td>\n",
       "      <td>NaN</td>\n",
       "      <td>NaN</td>\n",
       "      <td>NaN</td>\n",
       "      <td>NaN</td>\n",
       "      <td>NaT</td>\n",
       "      <td>NaN</td>\n",
       "      <td>NaN</td>\n",
       "      <td>NaN</td>\n",
       "      <td>NaN</td>\n",
       "    </tr>\n",
       "  </tbody>\n",
       "</table>\n",
       "</div>"
      ],
      "text/plain": [
       "   id_people  first_name    last_name  company_id network_username  \\\n",
       "0       10.0        Mark   Zuckerberg         5.0              NaN   \n",
       "1      100.0       Peter       Lester        27.0              NaN   \n",
       "2     1000.0  Dr. Steven  E. Saunders       292.0              NaN   \n",
       "3    10000.0        Neil        Capel      2526.0              NaN   \n",
       "4   100000.0         Sue       Pilsch         NaN              NaN   \n",
       "\n",
       "   id_education  person_id         institution graduated_at      id  \\\n",
       "0        2415.0       10.0  Harvard University          NaT  2415.0   \n",
       "1           NaN        NaN                 NaN          NaT     NaN   \n",
       "2           NaN        NaN                 NaN          NaT     NaN   \n",
       "3           NaN        NaN                 NaN          NaT     NaN   \n",
       "4           NaN        NaN                 NaN          NaT     NaN   \n",
       "\n",
       "   object_id degree_type           subject  \n",
       "0       10.0         NaN  Computer Science  \n",
       "1        NaN         NaN               NaN  \n",
       "2        NaN         NaN               NaN  \n",
       "3        NaN         NaN               NaN  \n",
       "4        NaN         NaN               NaN  "
      ]
     },
     "metadata": {},
     "output_type": "display_data"
    }
   ],
   "source": [
    "people_education_degrees_df = people_education_df.merge(degrees_df, left_on='person_id', right_on='object_id', how='outer')\n",
    "\n",
    "people_education_degrees_df.rename(columns={'id' : 'id_degree'})\n",
    "\n",
    "people_education_degrees_df.drop(columns=['id_education','person_id','object_id'])\n",
    "\n",
    "display(people_education_degrees_df.info(), people_education_degrees_df.head())"
   ]
  },
  {
   "cell_type": "markdown",
   "metadata": {},
   "source": [
    "По аналогии с **Шагом 1** проверим общий датасет на полные дубликаты и при наличии удалим их:"
   ]
  },
  {
   "cell_type": "code",
   "execution_count": 16,
   "metadata": {},
   "outputs": [
    {
     "name": "stdout",
     "output_type": "stream",
     "text": [
      "Найдено дубликатов: 145100\n"
     ]
    }
   ],
   "source": [
    "dups = people_education_degrees_df.duplicated(subset=['id_people', 'first_name', 'last_name', 'company_id', \n",
    "                                                      'network_username']).sum()\n",
    "\n",
    "print(f'Найдено дубликатов: {dups}')"
   ]
  },
  {
   "cell_type": "code",
   "execution_count": 17,
   "metadata": {},
   "outputs": [
    {
     "name": "stdout",
     "output_type": "stream",
     "text": [
      "<class 'pandas.core.frame.DataFrame'>\n",
      "Int64Index: 226710 entries, 0 to 370836\n",
      "Data columns (total 13 columns):\n",
      " #   Column            Non-Null Count   Dtype         \n",
      "---  ------            --------------   -----         \n",
      " 0   id_people         226709 non-null  float64       \n",
      " 1   first_name        226704 non-null  object        \n",
      " 2   last_name         226708 non-null  object        \n",
      " 3   company_id        34615 non-null   float64       \n",
      " 4   network_username  38867 non-null   object        \n",
      " 5   id_education      68072 non-null   float64       \n",
      " 6   person_id         68072 non-null   float64       \n",
      " 7   institution       68032 non-null   object        \n",
      " 8   graduated_at      36388 non-null   datetime64[ns]\n",
      " 9   id                68072 non-null   float64       \n",
      " 10  object_id         68072 non-null   float32       \n",
      " 11  degree_type       61402 non-null   object        \n",
      " 12  subject           50809 non-null   object        \n",
      "dtypes: datetime64[ns](1), float32(1), float64(5), object(6)\n",
      "memory usage: 23.4+ MB\n"
     ]
    },
    {
     "data": {
      "text/plain": [
       "None"
      ]
     },
     "metadata": {},
     "output_type": "display_data"
    },
    {
     "data": {
      "text/html": [
       "<div>\n",
       "<style scoped>\n",
       "    .dataframe tbody tr th:only-of-type {\n",
       "        vertical-align: middle;\n",
       "    }\n",
       "\n",
       "    .dataframe tbody tr th {\n",
       "        vertical-align: top;\n",
       "    }\n",
       "\n",
       "    .dataframe thead th {\n",
       "        text-align: right;\n",
       "    }\n",
       "</style>\n",
       "<table border=\"1\" class=\"dataframe\">\n",
       "  <thead>\n",
       "    <tr style=\"text-align: right;\">\n",
       "      <th></th>\n",
       "      <th>id_people</th>\n",
       "      <th>first_name</th>\n",
       "      <th>last_name</th>\n",
       "      <th>company_id</th>\n",
       "      <th>network_username</th>\n",
       "      <th>id_education</th>\n",
       "      <th>person_id</th>\n",
       "      <th>institution</th>\n",
       "      <th>graduated_at</th>\n",
       "      <th>id</th>\n",
       "      <th>object_id</th>\n",
       "      <th>degree_type</th>\n",
       "      <th>subject</th>\n",
       "    </tr>\n",
       "  </thead>\n",
       "  <tbody>\n",
       "    <tr>\n",
       "      <th>0</th>\n",
       "      <td>10.0</td>\n",
       "      <td>Mark</td>\n",
       "      <td>Zuckerberg</td>\n",
       "      <td>5.0</td>\n",
       "      <td>NaN</td>\n",
       "      <td>2415.0</td>\n",
       "      <td>10.0</td>\n",
       "      <td>Harvard University</td>\n",
       "      <td>NaT</td>\n",
       "      <td>2415.0</td>\n",
       "      <td>10.0</td>\n",
       "      <td>NaN</td>\n",
       "      <td>Computer Science</td>\n",
       "    </tr>\n",
       "    <tr>\n",
       "      <th>1</th>\n",
       "      <td>100.0</td>\n",
       "      <td>Peter</td>\n",
       "      <td>Lester</td>\n",
       "      <td>27.0</td>\n",
       "      <td>NaN</td>\n",
       "      <td>NaN</td>\n",
       "      <td>NaN</td>\n",
       "      <td>NaN</td>\n",
       "      <td>NaT</td>\n",
       "      <td>NaN</td>\n",
       "      <td>NaN</td>\n",
       "      <td>NaN</td>\n",
       "      <td>NaN</td>\n",
       "    </tr>\n",
       "    <tr>\n",
       "      <th>2</th>\n",
       "      <td>1000.0</td>\n",
       "      <td>Dr. Steven</td>\n",
       "      <td>E. Saunders</td>\n",
       "      <td>292.0</td>\n",
       "      <td>NaN</td>\n",
       "      <td>NaN</td>\n",
       "      <td>NaN</td>\n",
       "      <td>NaN</td>\n",
       "      <td>NaT</td>\n",
       "      <td>NaN</td>\n",
       "      <td>NaN</td>\n",
       "      <td>NaN</td>\n",
       "      <td>NaN</td>\n",
       "    </tr>\n",
       "    <tr>\n",
       "      <th>3</th>\n",
       "      <td>10000.0</td>\n",
       "      <td>Neil</td>\n",
       "      <td>Capel</td>\n",
       "      <td>2526.0</td>\n",
       "      <td>NaN</td>\n",
       "      <td>NaN</td>\n",
       "      <td>NaN</td>\n",
       "      <td>NaN</td>\n",
       "      <td>NaT</td>\n",
       "      <td>NaN</td>\n",
       "      <td>NaN</td>\n",
       "      <td>NaN</td>\n",
       "      <td>NaN</td>\n",
       "    </tr>\n",
       "    <tr>\n",
       "      <th>4</th>\n",
       "      <td>100000.0</td>\n",
       "      <td>Sue</td>\n",
       "      <td>Pilsch</td>\n",
       "      <td>NaN</td>\n",
       "      <td>NaN</td>\n",
       "      <td>NaN</td>\n",
       "      <td>NaN</td>\n",
       "      <td>NaN</td>\n",
       "      <td>NaT</td>\n",
       "      <td>NaN</td>\n",
       "      <td>NaN</td>\n",
       "      <td>NaN</td>\n",
       "      <td>NaN</td>\n",
       "    </tr>\n",
       "  </tbody>\n",
       "</table>\n",
       "</div>"
      ],
      "text/plain": [
       "   id_people  first_name    last_name  company_id network_username  \\\n",
       "0       10.0        Mark   Zuckerberg         5.0              NaN   \n",
       "1      100.0       Peter       Lester        27.0              NaN   \n",
       "2     1000.0  Dr. Steven  E. Saunders       292.0              NaN   \n",
       "3    10000.0        Neil        Capel      2526.0              NaN   \n",
       "4   100000.0         Sue       Pilsch         NaN              NaN   \n",
       "\n",
       "   id_education  person_id         institution graduated_at      id  \\\n",
       "0        2415.0       10.0  Harvard University          NaT  2415.0   \n",
       "1           NaN        NaN                 NaN          NaT     NaN   \n",
       "2           NaN        NaN                 NaN          NaT     NaN   \n",
       "3           NaN        NaN                 NaN          NaT     NaN   \n",
       "4           NaN        NaN                 NaN          NaT     NaN   \n",
       "\n",
       "   object_id degree_type           subject  \n",
       "0       10.0         NaN  Computer Science  \n",
       "1        NaN         NaN               NaN  \n",
       "2        NaN         NaN               NaN  \n",
       "3        NaN         NaN               NaN  \n",
       "4        NaN         NaN               NaN  "
      ]
     },
     "metadata": {},
     "output_type": "display_data"
    }
   ],
   "source": [
    "people_education_degrees_df_wo_dups = people_education_degrees_df.copy() #добавил .copy()\n",
    "people_education_degrees_df_wo_dups = people_education_degrees_df_wo_dups.drop_duplicates(subset=['id_people', 'first_name', 'last_name', 'company_id', \n",
    "                                                      'network_username'])\n",
    "\n",
    "display(people_education_degrees_df_wo_dups.info(), people_education_degrees_df_wo_dups.head())"
   ]
  },
  {
   "cell_type": "markdown",
   "metadata": {},
   "source": [
    "Далее для анализа создадим столбец-индикатор `educated_true` со значением **1**, если есть дата окончания обучения, либо если есть информация о типе образования, и **0** если наоборот."
   ]
  },
  {
   "cell_type": "code",
   "execution_count": 18,
   "metadata": {},
   "outputs": [
    {
     "name": "stdout",
     "output_type": "stream",
     "text": [
      "<class 'pandas.core.frame.DataFrame'>\n",
      "Int64Index: 226710 entries, 0 to 370836\n",
      "Data columns (total 14 columns):\n",
      " #   Column            Non-Null Count   Dtype         \n",
      "---  ------            --------------   -----         \n",
      " 0   id_people         226709 non-null  float64       \n",
      " 1   first_name        226704 non-null  object        \n",
      " 2   last_name         226708 non-null  object        \n",
      " 3   company_id        34615 non-null   float64       \n",
      " 4   network_username  38867 non-null   object        \n",
      " 5   id_education      68072 non-null   float64       \n",
      " 6   person_id         68072 non-null   float64       \n",
      " 7   institution       68032 non-null   object        \n",
      " 8   graduated_at      36388 non-null   datetime64[ns]\n",
      " 9   id                68072 non-null   float64       \n",
      " 10  object_id         68072 non-null   float32       \n",
      " 11  degree_type       61402 non-null   object        \n",
      " 12  subject           50809 non-null   object        \n",
      " 13  educated_true     226710 non-null  int64         \n",
      "dtypes: datetime64[ns](1), float32(1), float64(5), int64(1), object(6)\n",
      "memory usage: 25.1+ MB\n"
     ]
    },
    {
     "data": {
      "text/plain": [
       "None"
      ]
     },
     "metadata": {},
     "output_type": "display_data"
    },
    {
     "data": {
      "text/html": [
       "<div>\n",
       "<style scoped>\n",
       "    .dataframe tbody tr th:only-of-type {\n",
       "        vertical-align: middle;\n",
       "    }\n",
       "\n",
       "    .dataframe tbody tr th {\n",
       "        vertical-align: top;\n",
       "    }\n",
       "\n",
       "    .dataframe thead th {\n",
       "        text-align: right;\n",
       "    }\n",
       "</style>\n",
       "<table border=\"1\" class=\"dataframe\">\n",
       "  <thead>\n",
       "    <tr style=\"text-align: right;\">\n",
       "      <th></th>\n",
       "      <th>id_people</th>\n",
       "      <th>first_name</th>\n",
       "      <th>last_name</th>\n",
       "      <th>company_id</th>\n",
       "      <th>network_username</th>\n",
       "      <th>id_education</th>\n",
       "      <th>person_id</th>\n",
       "      <th>institution</th>\n",
       "      <th>graduated_at</th>\n",
       "      <th>id</th>\n",
       "      <th>object_id</th>\n",
       "      <th>degree_type</th>\n",
       "      <th>subject</th>\n",
       "      <th>educated_true</th>\n",
       "    </tr>\n",
       "  </thead>\n",
       "  <tbody>\n",
       "    <tr>\n",
       "      <th>0</th>\n",
       "      <td>10.0</td>\n",
       "      <td>Mark</td>\n",
       "      <td>Zuckerberg</td>\n",
       "      <td>5.0</td>\n",
       "      <td>NaN</td>\n",
       "      <td>2415.0</td>\n",
       "      <td>10.0</td>\n",
       "      <td>Harvard University</td>\n",
       "      <td>NaT</td>\n",
       "      <td>2415.0</td>\n",
       "      <td>10.0</td>\n",
       "      <td>NaN</td>\n",
       "      <td>Computer Science</td>\n",
       "      <td>0</td>\n",
       "    </tr>\n",
       "    <tr>\n",
       "      <th>1</th>\n",
       "      <td>100.0</td>\n",
       "      <td>Peter</td>\n",
       "      <td>Lester</td>\n",
       "      <td>27.0</td>\n",
       "      <td>NaN</td>\n",
       "      <td>NaN</td>\n",
       "      <td>NaN</td>\n",
       "      <td>NaN</td>\n",
       "      <td>NaT</td>\n",
       "      <td>NaN</td>\n",
       "      <td>NaN</td>\n",
       "      <td>NaN</td>\n",
       "      <td>NaN</td>\n",
       "      <td>0</td>\n",
       "    </tr>\n",
       "    <tr>\n",
       "      <th>2</th>\n",
       "      <td>1000.0</td>\n",
       "      <td>Dr. Steven</td>\n",
       "      <td>E. Saunders</td>\n",
       "      <td>292.0</td>\n",
       "      <td>NaN</td>\n",
       "      <td>NaN</td>\n",
       "      <td>NaN</td>\n",
       "      <td>NaN</td>\n",
       "      <td>NaT</td>\n",
       "      <td>NaN</td>\n",
       "      <td>NaN</td>\n",
       "      <td>NaN</td>\n",
       "      <td>NaN</td>\n",
       "      <td>0</td>\n",
       "    </tr>\n",
       "    <tr>\n",
       "      <th>3</th>\n",
       "      <td>10000.0</td>\n",
       "      <td>Neil</td>\n",
       "      <td>Capel</td>\n",
       "      <td>2526.0</td>\n",
       "      <td>NaN</td>\n",
       "      <td>NaN</td>\n",
       "      <td>NaN</td>\n",
       "      <td>NaN</td>\n",
       "      <td>NaT</td>\n",
       "      <td>NaN</td>\n",
       "      <td>NaN</td>\n",
       "      <td>NaN</td>\n",
       "      <td>NaN</td>\n",
       "      <td>0</td>\n",
       "    </tr>\n",
       "    <tr>\n",
       "      <th>4</th>\n",
       "      <td>100000.0</td>\n",
       "      <td>Sue</td>\n",
       "      <td>Pilsch</td>\n",
       "      <td>NaN</td>\n",
       "      <td>NaN</td>\n",
       "      <td>NaN</td>\n",
       "      <td>NaN</td>\n",
       "      <td>NaN</td>\n",
       "      <td>NaT</td>\n",
       "      <td>NaN</td>\n",
       "      <td>NaN</td>\n",
       "      <td>NaN</td>\n",
       "      <td>NaN</td>\n",
       "      <td>0</td>\n",
       "    </tr>\n",
       "    <tr>\n",
       "      <th>...</th>\n",
       "      <td>...</td>\n",
       "      <td>...</td>\n",
       "      <td>...</td>\n",
       "      <td>...</td>\n",
       "      <td>...</td>\n",
       "      <td>...</td>\n",
       "      <td>...</td>\n",
       "      <td>...</td>\n",
       "      <td>...</td>\n",
       "      <td>...</td>\n",
       "      <td>...</td>\n",
       "      <td>...</td>\n",
       "      <td>...</td>\n",
       "      <td>...</td>\n",
       "    </tr>\n",
       "    <tr>\n",
       "      <th>370813</th>\n",
       "      <td>99979.0</td>\n",
       "      <td>Stephen</td>\n",
       "      <td>Ufford</td>\n",
       "      <td>NaN</td>\n",
       "      <td>NaN</td>\n",
       "      <td>65955.0</td>\n",
       "      <td>99979.0</td>\n",
       "      <td>Hard Knocks</td>\n",
       "      <td>NaT</td>\n",
       "      <td>65955.0</td>\n",
       "      <td>99979.0</td>\n",
       "      <td>PhD</td>\n",
       "      <td>Building Startups on a Budget, Tech</td>\n",
       "      <td>1</td>\n",
       "    </tr>\n",
       "    <tr>\n",
       "      <th>370814</th>\n",
       "      <td>9998.0</td>\n",
       "      <td>Eric</td>\n",
       "      <td>Jensen</td>\n",
       "      <td>1607.0</td>\n",
       "      <td>ej</td>\n",
       "      <td>41088.0</td>\n",
       "      <td>9998.0</td>\n",
       "      <td>Illinois Institute of Technology</td>\n",
       "      <td>2006-01-01</td>\n",
       "      <td>41088.0</td>\n",
       "      <td>9998.0</td>\n",
       "      <td>PhD</td>\n",
       "      <td>Computer Science</td>\n",
       "      <td>1</td>\n",
       "    </tr>\n",
       "    <tr>\n",
       "      <th>370815</th>\n",
       "      <td>99983.0</td>\n",
       "      <td>Scott</td>\n",
       "      <td>Mustard</td>\n",
       "      <td>NaN</td>\n",
       "      <td>ScottMustard</td>\n",
       "      <td>14429.0</td>\n",
       "      <td>99983.0</td>\n",
       "      <td>Harvard Business School</td>\n",
       "      <td>NaT</td>\n",
       "      <td>14429.0</td>\n",
       "      <td>99983.0</td>\n",
       "      <td>NaN</td>\n",
       "      <td>NaN</td>\n",
       "      <td>0</td>\n",
       "    </tr>\n",
       "    <tr>\n",
       "      <th>370819</th>\n",
       "      <td>99988.0</td>\n",
       "      <td>Imran</td>\n",
       "      <td>Ghory</td>\n",
       "      <td>64683.0</td>\n",
       "      <td>imranghory</td>\n",
       "      <td>14431.0</td>\n",
       "      <td>99988.0</td>\n",
       "      <td>Bristol University</td>\n",
       "      <td>2004-01-01</td>\n",
       "      <td>14431.0</td>\n",
       "      <td>99988.0</td>\n",
       "      <td>BS</td>\n",
       "      <td>Maths and Computer Science</td>\n",
       "      <td>1</td>\n",
       "    </tr>\n",
       "    <tr>\n",
       "      <th>370820</th>\n",
       "      <td>99990.0</td>\n",
       "      <td>Tzvi</td>\n",
       "      <td>Milshtein</td>\n",
       "      <td>81971.0</td>\n",
       "      <td>NaN</td>\n",
       "      <td>14547.0</td>\n",
       "      <td>99990.0</td>\n",
       "      <td>Technion</td>\n",
       "      <td>1971-01-01</td>\n",
       "      <td>14547.0</td>\n",
       "      <td>99990.0</td>\n",
       "      <td>engineering</td>\n",
       "      <td>NaN</td>\n",
       "      <td>1</td>\n",
       "    </tr>\n",
       "  </tbody>\n",
       "</table>\n",
       "<p>226705 rows × 14 columns</p>\n",
       "</div>"
      ],
      "text/plain": [
       "        id_people  first_name    last_name  company_id network_username  \\\n",
       "0            10.0        Mark   Zuckerberg         5.0              NaN   \n",
       "1           100.0       Peter       Lester        27.0              NaN   \n",
       "2          1000.0  Dr. Steven  E. Saunders       292.0              NaN   \n",
       "3         10000.0        Neil        Capel      2526.0              NaN   \n",
       "4        100000.0         Sue       Pilsch         NaN              NaN   \n",
       "...           ...         ...          ...         ...              ...   \n",
       "370813    99979.0     Stephen       Ufford         NaN              NaN   \n",
       "370814     9998.0        Eric       Jensen      1607.0               ej   \n",
       "370815    99983.0       Scott      Mustard         NaN     ScottMustard   \n",
       "370819    99988.0       Imran        Ghory     64683.0       imranghory   \n",
       "370820    99990.0        Tzvi    Milshtein     81971.0              NaN   \n",
       "\n",
       "        id_education  person_id                       institution  \\\n",
       "0             2415.0       10.0                Harvard University   \n",
       "1                NaN        NaN                               NaN   \n",
       "2                NaN        NaN                               NaN   \n",
       "3                NaN        NaN                               NaN   \n",
       "4                NaN        NaN                               NaN   \n",
       "...              ...        ...                               ...   \n",
       "370813       65955.0    99979.0                       Hard Knocks   \n",
       "370814       41088.0     9998.0  Illinois Institute of Technology   \n",
       "370815       14429.0    99983.0           Harvard Business School   \n",
       "370819       14431.0    99988.0                Bristol University   \n",
       "370820       14547.0    99990.0                          Technion   \n",
       "\n",
       "       graduated_at       id  object_id  degree_type  \\\n",
       "0               NaT   2415.0       10.0          NaN   \n",
       "1               NaT      NaN        NaN          NaN   \n",
       "2               NaT      NaN        NaN          NaN   \n",
       "3               NaT      NaN        NaN          NaN   \n",
       "4               NaT      NaN        NaN          NaN   \n",
       "...             ...      ...        ...          ...   \n",
       "370813          NaT  65955.0    99979.0          PhD   \n",
       "370814   2006-01-01  41088.0     9998.0          PhD   \n",
       "370815          NaT  14429.0    99983.0          NaN   \n",
       "370819   2004-01-01  14431.0    99988.0           BS   \n",
       "370820   1971-01-01  14547.0    99990.0  engineering   \n",
       "\n",
       "                                    subject  educated_true  \n",
       "0                          Computer Science              0  \n",
       "1                                       NaN              0  \n",
       "2                                       NaN              0  \n",
       "3                                       NaN              0  \n",
       "4                                       NaN              0  \n",
       "...                                     ...            ...  \n",
       "370813  Building Startups on a Budget, Tech              1  \n",
       "370814                     Computer Science              1  \n",
       "370815                                  NaN              0  \n",
       "370819           Maths and Computer Science              1  \n",
       "370820                                  NaN              1  \n",
       "\n",
       "[226705 rows x 14 columns]"
      ]
     },
     "metadata": {},
     "output_type": "display_data"
    }
   ],
   "source": [
    "people_education_degrees_df_wo_dups['educated_true'] = 0 # Создаем сам столбец-индикатор и по-умолчанию делаем значение 0\n",
    "people_education_degrees_df_wo_dups.loc[people_education_degrees_df_wo_dups['graduated_at'].notna() | \n",
    "                                        people_education_degrees_df_wo_dups['degree_type'].notna(), 'educated_true'] = 1\n",
    "\n",
    "display(people_education_degrees_df_wo_dups.info(),people_education_degrees_df_wo_dups.head(-5))"
   ]
  },
  {
   "cell_type": "markdown",
   "metadata": {},
   "source": [
    "Проведем группировку датасета по компаниям и сделаем рассчет количества всего штата компании и количества сотрудников с образованием для каждой компании."
   ]
  },
  {
   "cell_type": "code",
   "execution_count": 19,
   "metadata": {},
   "outputs": [
    {
     "data": {
      "text/html": [
       "<div>\n",
       "<style scoped>\n",
       "    .dataframe tbody tr th:only-of-type {\n",
       "        vertical-align: middle;\n",
       "    }\n",
       "\n",
       "    .dataframe tbody tr th {\n",
       "        vertical-align: top;\n",
       "    }\n",
       "\n",
       "    .dataframe thead th {\n",
       "        text-align: right;\n",
       "    }\n",
       "</style>\n",
       "<table border=\"1\" class=\"dataframe\">\n",
       "  <thead>\n",
       "    <tr style=\"text-align: right;\">\n",
       "      <th></th>\n",
       "      <th>count</th>\n",
       "      <th>sum</th>\n",
       "    </tr>\n",
       "    <tr>\n",
       "      <th>company_id</th>\n",
       "      <th></th>\n",
       "      <th></th>\n",
       "    </tr>\n",
       "  </thead>\n",
       "  <tbody>\n",
       "    <tr>\n",
       "      <th>59.0</th>\n",
       "      <td>244</td>\n",
       "      <td>163</td>\n",
       "    </tr>\n",
       "    <tr>\n",
       "      <th>29.0</th>\n",
       "      <td>150</td>\n",
       "      <td>107</td>\n",
       "    </tr>\n",
       "    <tr>\n",
       "      <th>1242.0</th>\n",
       "      <td>138</td>\n",
       "      <td>98</td>\n",
       "    </tr>\n",
       "    <tr>\n",
       "      <th>231067.0</th>\n",
       "      <td>72</td>\n",
       "      <td>51</td>\n",
       "    </tr>\n",
       "    <tr>\n",
       "      <th>499.0</th>\n",
       "      <td>63</td>\n",
       "      <td>41</td>\n",
       "    </tr>\n",
       "    <tr>\n",
       "      <th>...</th>\n",
       "      <td>...</td>\n",
       "      <td>...</td>\n",
       "    </tr>\n",
       "    <tr>\n",
       "      <th>285278.0</th>\n",
       "      <td>1</td>\n",
       "      <td>0</td>\n",
       "    </tr>\n",
       "    <tr>\n",
       "      <th>285380.0</th>\n",
       "      <td>1</td>\n",
       "      <td>0</td>\n",
       "    </tr>\n",
       "    <tr>\n",
       "      <th>285398.0</th>\n",
       "      <td>1</td>\n",
       "      <td>0</td>\n",
       "    </tr>\n",
       "    <tr>\n",
       "      <th>285446.0</th>\n",
       "      <td>1</td>\n",
       "      <td>0</td>\n",
       "    </tr>\n",
       "    <tr>\n",
       "      <th>285953.0</th>\n",
       "      <td>1</td>\n",
       "      <td>0</td>\n",
       "    </tr>\n",
       "  </tbody>\n",
       "</table>\n",
       "<p>22922 rows × 2 columns</p>\n",
       "</div>"
      ],
      "text/plain": [
       "            count  sum\n",
       "company_id            \n",
       "59.0          244  163\n",
       "29.0          150  107\n",
       "1242.0        138   98\n",
       "231067.0       72   51\n",
       "499.0          63   41\n",
       "...           ...  ...\n",
       "285278.0        1    0\n",
       "285380.0        1    0\n",
       "285398.0        1    0\n",
       "285446.0        1    0\n",
       "285953.0        1    0\n",
       "\n",
       "[22922 rows x 2 columns]"
      ]
     },
     "metadata": {},
     "output_type": "display_data"
    }
   ],
   "source": [
    "people_education_degrees_df_wo_dups_grouped = people_education_degrees_df_wo_dups.groupby('company_id')['educated_true'].agg(['count', 'sum']).sort_values(by=['count','sum'], ascending=False)\n",
    "\n",
    "display(people_education_degrees_df_wo_dups_grouped)"
   ]
  },
  {
   "cell_type": "markdown",
   "metadata": {},
   "source": [
    "**Стандартная бизнес-классификация компаний по численности персонала**\n",
    "\n",
    "Категории:\n",
    "- Микропредприятия (1-10 сотрудников\n",
    "- Малые предприятия (11-50 сотрудников)\n",
    "- Средние предприятия (51-250 сотрудников\n",
    "- Крупные предприятия (251-1000 сотрудников)\n",
    "- Крупнейшие предприятия (1000+ сотрудников)\n",
    "\n",
    "Данная классификация является международным стандартом для анализа бизнеса. Она разделяет компании по количеству сотрудников на пять основных категорий, где микропредприятия представляют наименьшие формы бизнеса, а крупнейшие - корпорации с максимальным штатом. Малые и средние предприятия (МСП) часто рассматриваются как единая категория, составляющая основу экономики."
   ]
  },
  {
   "cell_type": "code",
   "execution_count": 20,
   "metadata": {},
   "outputs": [
    {
     "data": {
      "text/html": [
       "<div>\n",
       "<style scoped>\n",
       "    .dataframe tbody tr th:only-of-type {\n",
       "        vertical-align: middle;\n",
       "    }\n",
       "\n",
       "    .dataframe tbody tr th {\n",
       "        vertical-align: top;\n",
       "    }\n",
       "\n",
       "    .dataframe thead th {\n",
       "        text-align: right;\n",
       "    }\n",
       "</style>\n",
       "<table border=\"1\" class=\"dataframe\">\n",
       "  <thead>\n",
       "    <tr style=\"text-align: right;\">\n",
       "      <th></th>\n",
       "      <th>count</th>\n",
       "      <th>sum</th>\n",
       "      <th>company_size</th>\n",
       "    </tr>\n",
       "    <tr>\n",
       "      <th>company_id</th>\n",
       "      <th></th>\n",
       "      <th></th>\n",
       "      <th></th>\n",
       "    </tr>\n",
       "  </thead>\n",
       "  <tbody>\n",
       "    <tr>\n",
       "      <th>59.0</th>\n",
       "      <td>244</td>\n",
       "      <td>163</td>\n",
       "      <td>medium (51-250)</td>\n",
       "    </tr>\n",
       "    <tr>\n",
       "      <th>29.0</th>\n",
       "      <td>150</td>\n",
       "      <td>107</td>\n",
       "      <td>medium (51-250)</td>\n",
       "    </tr>\n",
       "    <tr>\n",
       "      <th>1242.0</th>\n",
       "      <td>138</td>\n",
       "      <td>98</td>\n",
       "      <td>medium (51-250)</td>\n",
       "    </tr>\n",
       "    <tr>\n",
       "      <th>231067.0</th>\n",
       "      <td>72</td>\n",
       "      <td>51</td>\n",
       "      <td>medium (51-250)</td>\n",
       "    </tr>\n",
       "    <tr>\n",
       "      <th>499.0</th>\n",
       "      <td>63</td>\n",
       "      <td>41</td>\n",
       "      <td>medium (51-250)</td>\n",
       "    </tr>\n",
       "    <tr>\n",
       "      <th>...</th>\n",
       "      <td>...</td>\n",
       "      <td>...</td>\n",
       "      <td>...</td>\n",
       "    </tr>\n",
       "    <tr>\n",
       "      <th>285278.0</th>\n",
       "      <td>1</td>\n",
       "      <td>0</td>\n",
       "      <td>micro (1-10)</td>\n",
       "    </tr>\n",
       "    <tr>\n",
       "      <th>285380.0</th>\n",
       "      <td>1</td>\n",
       "      <td>0</td>\n",
       "      <td>micro (1-10)</td>\n",
       "    </tr>\n",
       "    <tr>\n",
       "      <th>285398.0</th>\n",
       "      <td>1</td>\n",
       "      <td>0</td>\n",
       "      <td>micro (1-10)</td>\n",
       "    </tr>\n",
       "    <tr>\n",
       "      <th>285446.0</th>\n",
       "      <td>1</td>\n",
       "      <td>0</td>\n",
       "      <td>micro (1-10)</td>\n",
       "    </tr>\n",
       "    <tr>\n",
       "      <th>285953.0</th>\n",
       "      <td>1</td>\n",
       "      <td>0</td>\n",
       "      <td>micro (1-10)</td>\n",
       "    </tr>\n",
       "  </tbody>\n",
       "</table>\n",
       "<p>22922 rows × 3 columns</p>\n",
       "</div>"
      ],
      "text/plain": [
       "            count  sum     company_size\n",
       "company_id                             \n",
       "59.0          244  163  medium (51-250)\n",
       "29.0          150  107  medium (51-250)\n",
       "1242.0        138   98  medium (51-250)\n",
       "231067.0       72   51  medium (51-250)\n",
       "499.0          63   41  medium (51-250)\n",
       "...           ...  ...              ...\n",
       "285278.0        1    0     micro (1-10)\n",
       "285380.0        1    0     micro (1-10)\n",
       "285398.0        1    0     micro (1-10)\n",
       "285446.0        1    0     micro (1-10)\n",
       "285953.0        1    0     micro (1-10)\n",
       "\n",
       "[22922 rows x 3 columns]"
      ]
     },
     "metadata": {},
     "output_type": "display_data"
    }
   ],
   "source": [
    "def categorize_company_size_standard(employee_count):\n",
    "    if pd.isna(employee_count):\n",
    "        return 'unknown'\n",
    "    elif employee_count <= 10:\n",
    "        return 'micro (1-10)'\n",
    "    elif employee_count <= 50:\n",
    "        return 'small (11-50)'\n",
    "    elif employee_count <= 250:\n",
    "        return 'medium (51-250)'\n",
    "    elif employee_count <= 1000:\n",
    "        return 'large (251-1000)'\n",
    "    else:\n",
    "        return 'enterprise (1000+)'\n",
    "\n",
    "people_education_degrees_df_wo_dups_grouped['company_size'] = people_education_degrees_df_wo_dups_grouped['count'].apply(categorize_company_size_standard)\n",
    "\n",
    "display(people_education_degrees_df_wo_dups_grouped)"
   ]
  },
  {
   "cell_type": "markdown",
   "metadata": {},
   "source": [
    "Для простоты анализа составим сводную таблицу отражающую тип предприятия, количество сотрудников с образованием, весь штат компании и отношения работников с образованием к общему числу сотрудников(в процентах)."
   ]
  },
  {
   "cell_type": "code",
   "execution_count": 21,
   "metadata": {},
   "outputs": [
    {
     "data": {
      "text/html": [
       "<div>\n",
       "<style scoped>\n",
       "    .dataframe tbody tr th:only-of-type {\n",
       "        vertical-align: middle;\n",
       "    }\n",
       "\n",
       "    .dataframe tbody tr th {\n",
       "        vertical-align: top;\n",
       "    }\n",
       "\n",
       "    .dataframe thead th {\n",
       "        text-align: right;\n",
       "    }\n",
       "</style>\n",
       "<table border=\"1\" class=\"dataframe\">\n",
       "  <thead>\n",
       "    <tr style=\"text-align: right;\">\n",
       "      <th></th>\n",
       "      <th>count</th>\n",
       "      <th>sum</th>\n",
       "      <th>relative_value</th>\n",
       "    </tr>\n",
       "    <tr>\n",
       "      <th>company_size</th>\n",
       "      <th></th>\n",
       "      <th></th>\n",
       "      <th></th>\n",
       "    </tr>\n",
       "  </thead>\n",
       "  <tbody>\n",
       "    <tr>\n",
       "      <th>medium (51-250)</th>\n",
       "      <td>891</td>\n",
       "      <td>600</td>\n",
       "      <td>67.340067</td>\n",
       "    </tr>\n",
       "    <tr>\n",
       "      <th>small (11-50)</th>\n",
       "      <td>1777</td>\n",
       "      <td>989</td>\n",
       "      <td>55.655599</td>\n",
       "    </tr>\n",
       "    <tr>\n",
       "      <th>micro (1-10)</th>\n",
       "      <td>31947</td>\n",
       "      <td>16015</td>\n",
       "      <td>50.129903</td>\n",
       "    </tr>\n",
       "  </tbody>\n",
       "</table>\n",
       "</div>"
      ],
      "text/plain": [
       "                 count    sum  relative_value\n",
       "company_size                                 \n",
       "medium (51-250)    891    600       67.340067\n",
       "small (11-50)     1777    989       55.655599\n",
       "micro (1-10)     31947  16015       50.129903"
      ]
     },
     "metadata": {},
     "output_type": "display_data"
    }
   ],
   "source": [
    "pivot_company = people_education_degrees_df_wo_dups_grouped.pivot_table(values=['count', 'sum'],\n",
    "                                                                        index='company_size',\n",
    "                                                                        aggfunc='sum', \n",
    "                                                                        fill_value=0\n",
    ")\n",
    "\n",
    "pivot_company['relative_value'] = pivot_company['sum'] / pivot_company['count'] * 100\n",
    "\n",
    "pivot_company = pivot_company.sort_values(by='relative_value', ascending=False)\n",
    "\n",
    "display(pivot_company)"
   ]
  },
  {
   "cell_type": "markdown",
   "metadata": {},
   "source": [
    "Анализ полноты информации об образовании сотрудников показал крайне низкий уровень заполненности данных. После объединения таблиц people.csv и education.csv и последующего присоединения degrees.csv было выявлено, что только около 30% сотрудников имеют какую-либо информацию об образовании. При разделении компаний на стандартные категории по численности персонала обнаружилась четкая зависимость: в средних предприятиях (51-250 сотрудников) доля сотрудников с информацией об образовании составляет 67,3%, в малых предприятиях (11-50 сотрудников) - 55,7%, а в микропредприятиях (1-10 сотрудников) - лишь 50,1%. Это свидетельствует о том, что крупные компании склонны вести более организованный учет данных о сотрудниках.\n",
    "\n",
    "Что касается возможности присоединения таблицы degrees.csv, анализ показал, что это выполнимо через столбец object_id, однако ценность такого объединения ограничена. Несмотря на техническую возможность соединения таблиц через преобразованный столбец object_id (после удаления префикса \"p:\"), практическая польза от этого невелика из-за высокого уровня пропусков в данных об образовании. Таким образом, добавление degrees.csv не значительно улучшает полноту данных, а лишь немного дополняет имеющуюся информацию."
   ]
  },
  {
   "cell_type": "markdown",
   "metadata": {
    "id": "Lz7qjM32xglW"
   },
   "source": [
    "### 2.3. Объединять или не объединять — вот в чём вопрос\n",
    "\n"
   ]
  },
  {
   "cell_type": "code",
   "execution_count": 22,
   "metadata": {
    "id": "zyI3rt0rxg1O"
   },
   "outputs": [
    {
     "name": "stdout",
     "output_type": "stream",
     "text": [
      "Количество значений во множестве company_and_rounds_network_usernames: 79571\n",
      "Количество значений во множестве people_network_usernames: 38421\n",
      "Количество пересечений двух множеств: 2199\n",
      "Относительная величина пересекающихся значений от company_and_rounds_network_usernames, %: 2.76\n",
      "Относительная величина пересекающихся значений от people_network_usernames, %: 5.72\n"
     ]
    }
   ],
   "source": [
    "# Выполним поставленную задачу, используя множества:\n",
    "\n",
    "# Создадим 2 множества, очистив таблицы company_and_rounds_df и people_df от Nan значений(пропусков) в поле 'network_username'\n",
    "company_and_rounds_network_usernames = set(company_and_rounds_df['network_username'].dropna())\n",
    "people_network_usernames = set(people_df['network_username'].dropna())\n",
    "\n",
    "# Найдем пересечения во множествах используя логическое умножение (&, Конъюнкицю):\n",
    "merged_user_names = company_and_rounds_network_usernames & people_network_usernames\n",
    "\n",
    "# Проанализируем полученные данные:\n",
    "print(f'Количество значений во множестве company_and_rounds_network_usernames: {len(company_and_rounds_network_usernames)}')\n",
    "print(f'Количество значений во множестве people_network_usernames: {len(people_network_usernames)}')\n",
    "print(f'Количество пересечений двух множеств: {len(merged_user_names)}')\n",
    "print(f'Относительная величина пересекающихся значений от company_and_rounds_network_usernames, %: {round((len(merged_user_names)/len(company_and_rounds_network_usernames)) * 100, 2)}')\n",
    "print(f'Относительная величина пересекающихся значений от people_network_usernames, %: {round((len(merged_user_names)/len(people_network_usernames)) * 100, 2)}')"
   ]
  },
  {
   "cell_type": "markdown",
   "metadata": {
    "id": "RxOS5rwmFcNW"
   },
   "source": [
    "Анализ возможности использования столбца `network_username` для объединения данных показывает, что этот атрибут не подходит для надежного соединения таблиц, поскольку наблюдается крайне низкий уровень соответствия значений: из 79 571 уникального имени в датасете компаний и 38 421 в датасете людей только 2 199 значений совпадают, что составляет лишь 2,76% от общего числа записей в `company_and_rounds_df` и 5,72% в `people_df`. Такой незначительный процент пересечений указывает на то, что столбец `network_username` не является универсальным идентификатором и его использование для объединения приведет к потере подавляющего большинства данных, делая результирующую выборку нерепрезентативной."
   ]
  },
  {
   "cell_type": "markdown",
   "metadata": {
    "id": "EHcODomVrJg1"
   },
   "source": [
    "\n",
    "### 2.4. Проблемный датасет и причина возникновения пропусков\n",
    "\n",
    "Во время собственного анализа данных у заказчика больше всего вопросов возникло к датасету `company_and_rounds.csv`. В нём много пропусков как раз в информации о раундах, которая заказчику важна.\n",
    "\n",
    "- Любым удобным способом приведите данные в вид, который позволит в дальнейшем проводить анализ в разрезе отдельных компаний. Обратите внимание на структуру датасета, порядок и названия столбцов, проанализируйте значения.\n",
    "\n",
    "По гипотезе заказчика данные по компаниям из этой таблицы раньше хранились иначе, более удобным для исследования образом.\n",
    "\n",
    "- Максимальным образом сохраняя данные, сохранив их связность и исключив возможные возникающие при этом ошибки, подготовьте данные так, чтобы удобно было отобрать компании по параметрам и рассчитать показатели из расчёта на одну компанию без промежуточных агрегаций."
   ]
  },
  {
   "cell_type": "markdown",
   "metadata": {
    "id": "oSk7xqu_FbaN"
   },
   "source": [
    "По столбцам датасета `company_and_rounds_df` можно предположить, что он состоит из двух логически связанных таблиц.\n",
    "\n",
    "Попробуем разделить его на 2 разные подтаблицы:\n",
    "1. `company_df`. В данной таблице будет храниться информация о компаниях\n",
    "2. `rounds_df`. В данной таблице будет храниться информация о раундах\n",
    "\n",
    "По аналогии с **Шагом 1** проведем обработку данных и проверим их на наличие полных дубликатов:"
   ]
  },
  {
   "cell_type": "code",
   "execution_count": 23,
   "metadata": {
    "id": "9BY9lTUcFbJ-"
   },
   "outputs": [
    {
     "data": {
      "text/plain": [
       "9.744046580399864"
      ]
     },
     "metadata": {},
     "output_type": "display_data"
    }
   ],
   "source": [
    "# Создадим подтаблицу company_df:\n",
    "company_df = company_and_rounds_df[[\n",
    "    'company_id',\n",
    "    'name',\n",
    "    'category_code',\n",
    "    'status',\n",
    "    'founded_at',\n",
    "    'closed_at',\n",
    "    'domain',\n",
    "    'network_username',\n",
    "    'country_code',\n",
    "    'investment_rounds',\n",
    "    'funding_rounds',\n",
    "    'funding_total',\n",
    "    'milestones'   \n",
    "]]\n",
    "\n",
    "# Выведем процентное выражение полных дубликатов в подтаблице company_df:\n",
    "display(company_df.duplicated().sum() / len(company_df) * 100)"
   ]
  },
  {
   "cell_type": "markdown",
   "metadata": {},
   "source": [
    "В таблице `company_df` нашлось 9.74% дубликатов. Удалим им:"
   ]
  },
  {
   "cell_type": "code",
   "execution_count": 24,
   "metadata": {
    "id": "tJ6Sl6MKrJg1",
    "vscode": {
     "languageId": "plaintext"
    }
   },
   "outputs": [
    {
     "name": "stdout",
     "output_type": "stream",
     "text": [
      "<class 'pandas.core.frame.DataFrame'>\n",
      "Int64Index: 196554 entries, 0 to 217472\n",
      "Data columns (total 13 columns):\n",
      " #   Column             Non-Null Count   Dtype         \n",
      "---  ------             --------------   -----         \n",
      " 0   company_id         196553 non-null  Int64         \n",
      " 1   name               196553 non-null  object        \n",
      " 2   category_code      123186 non-null  object        \n",
      " 3   status             196553 non-null  object        \n",
      " 4   founded_at         91227 non-null   datetime64[ns]\n",
      " 5   closed_at          2620 non-null    datetime64[ns]\n",
      " 6   domain             126545 non-null  object        \n",
      " 7   network_username   80591 non-null   object        \n",
      " 8   country_code       87990 non-null   object        \n",
      " 9   investment_rounds  196553 non-null  Int64         \n",
      " 10  funding_rounds     196553 non-null  Int64         \n",
      " 11  funding_total      196553 non-null  float64       \n",
      " 12  milestones         196553 non-null  Int64         \n",
      "dtypes: Int64(4), datetime64[ns](2), float64(1), object(6)\n",
      "memory usage: 21.7+ MB\n"
     ]
    }
   ],
   "source": [
    "company_df = company_df.drop_duplicates(subset=['company_id'])\n",
    "\n",
    "company_df.info()"
   ]
  },
  {
   "cell_type": "code",
   "execution_count": 25,
   "metadata": {},
   "outputs": [
    {
     "name": "stdout",
     "output_type": "stream",
     "text": [
      "<class 'pandas.core.frame.DataFrame'>\n",
      "Int64Index: 31940 entries, 0 to 217773\n",
      "Data columns (total 9 columns):\n",
      " #   Column               Non-Null Count  Dtype         \n",
      "---  ------               --------------  -----         \n",
      " 0   funding_round_id     31939 non-null  Int64         \n",
      " 1   funding_company_id   31939 non-null  Int64         \n",
      " 2   funded_at            31714 non-null  datetime64[ns]\n",
      " 3   funding_round_type   31939 non-null  object        \n",
      " 4   raised_amount        31939 non-null  float64       \n",
      " 5   pre_money_valuation  31939 non-null  float64       \n",
      " 6   participants         31939 non-null  Int64         \n",
      " 7   is_first_round       31939 non-null  Int64         \n",
      " 8   is_last_round        31939 non-null  Int64         \n",
      "dtypes: Int64(5), datetime64[ns](1), float64(2), object(1)\n",
      "memory usage: 2.6+ MB\n"
     ]
    }
   ],
   "source": [
    "# Создадим подтаблицу rounds_df:\n",
    "rounds_df = company_and_rounds_df[[\n",
    "    'funding_round_id',\n",
    "    'funding_company_id',\n",
    "    'funded_at',\n",
    "    'funding_round_type',\n",
    "    'raised_amount',\n",
    "    'pre_money_valuation',\n",
    "    'participants',\n",
    "    'is_first_round',\n",
    "    'is_last_round'\n",
    "]]\n",
    "\n",
    "# По аналогии с таблицей company_df очистим полные дубликаты:\n",
    "rounds_df = rounds_df.drop_duplicates(subset=['funding_company_id'])\n",
    "\n",
    "rounds_df.info()"
   ]
  },
  {
   "cell_type": "markdown",
   "metadata": {},
   "source": [
    "---\n",
    "#### Промежуточный вывод\n",
    "\n",
    "Разделили таблицу `company_and_rounds_df` на 2 подтаблицы `company_df` и `rounds_df`. Очистили полные дубликаты. Подготовили данные для последующего анализа."
   ]
  },
  {
   "cell_type": "markdown",
   "metadata": {
    "id": "bmVYhphNrJg2"
   },
   "source": [
    "\n",
    "## Шаг 3. Исследовательский анализ объединённых таблиц\n"
   ]
  },
  {
   "cell_type": "markdown",
   "metadata": {
    "id": "3Di6tCT3rJg2"
   },
   "source": [
    "\n",
    "### 3.1. Объединение данных\n",
    "\n"
   ]
  },
  {
   "cell_type": "code",
   "execution_count": 26,
   "metadata": {
    "id": "kuV1b5MXFg3_"
   },
   "outputs": [
    {
     "name": "stdout",
     "output_type": "stream",
     "text": [
      "<class 'pandas.core.frame.DataFrame'>\n",
      "Int64Index: 40747 entries, 0 to 217469\n",
      "Data columns (total 13 columns):\n",
      " #   Column             Non-Null Count  Dtype         \n",
      "---  ------             --------------  -----         \n",
      " 0   company_id         40747 non-null  Int64         \n",
      " 1   name               40747 non-null  object        \n",
      " 2   category_code      35315 non-null  object        \n",
      " 3   status             40747 non-null  object        \n",
      " 4   founded_at         27807 non-null  datetime64[ns]\n",
      " 5   closed_at          2128 non-null   datetime64[ns]\n",
      " 6   domain             35754 non-null  object        \n",
      " 7   network_username   20850 non-null  object        \n",
      " 8   country_code       34742 non-null  object        \n",
      " 9   investment_rounds  40747 non-null  Int64         \n",
      " 10  funding_rounds     40747 non-null  Int64         \n",
      " 11  funding_total      40747 non-null  float64       \n",
      " 12  milestones         40747 non-null  Int64         \n",
      "dtypes: Int64(4), datetime64[ns](2), float64(1), object(6)\n",
      "memory usage: 4.5+ MB\n"
     ]
    },
    {
     "data": {
      "text/plain": [
       "None"
      ]
     },
     "metadata": {},
     "output_type": "display_data"
    },
    {
     "data": {
      "text/html": [
       "<div>\n",
       "<style scoped>\n",
       "    .dataframe tbody tr th:only-of-type {\n",
       "        vertical-align: middle;\n",
       "    }\n",
       "\n",
       "    .dataframe tbody tr th {\n",
       "        vertical-align: top;\n",
       "    }\n",
       "\n",
       "    .dataframe thead th {\n",
       "        text-align: right;\n",
       "    }\n",
       "</style>\n",
       "<table border=\"1\" class=\"dataframe\">\n",
       "  <thead>\n",
       "    <tr style=\"text-align: right;\">\n",
       "      <th></th>\n",
       "      <th>company_id</th>\n",
       "      <th>name</th>\n",
       "      <th>category_code</th>\n",
       "      <th>status</th>\n",
       "      <th>founded_at</th>\n",
       "      <th>closed_at</th>\n",
       "      <th>domain</th>\n",
       "      <th>network_username</th>\n",
       "      <th>country_code</th>\n",
       "      <th>investment_rounds</th>\n",
       "      <th>funding_rounds</th>\n",
       "      <th>funding_total</th>\n",
       "      <th>milestones</th>\n",
       "    </tr>\n",
       "  </thead>\n",
       "  <tbody>\n",
       "    <tr>\n",
       "      <th>0</th>\n",
       "      <td>1</td>\n",
       "      <td>Wetpaint</td>\n",
       "      <td>web</td>\n",
       "      <td>operating</td>\n",
       "      <td>2005-10-17</td>\n",
       "      <td>NaT</td>\n",
       "      <td>wetpaint-inc.com</td>\n",
       "      <td>BachelrWetpaint</td>\n",
       "      <td>USA</td>\n",
       "      <td>0</td>\n",
       "      <td>3</td>\n",
       "      <td>39750000.0</td>\n",
       "      <td>5</td>\n",
       "    </tr>\n",
       "    <tr>\n",
       "      <th>3</th>\n",
       "      <td>10</td>\n",
       "      <td>Flektor</td>\n",
       "      <td>games_video</td>\n",
       "      <td>acquired</td>\n",
       "      <td>NaT</td>\n",
       "      <td>NaT</td>\n",
       "      <td>flektor.com</td>\n",
       "      <td>NaN</td>\n",
       "      <td>USA</td>\n",
       "      <td>0</td>\n",
       "      <td>0</td>\n",
       "      <td>0.0</td>\n",
       "      <td>0</td>\n",
       "    </tr>\n",
       "    <tr>\n",
       "      <th>4</th>\n",
       "      <td>100</td>\n",
       "      <td>There</td>\n",
       "      <td>games_video</td>\n",
       "      <td>acquired</td>\n",
       "      <td>NaT</td>\n",
       "      <td>NaT</td>\n",
       "      <td>there.com</td>\n",
       "      <td>NaN</td>\n",
       "      <td>USA</td>\n",
       "      <td>0</td>\n",
       "      <td>0</td>\n",
       "      <td>0.0</td>\n",
       "      <td>4</td>\n",
       "    </tr>\n",
       "    <tr>\n",
       "      <th>15</th>\n",
       "      <td>1001</td>\n",
       "      <td>FriendFeed</td>\n",
       "      <td>web</td>\n",
       "      <td>acquired</td>\n",
       "      <td>2007-10-01</td>\n",
       "      <td>NaT</td>\n",
       "      <td>friendfeed.com</td>\n",
       "      <td>friendfeed</td>\n",
       "      <td>USA</td>\n",
       "      <td>0</td>\n",
       "      <td>1</td>\n",
       "      <td>5000000.0</td>\n",
       "      <td>3</td>\n",
       "    </tr>\n",
       "    <tr>\n",
       "      <th>20</th>\n",
       "      <td>10014</td>\n",
       "      <td>Mobclix</td>\n",
       "      <td>mobile</td>\n",
       "      <td>acquired</td>\n",
       "      <td>2008-03-01</td>\n",
       "      <td>NaT</td>\n",
       "      <td>mobclix.com</td>\n",
       "      <td>mobclix</td>\n",
       "      <td>USA</td>\n",
       "      <td>0</td>\n",
       "      <td>1</td>\n",
       "      <td>0.0</td>\n",
       "      <td>4</td>\n",
       "    </tr>\n",
       "  </tbody>\n",
       "</table>\n",
       "</div>"
      ],
      "text/plain": [
       "    company_id        name category_code     status founded_at closed_at  \\\n",
       "0            1    Wetpaint           web  operating 2005-10-17       NaT   \n",
       "3           10     Flektor   games_video   acquired        NaT       NaT   \n",
       "4          100       There   games_video   acquired        NaT       NaT   \n",
       "15        1001  FriendFeed           web   acquired 2007-10-01       NaT   \n",
       "20       10014     Mobclix        mobile   acquired 2008-03-01       NaT   \n",
       "\n",
       "              domain network_username country_code  investment_rounds  \\\n",
       "0   wetpaint-inc.com  BachelrWetpaint          USA                  0   \n",
       "3        flektor.com              NaN          USA                  0   \n",
       "4          there.com              NaN          USA                  0   \n",
       "15    friendfeed.com       friendfeed          USA                  0   \n",
       "20       mobclix.com          mobclix          USA                  0   \n",
       "\n",
       "    funding_rounds  funding_total  milestones  \n",
       "0                3     39750000.0           5  \n",
       "3                0            0.0           0  \n",
       "4                0            0.0           4  \n",
       "15               1      5000000.0           3  \n",
       "20               1            0.0           4  "
      ]
     },
     "metadata": {},
     "output_type": "display_data"
    }
   ],
   "source": [
    "company_df_upd = company_df[(company_df['funding_rounds'] > 0) | (company_df['investment_rounds'] > 0) |\n",
    "                            (company_df['status'] == 'acquired')]\n",
    "\n",
    "display(company_df_upd.info(), company_df_upd.head())"
   ]
  },
  {
   "cell_type": "markdown",
   "metadata": {},
   "source": [
    "После фильтрации таблицы `company_df` получили результирующую таблицу с 40747 строками и 13 столбцами (что соответствует описанию в условии: ` \"В результирующей таблице должно получиться порядка 40 тысяч компаний\" `)"
   ]
  },
  {
   "cell_type": "markdown",
   "metadata": {
    "id": "DFHINkV3rJg2"
   },
   "source": [
    "\n",
    "### 3.2. Анализ выбросов\n",
    "\n"
   ]
  },
  {
   "cell_type": "markdown",
   "metadata": {
    "id": "8jm75fKXrJg2",
    "vscode": {
     "languageId": "plaintext"
    }
   },
   "source": [
    "Для начала посмотрим краткие данные о датасете с помощью метода .describe(), построим гистограмму распределения и диаграмму размаха (сначала с выбросами, потом без). На основе результатов всех этих действий проведем сам анализ."
   ]
  },
  {
   "cell_type": "code",
   "execution_count": 27,
   "metadata": {
    "id": "S1jrfr7rFhcw"
   },
   "outputs": [
    {
     "data": {
      "text/plain": [
       "count    4.074700e+04\n",
       "mean     1.013561e+07\n",
       "std      5.646436e+07\n",
       "min      0.000000e+00\n",
       "25%      0.000000e+00\n",
       "50%      6.000000e+05\n",
       "75%      5.650650e+06\n",
       "max      5.700000e+09\n",
       "Name: funding_total, dtype: float64"
      ]
     },
     "execution_count": 27,
     "metadata": {},
     "output_type": "execute_result"
    }
   ],
   "source": [
    "company_df_upd['funding_total'].describe()"
   ]
  },
  {
   "cell_type": "code",
   "execution_count": 28,
   "metadata": {},
   "outputs": [
    {
     "data": {
      "image/png": "[encoded data removed]",
      "text/plain": [
       "<Figure size 864x432 with 1 Axes>"
      ]
     },
     "metadata": {
      "needs_background": "light"
     },
     "output_type": "display_data"
    }
   ],
   "source": [
    "plt.figure(figsize = (12, 6))\n",
    "sns.histplot(data = company_df_upd,\n",
    "             x = 'funding_total',\n",
    "             bins = 20, \n",
    "             kde = True) # Добавим оценку плотности ядра\n",
    "\n",
    "plt.title('Гистограмма распределения финансирования')\n",
    "plt.xlabel('Сумма финансирования, млн')\n",
    "plt.ylabel('Частота')\n",
    "plt.grid()\n",
    "plt.show()"
   ]
  },
  {
   "cell_type": "code",
   "execution_count": 29,
   "metadata": {},
   "outputs": [
    {
     "data": {
      "image/png": "[encoded data removed]",
      "text/plain": [
       "<Figure size 864x432 with 1 Axes>"
      ]
     },
     "metadata": {
      "needs_background": "light"
     },
     "output_type": "display_data"
    }
   ],
   "source": [
    "plt.figure(figsize = (12, 6))\n",
    "\n",
    "company_df_upd.boxplot(column = 'funding_total', \n",
    "                       vert = False)\n",
    "\n",
    "plt.title('Распределение сумм общего финансирования для одной компании')\n",
    "plt.xlabel('Сумма финансирования, млн')\n",
    "plt.show()"
   ]
  },
  {
   "cell_type": "code",
   "execution_count": 30,
   "metadata": {},
   "outputs": [
    {
     "data": {
      "image/png": "[encoded data removed]",
      "text/plain": [
       "<Figure size 864x432 with 1 Axes>"
      ]
     },
     "metadata": {
      "needs_background": "light"
     },
     "output_type": "display_data"
    }
   ],
   "source": [
    "plt.figure(figsize = (12, 6))\n",
    "\n",
    "company_df_upd.boxplot(column = 'funding_total', \n",
    "                       vert = False, \n",
    "                       showfliers = False)\n",
    "\n",
    "plt.title('Распределение сумм общего финансирования для одной компании (без выбросов)')\n",
    "plt.xlabel('Сумма финансирования, млн')\n",
    "plt.show()"
   ]
  },
  {
   "cell_type": "markdown",
   "metadata": {},
   "source": [
    "Визуализации показали очень сильную правостороннюю асимметрию. Стандартные описательные статистики показывают, что среднее значение (10,1 млн) значительно превышает медиану (600 тысяч), что указывает на наличие экстремальных выбросов в данных - в то время как половина компаний получила менее 600 тысяч, максимальное значение достигает 5,7 миллиардов. Типичным (репрезентативным) размером финансирования следует считать медианное значение и межквартильный размах (от 0 до 5,65 млн), в то время как значения выше 75-го процентиля можно считать выбивающимися из общего ряда из-за сильного влияния единичных крупных инвестиционных раундов."
   ]
  },
  {
   "cell_type": "markdown",
   "metadata": {
    "id": "JqkRAQrIrJg2"
   },
   "source": [
    "\n",
    "### 3.3. Куплены забесплатно?\n",
    "\n"
   ]
  },
  {
   "cell_type": "markdown",
   "metadata": {
    "id": "wJHXCBwwrJg2",
    "vscode": {
     "languageId": "plaintext"
    }
   },
   "source": [
    "Присоединим к датасету `company_df_upd` столбцы `acquired_company_id`, `price_amount` и `term_code` из таблицы `acquisition`. После этого отфильтруем данные по заданным параметрам и проверим распределения по категориям, стране и вариантам покупки."
   ]
  },
  {
   "cell_type": "code",
   "execution_count": 33,
   "metadata": {
    "id": "9IDTHfYQFhuX"
   },
   "outputs": [
    {
     "name": "stdout",
     "output_type": "stream",
     "text": [
      "<class 'pandas.core.frame.DataFrame'>\n",
      "Int64Index: 40890 entries, 0 to 40889\n",
      "Data columns (total 16 columns):\n",
      " #   Column               Non-Null Count  Dtype         \n",
      "---  ------               --------------  -----         \n",
      " 0   company_id           40890 non-null  Int64         \n",
      " 1   name                 40890 non-null  object        \n",
      " 2   category_code        35436 non-null  object        \n",
      " 3   status               40890 non-null  object        \n",
      " 4   founded_at           27911 non-null  datetime64[ns]\n",
      " 5   closed_at            2128 non-null   datetime64[ns]\n",
      " 6   domain               35883 non-null  object        \n",
      " 7   network_username     20938 non-null  object        \n",
      " 8   country_code         34858 non-null  object        \n",
      " 9   investment_rounds    40890 non-null  Int64         \n",
      " 10  funding_rounds       40890 non-null  Int64         \n",
      " 11  funding_total        40890 non-null  float64       \n",
      " 12  milestones           40890 non-null  Int64         \n",
      " 13  acquired_company_id  9390 non-null   float64       \n",
      " 14  price_amount         9390 non-null   float64       \n",
      " 15  term_code            1830 non-null   object        \n",
      "dtypes: Int64(4), datetime64[ns](2), float64(3), object(7)\n",
      "memory usage: 5.5+ MB\n"
     ]
    },
    {
     "data": {
      "text/plain": [
       "None"
      ]
     },
     "metadata": {},
     "output_type": "display_data"
    },
    {
     "data": {
      "text/html": [
       "<div>\n",
       "<style scoped>\n",
       "    .dataframe tbody tr th:only-of-type {\n",
       "        vertical-align: middle;\n",
       "    }\n",
       "\n",
       "    .dataframe tbody tr th {\n",
       "        vertical-align: top;\n",
       "    }\n",
       "\n",
       "    .dataframe thead th {\n",
       "        text-align: right;\n",
       "    }\n",
       "</style>\n",
       "<table border=\"1\" class=\"dataframe\">\n",
       "  <thead>\n",
       "    <tr style=\"text-align: right;\">\n",
       "      <th></th>\n",
       "      <th>company_id</th>\n",
       "      <th>name</th>\n",
       "      <th>category_code</th>\n",
       "      <th>status</th>\n",
       "      <th>founded_at</th>\n",
       "      <th>closed_at</th>\n",
       "      <th>domain</th>\n",
       "      <th>network_username</th>\n",
       "      <th>country_code</th>\n",
       "      <th>investment_rounds</th>\n",
       "      <th>funding_rounds</th>\n",
       "      <th>funding_total</th>\n",
       "      <th>milestones</th>\n",
       "      <th>acquired_company_id</th>\n",
       "      <th>price_amount</th>\n",
       "      <th>term_code</th>\n",
       "    </tr>\n",
       "  </thead>\n",
       "  <tbody>\n",
       "    <tr>\n",
       "      <th>0</th>\n",
       "      <td>1</td>\n",
       "      <td>Wetpaint</td>\n",
       "      <td>web</td>\n",
       "      <td>operating</td>\n",
       "      <td>2005-10-17</td>\n",
       "      <td>NaT</td>\n",
       "      <td>wetpaint-inc.com</td>\n",
       "      <td>BachelrWetpaint</td>\n",
       "      <td>USA</td>\n",
       "      <td>0</td>\n",
       "      <td>3</td>\n",
       "      <td>39750000.0</td>\n",
       "      <td>5</td>\n",
       "      <td>NaN</td>\n",
       "      <td>NaN</td>\n",
       "      <td>NaN</td>\n",
       "    </tr>\n",
       "    <tr>\n",
       "      <th>1</th>\n",
       "      <td>10</td>\n",
       "      <td>Flektor</td>\n",
       "      <td>games_video</td>\n",
       "      <td>acquired</td>\n",
       "      <td>NaT</td>\n",
       "      <td>NaT</td>\n",
       "      <td>flektor.com</td>\n",
       "      <td>NaN</td>\n",
       "      <td>USA</td>\n",
       "      <td>0</td>\n",
       "      <td>0</td>\n",
       "      <td>0.0</td>\n",
       "      <td>0</td>\n",
       "      <td>10.0</td>\n",
       "      <td>20000000.0</td>\n",
       "      <td>NaN</td>\n",
       "    </tr>\n",
       "    <tr>\n",
       "      <th>2</th>\n",
       "      <td>100</td>\n",
       "      <td>There</td>\n",
       "      <td>games_video</td>\n",
       "      <td>acquired</td>\n",
       "      <td>NaT</td>\n",
       "      <td>NaT</td>\n",
       "      <td>there.com</td>\n",
       "      <td>NaN</td>\n",
       "      <td>USA</td>\n",
       "      <td>0</td>\n",
       "      <td>0</td>\n",
       "      <td>0.0</td>\n",
       "      <td>4</td>\n",
       "      <td>100.0</td>\n",
       "      <td>0.0</td>\n",
       "      <td>cash</td>\n",
       "    </tr>\n",
       "    <tr>\n",
       "      <th>3</th>\n",
       "      <td>1001</td>\n",
       "      <td>FriendFeed</td>\n",
       "      <td>web</td>\n",
       "      <td>acquired</td>\n",
       "      <td>2007-10-01</td>\n",
       "      <td>NaT</td>\n",
       "      <td>friendfeed.com</td>\n",
       "      <td>friendfeed</td>\n",
       "      <td>USA</td>\n",
       "      <td>0</td>\n",
       "      <td>1</td>\n",
       "      <td>5000000.0</td>\n",
       "      <td>3</td>\n",
       "      <td>1001.0</td>\n",
       "      <td>47500000.0</td>\n",
       "      <td>cash_and_stock</td>\n",
       "    </tr>\n",
       "    <tr>\n",
       "      <th>4</th>\n",
       "      <td>10014</td>\n",
       "      <td>Mobclix</td>\n",
       "      <td>mobile</td>\n",
       "      <td>acquired</td>\n",
       "      <td>2008-03-01</td>\n",
       "      <td>NaT</td>\n",
       "      <td>mobclix.com</td>\n",
       "      <td>mobclix</td>\n",
       "      <td>USA</td>\n",
       "      <td>0</td>\n",
       "      <td>1</td>\n",
       "      <td>0.0</td>\n",
       "      <td>4</td>\n",
       "      <td>10014.0</td>\n",
       "      <td>0.0</td>\n",
       "      <td>NaN</td>\n",
       "    </tr>\n",
       "  </tbody>\n",
       "</table>\n",
       "</div>"
      ],
      "text/plain": [
       "   company_id        name category_code     status founded_at closed_at  \\\n",
       "0           1    Wetpaint           web  operating 2005-10-17       NaT   \n",
       "1          10     Flektor   games_video   acquired        NaT       NaT   \n",
       "2         100       There   games_video   acquired        NaT       NaT   \n",
       "3        1001  FriendFeed           web   acquired 2007-10-01       NaT   \n",
       "4       10014     Mobclix        mobile   acquired 2008-03-01       NaT   \n",
       "\n",
       "             domain network_username country_code  investment_rounds  \\\n",
       "0  wetpaint-inc.com  BachelrWetpaint          USA                  0   \n",
       "1       flektor.com              NaN          USA                  0   \n",
       "2         there.com              NaN          USA                  0   \n",
       "3    friendfeed.com       friendfeed          USA                  0   \n",
       "4       mobclix.com          mobclix          USA                  0   \n",
       "\n",
       "   funding_rounds  funding_total  milestones  acquired_company_id  \\\n",
       "0               3     39750000.0           5                  NaN   \n",
       "1               0            0.0           0                 10.0   \n",
       "2               0            0.0           4                100.0   \n",
       "3               1      5000000.0           3               1001.0   \n",
       "4               1            0.0           4              10014.0   \n",
       "\n",
       "   price_amount       term_code  \n",
       "0           NaN             NaN  \n",
       "1    20000000.0             NaN  \n",
       "2           0.0            cash  \n",
       "3    47500000.0  cash_and_stock  \n",
       "4           0.0             NaN  "
      ]
     },
     "metadata": {},
     "output_type": "display_data"
    }
   ],
   "source": [
    "company_df_upd_added = pd.merge(company_df_upd, \n",
    "                                acquisition_df[['acquired_company_id', 'price_amount','term_code']], \n",
    "                                left_on = 'company_id',\n",
    "                                right_on = 'acquired_company_id', \n",
    "                                how = 'left'\n",
    "                               )\n",
    "\n",
    "display(company_df_upd_added.info(), company_df_upd_added.head())"
   ]
  },
  {
   "cell_type": "markdown",
   "metadata": {},
   "source": [
    "Теперь приступим к фильтрации:"
   ]
  },
  {
   "cell_type": "code",
   "execution_count": 39,
   "metadata": {},
   "outputs": [
    {
     "name": "stdout",
     "output_type": "stream",
     "text": [
      "<class 'pandas.core.frame.DataFrame'>\n",
      "Int64Index: 1618 entries, 25 to 40872\n",
      "Data columns (total 16 columns):\n",
      " #   Column               Non-Null Count  Dtype         \n",
      "---  ------               --------------  -----         \n",
      " 0   company_id           1618 non-null   Int64         \n",
      " 1   name                 1618 non-null   object        \n",
      " 2   category_code        1553 non-null   object        \n",
      " 3   status               1618 non-null   object        \n",
      " 4   founded_at           1285 non-null   datetime64[ns]\n",
      " 5   closed_at            13 non-null     datetime64[ns]\n",
      " 6   domain               1546 non-null   object        \n",
      " 7   network_username     812 non-null    object        \n",
      " 8   country_code         1536 non-null   object        \n",
      " 9   investment_rounds    1618 non-null   Int64         \n",
      " 10  funding_rounds       1618 non-null   Int64         \n",
      " 11  funding_total        1618 non-null   float64       \n",
      " 12  milestones           1618 non-null   Int64         \n",
      " 13  acquired_company_id  1618 non-null   float64       \n",
      " 14  price_amount         1618 non-null   float64       \n",
      " 15  term_code            121 non-null    object        \n",
      "dtypes: Int64(4), datetime64[ns](2), float64(3), object(7)\n",
      "memory usage: 221.2+ KB\n"
     ]
    },
    {
     "data": {
      "text/plain": [
       "None"
      ]
     },
     "metadata": {},
     "output_type": "display_data"
    },
    {
     "data": {
      "text/html": [
       "<div>\n",
       "<style scoped>\n",
       "    .dataframe tbody tr th:only-of-type {\n",
       "        vertical-align: middle;\n",
       "    }\n",
       "\n",
       "    .dataframe tbody tr th {\n",
       "        vertical-align: top;\n",
       "    }\n",
       "\n",
       "    .dataframe thead th {\n",
       "        text-align: right;\n",
       "    }\n",
       "</style>\n",
       "<table border=\"1\" class=\"dataframe\">\n",
       "  <thead>\n",
       "    <tr style=\"text-align: right;\">\n",
       "      <th></th>\n",
       "      <th>company_id</th>\n",
       "      <th>name</th>\n",
       "      <th>category_code</th>\n",
       "      <th>status</th>\n",
       "      <th>founded_at</th>\n",
       "      <th>closed_at</th>\n",
       "      <th>domain</th>\n",
       "      <th>network_username</th>\n",
       "      <th>country_code</th>\n",
       "      <th>investment_rounds</th>\n",
       "      <th>funding_rounds</th>\n",
       "      <th>funding_total</th>\n",
       "      <th>milestones</th>\n",
       "      <th>acquired_company_id</th>\n",
       "      <th>price_amount</th>\n",
       "      <th>term_code</th>\n",
       "    </tr>\n",
       "  </thead>\n",
       "  <tbody>\n",
       "    <tr>\n",
       "      <th>25</th>\n",
       "      <td>10054</td>\n",
       "      <td>Jumptap</td>\n",
       "      <td>mobile</td>\n",
       "      <td>acquired</td>\n",
       "      <td>2005-01-01</td>\n",
       "      <td>NaT</td>\n",
       "      <td>jumptap.com</td>\n",
       "      <td>jumptap</td>\n",
       "      <td>USA</td>\n",
       "      <td>0</td>\n",
       "      <td>7</td>\n",
       "      <td>121500000.0</td>\n",
       "      <td>3</td>\n",
       "      <td>10054.0</td>\n",
       "      <td>0.0</td>\n",
       "      <td>cash_and_stock</td>\n",
       "    </tr>\n",
       "    <tr>\n",
       "      <th>63</th>\n",
       "      <td>101312</td>\n",
       "      <td>SideTour</td>\n",
       "      <td>web</td>\n",
       "      <td>acquired</td>\n",
       "      <td>2011-06-01</td>\n",
       "      <td>NaT</td>\n",
       "      <td>sidetour.com</td>\n",
       "      <td>sidetour</td>\n",
       "      <td>USA</td>\n",
       "      <td>0</td>\n",
       "      <td>3</td>\n",
       "      <td>4000000.0</td>\n",
       "      <td>2</td>\n",
       "      <td>101312.0</td>\n",
       "      <td>0.0</td>\n",
       "      <td>NaN</td>\n",
       "    </tr>\n",
       "    <tr>\n",
       "      <th>66</th>\n",
       "      <td>101340</td>\n",
       "      <td>ChoicePass</td>\n",
       "      <td>enterprise</td>\n",
       "      <td>acquired</td>\n",
       "      <td>2011-07-01</td>\n",
       "      <td>NaT</td>\n",
       "      <td>choicepass.com</td>\n",
       "      <td>choicepass</td>\n",
       "      <td>USA</td>\n",
       "      <td>0</td>\n",
       "      <td>1</td>\n",
       "      <td>250000.0</td>\n",
       "      <td>1</td>\n",
       "      <td>101340.0</td>\n",
       "      <td>0.0</td>\n",
       "      <td>NaN</td>\n",
       "    </tr>\n",
       "    <tr>\n",
       "      <th>67</th>\n",
       "      <td>10137</td>\n",
       "      <td>Producteev</td>\n",
       "      <td>software</td>\n",
       "      <td>acquired</td>\n",
       "      <td>2008-07-08</td>\n",
       "      <td>NaT</td>\n",
       "      <td>producteev.com</td>\n",
       "      <td>producteev</td>\n",
       "      <td>USA</td>\n",
       "      <td>0</td>\n",
       "      <td>3</td>\n",
       "      <td>1310000.0</td>\n",
       "      <td>2</td>\n",
       "      <td>10137.0</td>\n",
       "      <td>0.0</td>\n",
       "      <td>cash_and_stock</td>\n",
       "    </tr>\n",
       "    <tr>\n",
       "      <th>68</th>\n",
       "      <td>10139</td>\n",
       "      <td>TradeCard</td>\n",
       "      <td>enterprise</td>\n",
       "      <td>acquired</td>\n",
       "      <td>1999-01-01</td>\n",
       "      <td>NaT</td>\n",
       "      <td>tradecard.com</td>\n",
       "      <td>TradeCard</td>\n",
       "      <td>USA</td>\n",
       "      <td>0</td>\n",
       "      <td>2</td>\n",
       "      <td>44925000.0</td>\n",
       "      <td>1</td>\n",
       "      <td>10139.0</td>\n",
       "      <td>0.0</td>\n",
       "      <td>NaN</td>\n",
       "    </tr>\n",
       "  </tbody>\n",
       "</table>\n",
       "</div>"
      ],
      "text/plain": [
       "    company_id        name category_code    status founded_at closed_at  \\\n",
       "25       10054     Jumptap        mobile  acquired 2005-01-01       NaT   \n",
       "63      101312    SideTour           web  acquired 2011-06-01       NaT   \n",
       "66      101340  ChoicePass    enterprise  acquired 2011-07-01       NaT   \n",
       "67       10137  Producteev      software  acquired 2008-07-08       NaT   \n",
       "68       10139   TradeCard    enterprise  acquired 1999-01-01       NaT   \n",
       "\n",
       "            domain network_username country_code  investment_rounds  \\\n",
       "25     jumptap.com          jumptap          USA                  0   \n",
       "63    sidetour.com         sidetour          USA                  0   \n",
       "66  choicepass.com       choicepass          USA                  0   \n",
       "67  producteev.com       producteev          USA                  0   \n",
       "68   tradecard.com        TradeCard          USA                  0   \n",
       "\n",
       "    funding_rounds  funding_total  milestones  acquired_company_id  \\\n",
       "25               7    121500000.0           3              10054.0   \n",
       "63               3      4000000.0           2             101312.0   \n",
       "66               1       250000.0           1             101340.0   \n",
       "67               3      1310000.0           2              10137.0   \n",
       "68               2     44925000.0           1              10139.0   \n",
       "\n",
       "    price_amount       term_code  \n",
       "25           0.0  cash_and_stock  \n",
       "63           0.0             NaN  \n",
       "66           0.0             NaN  \n",
       "67           0.0  cash_and_stock  \n",
       "68           0.0             NaN  "
      ]
     },
     "metadata": {},
     "output_type": "display_data"
    }
   ],
   "source": [
    "company_df_upd_added_filtered = company_df_upd_added[\n",
    "    (company_df_upd_added['status'] == 'acquired') &\n",
    "    (company_df_upd_added['funding_total'] > 0) & \n",
    "    ((company_df_upd_added['price_amount'] == 0) | (company_df_upd_added['price_amount'] == 1))\n",
    "]\n",
    "\n",
    "display(company_df_upd_added_filtered.info(), company_df_upd_added_filtered.head())"
   ]
  },
  {
   "cell_type": "code",
   "execution_count": 41,
   "metadata": {},
   "outputs": [
    {
     "name": "stdout",
     "output_type": "stream",
     "text": [
      "Распределение по категориям компаний (абсолютные значения):\n"
     ]
    },
    {
     "data": {
      "text/plain": [
       "software            362\n",
       "web                 216\n",
       "enterprise          131\n",
       "mobile              118\n",
       "advertising          77\n",
       "games_video          76\n",
       "biotech              69\n",
       "ecommerce            61\n",
       "network_hosting      56\n",
       "semiconductor        43\n",
       "cleantech            40\n",
       "hardware             36\n",
       "analytics            32\n",
       "security             30\n",
       "public_relations     26\n",
       "other                20\n",
       "search               18\n",
       "social               17\n",
       "messaging            16\n",
       "travel               16\n",
       "health               13\n",
       "medical              11\n",
       "education            10\n",
       "consulting           10\n",
       "news                  9\n",
       "music                 8\n",
       "finance               7\n",
       "fashion               5\n",
       "photo_video           3\n",
       "manufacturing         3\n",
       "design                3\n",
       "hospitality           3\n",
       "automotive            2\n",
       "transportation        2\n",
       "legal                 2\n",
       "sports                2\n",
       "Name: category_code, dtype: int64"
      ]
     },
     "metadata": {},
     "output_type": "display_data"
    },
    {
     "name": "stdout",
     "output_type": "stream",
     "text": [
      "Распределение по категориям компаний (относительные значения):\n"
     ]
    },
    {
     "data": {
      "text/plain": [
       "software            0.233097\n",
       "web                 0.139086\n",
       "enterprise          0.084353\n",
       "mobile              0.075982\n",
       "advertising         0.049581\n",
       "games_video         0.048938\n",
       "biotech             0.044430\n",
       "ecommerce           0.039279\n",
       "network_hosting     0.036059\n",
       "semiconductor       0.027688\n",
       "cleantech           0.025757\n",
       "hardware            0.023181\n",
       "analytics           0.020605\n",
       "security            0.019317\n",
       "public_relations    0.016742\n",
       "other               0.012878\n",
       "search              0.011590\n",
       "social              0.010947\n",
       "messaging           0.010303\n",
       "travel              0.010303\n",
       "health              0.008371\n",
       "medical             0.007083\n",
       "education           0.006439\n",
       "consulting          0.006439\n",
       "news                0.005795\n",
       "music               0.005151\n",
       "finance             0.004507\n",
       "fashion             0.003220\n",
       "photo_video         0.001932\n",
       "manufacturing       0.001932\n",
       "design              0.001932\n",
       "hospitality         0.001932\n",
       "automotive          0.001288\n",
       "transportation      0.001288\n",
       "legal               0.001288\n",
       "sports              0.001288\n",
       "Name: category_code, dtype: float64"
      ]
     },
     "metadata": {},
     "output_type": "display_data"
    }
   ],
   "source": [
    "print(\"Распределение по категориям компаний (абсолютные значения):\")\n",
    "display(company_df_upd_added_filtered['category_code'].value_counts())\n",
    "\n",
    "print(\"Распределение по категориям компаний (относительные значения):\")\n",
    "display(company_df_upd_added_filtered['category_code'].value_counts(normalize = True))"
   ]
  },
  {
   "cell_type": "code",
   "execution_count": 42,
   "metadata": {},
   "outputs": [
    {
     "name": "stdout",
     "output_type": "stream",
     "text": [
      "Распределение по странам (абсолютные значения):\n"
     ]
    },
    {
     "data": {
      "text/plain": [
       "USA    1236\n",
       "GBR      64\n",
       "CAN      46\n",
       "DEU      31\n",
       "ISR      27\n",
       "FRA      24\n",
       "IRL      11\n",
       "DNK       9\n",
       "SWE       8\n",
       "IND       7\n",
       "ESP       7\n",
       "CHE       6\n",
       "ITA       6\n",
       "FIN       6\n",
       "NLD       5\n",
       "JPN       5\n",
       "CHN       4\n",
       "NOR       4\n",
       "BEL       4\n",
       "ARG       4\n",
       "AUT       3\n",
       "SGP       3\n",
       "BGR       2\n",
       "AUS       2\n",
       "RUS       1\n",
       "THA       1\n",
       "KOR       1\n",
       "UMI       1\n",
       "POL       1\n",
       "CZE       1\n",
       "TUR       1\n",
       "BRA       1\n",
       "HKG       1\n",
       "HUN       1\n",
       "CHL       1\n",
       "URY       1\n",
       "Name: country_code, dtype: int64"
      ]
     },
     "metadata": {},
     "output_type": "display_data"
    },
    {
     "name": "stdout",
     "output_type": "stream",
     "text": [
      "Распределение по странам (относительные значения):\n"
     ]
    },
    {
     "data": {
      "text/plain": [
       "USA    0.804688\n",
       "GBR    0.041667\n",
       "CAN    0.029948\n",
       "DEU    0.020182\n",
       "ISR    0.017578\n",
       "FRA    0.015625\n",
       "IRL    0.007161\n",
       "DNK    0.005859\n",
       "SWE    0.005208\n",
       "IND    0.004557\n",
       "ESP    0.004557\n",
       "CHE    0.003906\n",
       "ITA    0.003906\n",
       "FIN    0.003906\n",
       "NLD    0.003255\n",
       "JPN    0.003255\n",
       "CHN    0.002604\n",
       "NOR    0.002604\n",
       "BEL    0.002604\n",
       "ARG    0.002604\n",
       "AUT    0.001953\n",
       "SGP    0.001953\n",
       "BGR    0.001302\n",
       "AUS    0.001302\n",
       "RUS    0.000651\n",
       "THA    0.000651\n",
       "KOR    0.000651\n",
       "UMI    0.000651\n",
       "POL    0.000651\n",
       "CZE    0.000651\n",
       "TUR    0.000651\n",
       "BRA    0.000651\n",
       "HKG    0.000651\n",
       "HUN    0.000651\n",
       "CHL    0.000651\n",
       "URY    0.000651\n",
       "Name: country_code, dtype: float64"
      ]
     },
     "metadata": {},
     "output_type": "display_data"
    }
   ],
   "source": [
    "print(\"Распределение по странам (абсолютные значения):\")\n",
    "display(company_df_upd_added_filtered['country_code'].value_counts())\n",
    "\n",
    "print(\"Распределение по странам (относительные значения):\")\n",
    "display(company_df_upd_added_filtered['country_code'].value_counts(normalize = True))"
   ]
  },
  {
   "cell_type": "code",
   "execution_count": 43,
   "metadata": {},
   "outputs": [
    {
     "name": "stdout",
     "output_type": "stream",
     "text": [
      "Распределение по способу покупки (абсолютные значения):\n"
     ]
    },
    {
     "data": {
      "text/plain": [
       "cash              68\n",
       "cash_and_stock    35\n",
       "stock             18\n",
       "Name: term_code, dtype: int64"
      ]
     },
     "metadata": {},
     "output_type": "display_data"
    },
    {
     "name": "stdout",
     "output_type": "stream",
     "text": [
      "Распределение по способу покупки (относительные значения):\n"
     ]
    },
    {
     "data": {
      "text/plain": [
       "cash              0.561983\n",
       "cash_and_stock    0.289256\n",
       "stock             0.148760\n",
       "Name: term_code, dtype: float64"
      ]
     },
     "metadata": {},
     "output_type": "display_data"
    }
   ],
   "source": [
    "print(\"Распределение по способу покупки (абсолютные значения):\")\n",
    "display(company_df_upd_added_filtered['term_code'].value_counts())\n",
    "\n",
    "print(\"Распределение по способу покупки (относительные значения):\")\n",
    "display(company_df_upd_added_filtered['term_code'].value_counts(normalize = True))"
   ]
  },
  {
   "cell_type": "markdown",
   "metadata": {},
   "source": [
    "Сгруппируем получившиеся данные:"
   ]
  },
  {
   "cell_type": "code",
   "execution_count": 44,
   "metadata": {},
   "outputs": [
    {
     "data": {
      "text/html": [
       "<div>\n",
       "<style scoped>\n",
       "    .dataframe tbody tr th:only-of-type {\n",
       "        vertical-align: middle;\n",
       "    }\n",
       "\n",
       "    .dataframe tbody tr th {\n",
       "        vertical-align: top;\n",
       "    }\n",
       "\n",
       "    .dataframe thead th {\n",
       "        text-align: right;\n",
       "    }\n",
       "</style>\n",
       "<table border=\"1\" class=\"dataframe\">\n",
       "  <thead>\n",
       "    <tr style=\"text-align: right;\">\n",
       "      <th></th>\n",
       "      <th>company_id</th>\n",
       "      <th>funding_total</th>\n",
       "    </tr>\n",
       "    <tr>\n",
       "      <th>price_amount</th>\n",
       "      <th></th>\n",
       "      <th></th>\n",
       "    </tr>\n",
       "  </thead>\n",
       "  <tbody>\n",
       "    <tr>\n",
       "      <th>0.0</th>\n",
       "      <td>1618</td>\n",
       "      <td>6000000.0</td>\n",
       "    </tr>\n",
       "  </tbody>\n",
       "</table>\n",
       "</div>"
      ],
      "text/plain": [
       "              company_id  funding_total\n",
       "price_amount                           \n",
       "0.0                 1618      6000000.0"
      ]
     },
     "execution_count": 44,
     "metadata": {},
     "output_type": "execute_result"
    }
   ],
   "source": [
    "company_df_upd_added_filtered.groupby('price_amount').agg({'company_id' : 'count', 'funding_total' : 'median'})"
   ]
  },
  {
   "cell_type": "markdown",
   "metadata": {},
   "source": [
    "Анализ компаний, проданных за символическую цену (0 или 1) при наличии ненулевого финансирования, выявил значительную выборку из 1618 кейсов. Наиболее представленными оказались компании из сектора software (23,3%), web (13,9%) и enterprise (8,4%), что свидетельствует о концентрации подобных сделок в технологическом секторе. Географически доминируют США (80,5%), что коррелирует с общей активностью венчурного рынка.\n",
    "\n",
    "Примечательно, что медианный объем привлеченного финансирования для таких компаний составил 6 млн долларов, что указывает на существенные инвестиции до момента продажи. Распределение по способам покупки показывает преобладание cash-сделок (56,2%), однако значительная доля комбинированных форм расчетов (cash_and_stock - 28,9%, stock - 14,9%) предполагает, что многие сделки могли быть стратегическими приобретениями с элементами интеграции."
   ]
  },
  {
   "cell_type": "markdown",
   "metadata": {},
   "source": [
    "Определим показатели выбросов.Будем использовать квартили для этого:"
   ]
  },
  {
   "cell_type": "code",
   "execution_count": 46,
   "metadata": {},
   "outputs": [
    {
     "name": "stdout",
     "output_type": "stream",
     "text": [
      "Нижний квартиль: 2000000.0.\n",
      "Верхний квартиль: 15500000.0.\n",
      "Размах финансирования компаний: 13500000.0.\n",
      "Нижний порог выбросов: 0.\n",
      "Верхний порог выбросов: 35750000.0.\n",
      "Типичный размер финансирования: от 2000000.0 до 15500000.0\n",
      "Количество выбросов: 16\n",
      "Нижняя граница соответствует 0.00% данных.\n",
      "Верхняя граница соответствует 90.91% данных.\n"
     ]
    }
   ],
   "source": [
    "Q1 = company_df_upd_added_filtered['funding_total'].quantile(0.25) \n",
    "Q3 = company_df_upd_added_filtered['funding_total'].quantile(0.75) \n",
    "\n",
    "IQR = Q3 - Q1 # Расчет межквартального размаха\n",
    "\n",
    "lower_bound = max(Q1 - 1.5 * IQR, 0)\n",
    "upper_bound = Q3 + 1.5 * IQR\n",
    "\n",
    "outliers = company_df_upd_added_filtered[(company_df_upd_added_filtered['funding_total'] < lower_bound) | \n",
    "                                          (company_df_upd_added_filtered['funding_total'] > upper_bound)].count()\n",
    "\n",
    "lower_percentile = (company_df_upd_added_filtered['funding_total'] <= lower_bound).mean() * 100\n",
    "upper_percentile = (company_df_upd_added_filtered['funding_total'] <= upper_bound).mean() * 100\n",
    "\n",
    "print(f\"Нижний квартиль: {Q1}.\")\n",
    "print(f\"Верхний квартиль: {Q3}.\")\n",
    "print(f\"Размах финансирования компаний: {IQR}.\") \n",
    "print(f\"Нижний порог выбросов: {lower_bound}.\") \n",
    "print(f\"Верхний порог выбросов: {upper_bound}.\")\n",
    "print(f'Типичный размер финансирования: от {Q1} до {Q3}')\n",
    "print(f'Количество выбросов: {len(outliers)}')\n",
    "print(f\"Нижняя граница соответствует {lower_percentile:.2f}% данных.\")\n",
    "print(f\"Верхняя граница соответствует {upper_percentile:.2f}% данных.\")"
   ]
  },
  {
   "cell_type": "markdown",
   "metadata": {},
   "source": [
    "Типичный диапазон финансирования составляет от 2 до 15,5 млн (IQR = 13,5 млн), при этом верхняя граница выбросов находится на уровне 35,75 млн, что охватывает 90,91% всех наблюдений.\n",
    "\n",
    "Примечательно, что было выявлено лишь 16 выбросов, что составляет относительно небольшую долю от общей выборки. Такое распределение может свидетельствовать о том, что большинство компаний, приобретенных за 0-1, привлекали умеренное финансирование (в пределах 2-15 млн), что характерно для стартапов на ранних и средних стадиях развития. Высокая верхняя граница (35,75 млн) при малом количестве выбросов предполагает, что даже существенно профинансированные компании могли быть проданы за символическую цену, возможно, в ситуациях стратегических приобретений, когда технология или команда представляли ценность, несмотря на финансовые трудности или необходимость срочного выхода инвесторов."
   ]
  },
  {
   "cell_type": "markdown",
   "metadata": {
    "id": "mEiWpROjrJg2"
   },
   "source": [
    "\n",
    "### 3.4. Цены стартапов по категориям\n",
    "\n",
    "Категории стартапов с типично высокими ценами покупки стартапов и значительным разбросом цен могут быть привлекательными для крупных инвесторов, которые готовы к высоким рискам ради потенциально больших доходов. Среди категорий стартапов выделите категории стартапов, характеризующиеся:\n",
    "\n",
    "- типично высокими ценами;\n",
    "- и наибольшим разбросом цен за стартап.\n",
    "\n"
   ]
  },
  {
   "cell_type": "markdown",
   "metadata": {
    "id": "jQ09dYUWrJg2",
    "vscode": {
     "languageId": "plaintext"
    }
   },
   "source": [
    "Первым шагом проведем очистку датасета, а именно уберем пропуски. Следующим шагом сгруппируем данные и после этого сделаем визуализацию. Последним шагом отсортируем данные для составления топа. Типичной ценой возьмем медиану, а разбросом - среднеквадратичное отклонение."
   ]
  },
  {
   "cell_type": "code",
   "execution_count": 53,
   "metadata": {
    "id": "eF1aULm5FjfY"
   },
   "outputs": [
    {
     "data": {
      "image/png": "[encoded data removed]",
      "text/plain": [
       "<Figure size 1152x576 with 2 Axes>"
      ]
     },
     "metadata": {
      "needs_background": "light"
     },
     "output_type": "display_data"
    }
   ],
   "source": [
    "category_of_companies = company_df_upd_added[(company_df_upd_added['category_code'].notna()) & \n",
    "                                             (company_df_upd_added['category_code'] != 'other') & \n",
    "                                             (company_df_upd_added['price_amount'] > 1)]\n",
    "\n",
    "# Группируем по категориям и считаем нужные метрики\n",
    "group_category_of_companies = category_of_companies.groupby('category_code')['price_amount'].agg([\n",
    "    'count', \n",
    "    'median', \n",
    "    'mean', \n",
    "    'std', \n",
    "    'max'\n",
    "]).round(0)\n",
    "\n",
    "#состовляем топ 10 с типично высокими ценами\n",
    "top_10_median = group_category_of_companies.sort_values('median', ascending=False).head(10)\n",
    "\n",
    "# Создаем тепловую карту для визуализации\n",
    "plt.figure(figsize=(16, 8))\n",
    "sns.heatmap(data=top_10_median, # Выбираем только нужные столбцы для визуализации\n",
    "            annot=True, \n",
    "            fmt='.0f',  \n",
    "            linewidths=1, \n",
    "            cmap='coolwarm'\n",
    ")\n",
    "\n",
    "plt.title('Топ-10 категорий компаний по типичной цене продажи')\n",
    "plt.xlabel('Метрики цены')\n",
    "plt.ylabel('Категории компаний')\n",
    "plt.show()"
   ]
  },
  {
   "cell_type": "code",
   "execution_count": 54,
   "metadata": {},
   "outputs": [
    {
     "data": {
      "image/png": "[encoded data removed]",
      "text/plain": [
       "<Figure size 1152x576 with 2 Axes>"
      ]
     },
     "metadata": {
      "needs_background": "light"
     },
     "output_type": "display_data"
    }
   ],
   "source": [
    "top_10_std = group_category_of_companies.sort_values('std', ascending = False).head(10)\n",
    "\n",
    "plt.figure(figsize = (16, 8))\n",
    "sns.heatmap(data = top_10_std,\n",
    "            annot = True, \n",
    "            fmt = '.0f', \n",
    "            linewidths = 1, \n",
    "            cmap = 'coolwarm'\n",
    ")\n",
    "\n",
    "plt.title('Топ-10 категорий компаний по разбросу')\n",
    "plt.xlabel('Метрики цены')\n",
    "plt.ylabel('Категории компаний')\n",
    "plt.show()"
   ]
  },
  {
   "cell_type": "markdown",
   "metadata": {},
   "source": [
    "Анализ категорий стартапов с высокими ценами покупки и значительным разбросом цен проводился для выявления наиболее привлекательных направлений для инвестиций. Топ-10 категорий был выбран как оптимальное количество, обеспечивающее репрезентативность выборки без избыточной детализации. В качестве основных метрик использовались медиана для оценки типичной цены (как робастный показатель, устойчивый к выбросам) и стандартное отклонение для измерения разброса стоимостных показателей.\n",
    "\n",
    "Наиболее перспективными для инвесторов являются категории, демонстрирующие одновременно высокую медианную цену и значительный разброс значений (такими категориями являются: `biotech`, `automotive` и `real_estate`). Высокая медиана указывает на общую рыночную оценку перспективности направления, а большой разброс цен свидетельствует о наличии как умеренно успешных компаний, так и потенциальных \"единорогов\" с многократно превышающей стоимостью. Такое сочетание создает условия для достижения сверхдоходов при грамотном выборе объектов инвестирования."
   ]
  },
  {
   "cell_type": "markdown",
   "metadata": {
    "id": "ADOfyVY_rJg3"
   },
   "source": [
    "\n",
    "### 3.5. Сколько раундов продержится стартап перед покупкой\n",
    "\n"
   ]
  },
  {
   "cell_type": "code",
   "execution_count": 31,
   "metadata": {
    "id": "hgXMPC4WrJg3",
    "vscode": {
     "languageId": "plaintext"
    }
   },
   "outputs": [
    {
     "name": "stdout",
     "output_type": "stream",
     "text": [
      "Среднее количество раундов для каждой группы стартапов:\n"
     ]
    },
    {
     "data": {
      "text/html": [
       "<div>\n",
       "<style scoped>\n",
       "    .dataframe tbody tr th:only-of-type {\n",
       "        vertical-align: middle;\n",
       "    }\n",
       "\n",
       "    .dataframe tbody tr th {\n",
       "        vertical-align: top;\n",
       "    }\n",
       "\n",
       "    .dataframe thead th {\n",
       "        text-align: right;\n",
       "    }\n",
       "</style>\n",
       "<table border=\"1\" class=\"dataframe\">\n",
       "  <thead>\n",
       "    <tr style=\"text-align: right;\">\n",
       "      <th></th>\n",
       "      <th>status</th>\n",
       "      <th>funding_rounds</th>\n",
       "    </tr>\n",
       "  </thead>\n",
       "  <tbody>\n",
       "    <tr>\n",
       "      <th>0</th>\n",
       "      <td>acquired</td>\n",
       "      <td>1.896645</td>\n",
       "    </tr>\n",
       "    <tr>\n",
       "      <th>1</th>\n",
       "      <td>closed</td>\n",
       "      <td>1.383437</td>\n",
       "    </tr>\n",
       "    <tr>\n",
       "      <th>2</th>\n",
       "      <td>ipo</td>\n",
       "      <td>2.526531</td>\n",
       "    </tr>\n",
       "    <tr>\n",
       "      <th>3</th>\n",
       "      <td>operating</td>\n",
       "      <td>1.642359</td>\n",
       "    </tr>\n",
       "  </tbody>\n",
       "</table>\n",
       "</div>"
      ],
      "text/plain": [
       "      status  funding_rounds\n",
       "0   acquired        1.896645\n",
       "1     closed        1.383437\n",
       "2        ipo        2.526531\n",
       "3  operating        1.642359"
      ]
     },
     "metadata": {},
     "output_type": "display_data"
    }
   ],
   "source": [
    "# Для начала анализа \"отбросим\" стартапы с нулевыми раундами\n",
    "funding_rounds_analytics = company_df_upd[company_df_upd['funding_rounds'] > 0]\n",
    "\n",
    "group_by_status = funding_rounds_analytics.groupby('status').agg({'funding_rounds':'mean'}).reset_index()\n",
    "\n",
    "print(f'Среднее количество раундов для каждой группы стартапов:')\n",
    "display(group_by_status)"
   ]
  },
  {
   "cell_type": "markdown",
   "metadata": {
    "id": "pV3e7kw5Fj1Y"
   },
   "source": [
    "Построим визуализацию. Будем использовать столбчатую диаграмму."
   ]
  },
  {
   "cell_type": "code",
   "execution_count": 32,
   "metadata": {},
   "outputs": [
    {
     "data": {
      "image/png": "[encoded data removed]",
      "text/plain": [
       "<Figure size 864x432 with 1 Axes>"
      ]
     },
     "metadata": {
      "needs_background": "light"
     },
     "output_type": "display_data"
    }
   ],
   "source": [
    "group_by_status.plot(kind='bar',\n",
    "                    x='status',\n",
    "                    y='funding_rounds',\n",
    "                    legend=False,\n",
    "                    rot=0,\n",
    "                    figsize=(12,6))\n",
    "\n",
    "plt.title('Диаграмма типичного количества раундов для каждой группы стартапов')\n",
    "plt.xlabel('Статус')\n",
    "plt.ylabel('Типичное количество раундов')\n",
    "plt.grid()\n",
    "plt.show()"
   ]
  },
  {
   "cell_type": "markdown",
   "metadata": {},
   "source": [
    "Компании, достигшие IPO, проходят наибольшее среднее количество раундов (2.53), что свидетельствует о необходимости значительных инвестиций для выхода на биржу; приобретенные стартапы (acquired) показывают средний результат (1.90 раунда), тогда как закрытые компании (closed) и operating-стартапы демонстрируют наименьшие значения (1.38 и 1.64 соответственно), что указывает на возможную корреляцию между объемом привлеченного финансирования и конечным успехом компании."
   ]
  },
  {
   "cell_type": "markdown",
   "metadata": {
    "id": "VAFEZ2HBrJg3"
   },
   "source": [
    "\n",
    "## Шаг 4. Итоговый вывод и рекомендации\n",
    "\n"
   ]
  },
  {
   "cell_type": "markdown",
   "metadata": {},
   "source": [
    "Проект выявил системные проблемы с качеством данных - критически высокий уровень пропусков в ключевых полях (до 80% в информации о сделках и условиях расчетов) существенно ограничивает репрезентативность выборки и требует крайне осторожной интерпретации результатов. Несмотря на это, анализ позволил идентифицировать значимые закономерности: технологический сектор (software, web, enterprise) демонстрирует наибольшую концентрацию сделок, включая символические продажи за 0-1 при наличии существенного финансирования, что может указывать на стратегические приобретения перспективных активов.\n",
    "\n",
    "Для минимизации рисков и максимизации доходности рекомендуется фокусироваться на категориях с одновременно высокой медианной ценой и значительным разбросом стоимостных показателей (biotech, automotive, real_estate), поскольку такое сочетание свидетельствует о наличии потенциала для сверхдоходов при успешном выборе объектов инвестирования. Анализ раундов финансирования показал четкую корреляцию между объемом привлеченных инвестиций и успехом компании - стартапы, достигшие IPO, проходили в среднем 2.53 раунда против 1.38 у закрывшихся компаний. Географически следует концентрироваться на рынке США (80.5% выявленных сделок), но с учетом отраслевой специфики целевых категорий. Для повышения достоверности будущих анализов необходимо инвестировать в улучшение системы сбора и верификации данных, особенно в части информации об условиях сделок и образовании ключевых сотрудников."
   ]
  }
 ],
 "metadata": {
  "ExecuteTimeLog": [
   {
    "duration": 4993,
    "start_time": "2025-09-02T09:56:10.922Z"
   },
   {
    "duration": 238,
    "start_time": "2025-09-02T09:57:15.482Z"
   },
   {
    "duration": 2163,
    "start_time": "2025-09-02T09:59:59.191Z"
   },
   {
    "duration": 4,
    "start_time": "2025-09-02T11:10:10.268Z"
   },
   {
    "duration": 3966,
    "start_time": "2025-09-02T11:10:19.713Z"
   },
   {
    "duration": 2324,
    "start_time": "2025-09-02T11:10:23.681Z"
   },
   {
    "duration": 4,
    "start_time": "2025-09-02T11:10:26.006Z"
   },
   {
    "duration": 117,
    "start_time": "2025-09-02T11:16:47.755Z"
   },
   {
    "duration": 23,
    "start_time": "2025-09-02T11:17:00.824Z"
   },
   {
    "duration": 7,
    "start_time": "2025-09-02T11:17:09.147Z"
   },
   {
    "duration": 174,
    "start_time": "2025-09-02T11:25:28.999Z"
   },
   {
    "duration": 152,
    "start_time": "2025-09-02T11:27:02.198Z"
   },
   {
    "duration": 1296,
    "start_time": "2025-09-02T19:36:40.620Z"
   },
   {
    "duration": 2345,
    "start_time": "2025-09-02T19:36:41.919Z"
   },
   {
    "duration": 28,
    "start_time": "2025-09-02T19:36:44.265Z"
   },
   {
    "duration": 285,
    "start_time": "2025-09-02T19:36:44.295Z"
   },
   {
    "duration": 7,
    "start_time": "2025-09-02T19:44:54.092Z"
   },
   {
    "duration": 1490,
    "start_time": "2025-09-02T19:47:29.160Z"
   },
   {
    "duration": 1240,
    "start_time": "2025-09-02T19:47:34.577Z"
   },
   {
    "duration": 2675,
    "start_time": "2025-09-02T19:47:35.819Z"
   },
   {
    "duration": 6,
    "start_time": "2025-09-02T19:47:38.496Z"
   },
   {
    "duration": 1172,
    "start_time": "2025-09-02T19:47:38.503Z"
   },
   {
    "duration": 320,
    "start_time": "2025-09-02T19:48:04.300Z"
   },
   {
    "duration": 13,
    "start_time": "2025-09-02T19:53:45.240Z"
   },
   {
    "duration": 17,
    "start_time": "2025-09-02T19:53:51.884Z"
   },
   {
    "duration": 11,
    "start_time": "2025-09-02T19:53:59.762Z"
   },
   {
    "duration": 11,
    "start_time": "2025-09-02T19:54:14.376Z"
   },
   {
    "duration": 13,
    "start_time": "2025-09-02T19:54:53.564Z"
   },
   {
    "duration": 12,
    "start_time": "2025-09-02T19:54:57.524Z"
   },
   {
    "duration": 12,
    "start_time": "2025-09-02T19:55:02.868Z"
   },
   {
    "duration": 18,
    "start_time": "2025-09-02T19:55:44.837Z"
   },
   {
    "duration": 12,
    "start_time": "2025-09-02T19:55:52.728Z"
   },
   {
    "duration": 18,
    "start_time": "2025-09-02T19:56:53.618Z"
   },
   {
    "duration": 12,
    "start_time": "2025-09-02T19:57:04.745Z"
   },
   {
    "duration": 39,
    "start_time": "2025-09-02T19:59:05.047Z"
   },
   {
    "duration": 139,
    "start_time": "2025-09-02T19:59:07.425Z"
   },
   {
    "duration": 69,
    "start_time": "2025-09-02T19:59:08.834Z"
   },
   {
    "duration": 20,
    "start_time": "2025-09-02T19:59:09.655Z"
   },
   {
    "duration": 40,
    "start_time": "2025-09-02T19:59:10.818Z"
   },
   {
    "duration": 618,
    "start_time": "2025-09-02T20:07:44.661Z"
   },
   {
    "duration": 537,
    "start_time": "2025-09-02T20:08:08.933Z"
   },
   {
    "duration": 11,
    "start_time": "2025-09-02T20:17:26.577Z"
   },
   {
    "duration": 78,
    "start_time": "2025-09-02T20:20:33.755Z"
   },
   {
    "duration": 58,
    "start_time": "2025-09-02T20:20:43.685Z"
   },
   {
    "duration": 32,
    "start_time": "2025-09-02T20:21:06.213Z"
   },
   {
    "duration": 1184,
    "start_time": "2025-09-02T20:21:15.100Z"
   },
   {
    "duration": 1186,
    "start_time": "2025-09-02T20:22:21.801Z"
   },
   {
    "duration": 1110,
    "start_time": "2025-09-02T20:22:36.224Z"
   },
   {
    "duration": 30,
    "start_time": "2025-09-02T20:23:04.780Z"
   },
   {
    "duration": 33,
    "start_time": "2025-09-02T20:24:18.194Z"
   },
   {
    "duration": 33,
    "start_time": "2025-09-02T20:24:26.513Z"
   },
   {
    "duration": 344,
    "start_time": "2025-09-02T20:27:05.992Z"
   },
   {
    "duration": 32,
    "start_time": "2025-09-02T20:27:28.534Z"
   },
   {
    "duration": 37,
    "start_time": "2025-09-02T20:27:45.173Z"
   },
   {
    "duration": 35,
    "start_time": "2025-09-02T20:28:08.346Z"
   },
   {
    "duration": 93,
    "start_time": "2025-09-02T20:30:16.956Z"
   },
   {
    "duration": 87,
    "start_time": "2025-09-02T20:30:25.131Z"
   },
   {
    "duration": 60,
    "start_time": "2025-09-02T20:30:59.329Z"
   },
   {
    "duration": 65,
    "start_time": "2025-09-02T20:31:13.994Z"
   },
   {
    "duration": 63,
    "start_time": "2025-09-02T20:32:04.092Z"
   },
   {
    "duration": 32,
    "start_time": "2025-09-02T20:32:13.409Z"
   },
   {
    "duration": 1148,
    "start_time": "2025-09-02T20:32:38.355Z"
   },
   {
    "duration": 1374,
    "start_time": "2025-09-02T20:32:54.176Z"
   },
   {
    "duration": 46,
    "start_time": "2025-09-02T20:33:04.006Z"
   },
   {
    "duration": 1088,
    "start_time": "2025-09-02T20:35:24.126Z"
   },
   {
    "duration": 309,
    "start_time": "2025-09-02T20:35:58.569Z"
   },
   {
    "duration": 35,
    "start_time": "2025-09-02T20:36:15.723Z"
   },
   {
    "duration": 198,
    "start_time": "2025-09-02T20:37:19.311Z"
   },
   {
    "duration": 11,
    "start_time": "2025-09-02T20:37:47.210Z"
   },
   {
    "duration": 186,
    "start_time": "2025-09-02T20:37:51.047Z"
   },
   {
    "duration": 198,
    "start_time": "2025-09-02T20:38:21.355Z"
   },
   {
    "duration": 212,
    "start_time": "2025-09-02T20:39:29.152Z"
   },
   {
    "duration": 184,
    "start_time": "2025-09-02T20:39:42.948Z"
   },
   {
    "duration": 224,
    "start_time": "2025-09-02T20:39:49.491Z"
   },
   {
    "duration": 229,
    "start_time": "2025-09-02T20:40:12.514Z"
   },
   {
    "duration": 317,
    "start_time": "2025-09-02T20:40:33.538Z"
   },
   {
    "duration": 220,
    "start_time": "2025-09-02T20:40:40.233Z"
   },
   {
    "duration": 213,
    "start_time": "2025-09-02T20:42:06.434Z"
   },
   {
    "duration": 212,
    "start_time": "2025-09-02T20:44:03.376Z"
   },
   {
    "duration": 1141,
    "start_time": "2025-09-02T20:48:51.130Z"
   },
   {
    "duration": 2461,
    "start_time": "2025-09-02T20:48:52.273Z"
   },
   {
    "duration": 7,
    "start_time": "2025-09-02T20:48:54.736Z"
   },
   {
    "duration": 362,
    "start_time": "2025-09-02T20:48:54.745Z"
   },
   {
    "duration": 13,
    "start_time": "2025-09-02T20:48:55.108Z"
   },
   {
    "duration": 173,
    "start_time": "2025-09-02T20:48:55.123Z"
   },
   {
    "duration": 71,
    "start_time": "2025-09-02T20:48:55.298Z"
   },
   {
    "duration": 38,
    "start_time": "2025-09-02T20:48:55.370Z"
   },
   {
    "duration": 42,
    "start_time": "2025-09-02T20:48:55.410Z"
   },
   {
    "duration": 610,
    "start_time": "2025-09-02T20:48:55.487Z"
   },
   {
    "duration": 44,
    "start_time": "2025-09-02T20:48:56.099Z"
   },
   {
    "duration": 262,
    "start_time": "2025-09-02T20:48:56.145Z"
   },
   {
    "duration": 222,
    "start_time": "2025-09-02T20:48:56.409Z"
   },
   {
    "duration": 210,
    "start_time": "2025-09-02T20:49:20.491Z"
   },
   {
    "duration": 210,
    "start_time": "2025-09-02T20:49:27.473Z"
   },
   {
    "duration": 543,
    "start_time": "2025-09-02T21:01:36.648Z"
   },
   {
    "duration": 249,
    "start_time": "2025-09-02T21:02:16.097Z"
   },
   {
    "duration": 317,
    "start_time": "2025-09-02T21:02:29.352Z"
   },
   {
    "duration": 305,
    "start_time": "2025-09-02T21:03:00.453Z"
   },
   {
    "duration": 261,
    "start_time": "2025-09-02T21:03:07.677Z"
   },
   {
    "duration": 263,
    "start_time": "2025-09-02T21:04:40.425Z"
   },
   {
    "duration": 97,
    "start_time": "2025-09-02T21:05:29.123Z"
   },
   {
    "duration": 268,
    "start_time": "2025-09-02T21:07:11.698Z"
   },
   {
    "duration": 52,
    "start_time": "2025-09-02T21:08:07.570Z"
   },
   {
    "duration": 103,
    "start_time": "2025-09-02T21:08:14.571Z"
   },
   {
    "duration": 76,
    "start_time": "2025-09-02T21:08:54.441Z"
   },
   {
    "duration": 28,
    "start_time": "2025-09-02T21:09:51.843Z"
   },
   {
    "duration": 75,
    "start_time": "2025-09-02T21:27:53.818Z"
   },
   {
    "duration": 61,
    "start_time": "2025-09-02T21:28:13.433Z"
   },
   {
    "duration": 70,
    "start_time": "2025-09-02T21:28:27.391Z"
   },
   {
    "duration": 49,
    "start_time": "2025-09-02T21:28:39.405Z"
   },
   {
    "duration": 48,
    "start_time": "2025-09-02T21:29:11.123Z"
   },
   {
    "duration": 1263,
    "start_time": "2025-09-02T21:32:29.082Z"
   },
   {
    "duration": 2193,
    "start_time": "2025-09-02T21:32:30.347Z"
   },
   {
    "duration": 7,
    "start_time": "2025-09-02T21:32:32.542Z"
   },
   {
    "duration": 365,
    "start_time": "2025-09-02T21:32:32.551Z"
   },
   {
    "duration": 14,
    "start_time": "2025-09-02T21:32:32.918Z"
   },
   {
    "duration": 173,
    "start_time": "2025-09-02T21:32:32.934Z"
   },
   {
    "duration": 90,
    "start_time": "2025-09-02T21:32:33.109Z"
   },
   {
    "duration": 22,
    "start_time": "2025-09-02T21:32:33.200Z"
   },
   {
    "duration": 65,
    "start_time": "2025-09-02T21:32:33.224Z"
   },
   {
    "duration": 618,
    "start_time": "2025-09-02T21:32:33.291Z"
   },
   {
    "duration": 41,
    "start_time": "2025-09-02T21:32:33.911Z"
   },
   {
    "duration": 277,
    "start_time": "2025-09-02T21:32:33.954Z"
   },
   {
    "duration": 222,
    "start_time": "2025-09-02T21:32:34.233Z"
   },
   {
    "duration": 56,
    "start_time": "2025-09-02T21:32:34.457Z"
   },
   {
    "duration": 278,
    "start_time": "2025-09-02T21:32:34.515Z"
   },
   {
    "duration": 114,
    "start_time": "2025-09-02T21:32:34.795Z"
   },
   {
    "duration": 38,
    "start_time": "2025-09-02T21:32:34.911Z"
   },
   {
    "duration": 43,
    "start_time": "2025-09-03T07:59:48.398Z"
   },
   {
    "duration": 1231,
    "start_time": "2025-09-03T08:00:25.612Z"
   },
   {
    "duration": 2431,
    "start_time": "2025-09-03T08:00:26.845Z"
   },
   {
    "duration": 6,
    "start_time": "2025-09-03T08:00:29.278Z"
   },
   {
    "duration": 296,
    "start_time": "2025-09-03T08:00:29.286Z"
   },
   {
    "duration": 10,
    "start_time": "2025-09-03T08:00:29.584Z"
   },
   {
    "duration": 140,
    "start_time": "2025-09-03T08:00:29.596Z"
   },
   {
    "duration": 70,
    "start_time": "2025-09-03T08:00:29.737Z"
   },
   {
    "duration": 20,
    "start_time": "2025-09-03T08:00:29.808Z"
   },
   {
    "duration": 54,
    "start_time": "2025-09-03T08:00:29.829Z"
   },
   {
    "duration": 537,
    "start_time": "2025-09-03T08:00:29.884Z"
   },
   {
    "duration": 35,
    "start_time": "2025-09-03T08:00:30.423Z"
   },
   {
    "duration": 237,
    "start_time": "2025-09-03T08:00:30.470Z"
   },
   {
    "duration": 193,
    "start_time": "2025-09-03T08:00:30.708Z"
   },
   {
    "duration": 149,
    "start_time": "2025-09-03T08:00:30.903Z"
   },
   {
    "duration": 0,
    "start_time": "2025-09-03T08:00:31.053Z"
   },
   {
    "duration": 0,
    "start_time": "2025-09-03T08:00:31.055Z"
   },
   {
    "duration": 0,
    "start_time": "2025-09-03T08:00:31.055Z"
   },
   {
    "duration": 0,
    "start_time": "2025-09-03T08:00:31.057Z"
   },
   {
    "duration": 97,
    "start_time": "2025-09-03T08:00:43.964Z"
   },
   {
    "duration": 101,
    "start_time": "2025-09-03T08:07:10.207Z"
   },
   {
    "duration": 137,
    "start_time": "2025-09-03T08:28:46.023Z"
   },
   {
    "duration": 280,
    "start_time": "2025-09-03T08:28:56.600Z"
   },
   {
    "duration": 56,
    "start_time": "2025-09-03T08:29:22.738Z"
   },
   {
    "duration": 56,
    "start_time": "2025-09-03T08:29:37.894Z"
   },
   {
    "duration": 55,
    "start_time": "2025-09-03T08:29:41.446Z"
   },
   {
    "duration": 1135,
    "start_time": "2025-09-03T08:30:05.346Z"
   },
   {
    "duration": 2988,
    "start_time": "2025-09-03T08:30:06.483Z"
   },
   {
    "duration": 6,
    "start_time": "2025-09-03T08:30:09.473Z"
   },
   {
    "duration": 338,
    "start_time": "2025-09-03T08:30:09.480Z"
   },
   {
    "duration": 0,
    "start_time": "2025-09-03T08:30:09.820Z"
   },
   {
    "duration": 0,
    "start_time": "2025-09-03T08:30:09.821Z"
   },
   {
    "duration": 0,
    "start_time": "2025-09-03T08:30:09.823Z"
   },
   {
    "duration": 0,
    "start_time": "2025-09-03T08:30:09.824Z"
   },
   {
    "duration": 0,
    "start_time": "2025-09-03T08:30:09.825Z"
   },
   {
    "duration": 0,
    "start_time": "2025-09-03T08:30:09.826Z"
   },
   {
    "duration": 0,
    "start_time": "2025-09-03T08:30:09.827Z"
   },
   {
    "duration": 0,
    "start_time": "2025-09-03T08:30:09.827Z"
   },
   {
    "duration": 0,
    "start_time": "2025-09-03T08:30:09.829Z"
   },
   {
    "duration": 0,
    "start_time": "2025-09-03T08:30:09.830Z"
   },
   {
    "duration": 0,
    "start_time": "2025-09-03T08:30:09.830Z"
   },
   {
    "duration": 0,
    "start_time": "2025-09-03T08:30:09.831Z"
   },
   {
    "duration": 0,
    "start_time": "2025-09-03T08:30:09.832Z"
   },
   {
    "duration": 0,
    "start_time": "2025-09-03T08:30:09.833Z"
   },
   {
    "duration": 244,
    "start_time": "2025-09-03T08:30:16.195Z"
   },
   {
    "duration": 1125,
    "start_time": "2025-09-03T08:32:10.258Z"
   },
   {
    "duration": 2546,
    "start_time": "2025-09-03T08:32:11.386Z"
   },
   {
    "duration": 6,
    "start_time": "2025-09-03T08:32:13.934Z"
   },
   {
    "duration": 402,
    "start_time": "2025-09-03T08:32:13.970Z"
   },
   {
    "duration": 10,
    "start_time": "2025-09-03T08:32:14.374Z"
   },
   {
    "duration": 150,
    "start_time": "2025-09-03T08:32:14.385Z"
   },
   {
    "duration": 71,
    "start_time": "2025-09-03T08:32:14.537Z"
   },
   {
    "duration": 19,
    "start_time": "2025-09-03T08:32:14.609Z"
   },
   {
    "duration": 48,
    "start_time": "2025-09-03T08:32:14.630Z"
   },
   {
    "duration": 592,
    "start_time": "2025-09-03T08:32:14.681Z"
   },
   {
    "duration": 35,
    "start_time": "2025-09-03T08:32:15.274Z"
   },
   {
    "duration": 225,
    "start_time": "2025-09-03T08:32:15.311Z"
   },
   {
    "duration": 197,
    "start_time": "2025-09-03T08:32:15.538Z"
   },
   {
    "duration": 101,
    "start_time": "2025-09-03T08:32:15.737Z"
   },
   {
    "duration": 54,
    "start_time": "2025-09-03T08:32:15.839Z"
   },
   {
    "duration": 260,
    "start_time": "2025-09-03T08:32:15.895Z"
   },
   {
    "duration": 122,
    "start_time": "2025-09-03T08:32:16.157Z"
   },
   {
    "duration": 25,
    "start_time": "2025-09-03T08:32:16.281Z"
   },
   {
    "duration": 234,
    "start_time": "2025-09-03T08:42:45.407Z"
   },
   {
    "duration": 173,
    "start_time": "2025-09-03T08:45:03.372Z"
   },
   {
    "duration": 159,
    "start_time": "2025-09-03T08:45:25.572Z"
   },
   {
    "duration": 162,
    "start_time": "2025-09-03T08:45:33.491Z"
   },
   {
    "duration": 159,
    "start_time": "2025-09-03T08:47:24.484Z"
   },
   {
    "duration": 64,
    "start_time": "2025-09-03T09:40:04.250Z"
   },
   {
    "duration": 93,
    "start_time": "2025-09-03T09:41:36.890Z"
   },
   {
    "duration": 116,
    "start_time": "2025-09-03T09:41:50.867Z"
   },
   {
    "duration": 136,
    "start_time": "2025-09-03T09:44:29.023Z"
   },
   {
    "duration": 1033,
    "start_time": "2025-09-03T09:44:38.127Z"
   },
   {
    "duration": 2772,
    "start_time": "2025-09-03T09:44:39.162Z"
   },
   {
    "duration": 34,
    "start_time": "2025-09-03T09:44:41.936Z"
   },
   {
    "duration": 398,
    "start_time": "2025-09-03T09:44:41.972Z"
   },
   {
    "duration": 11,
    "start_time": "2025-09-03T09:44:42.372Z"
   },
   {
    "duration": 145,
    "start_time": "2025-09-03T09:44:42.385Z"
   },
   {
    "duration": 70,
    "start_time": "2025-09-03T09:44:42.532Z"
   },
   {
    "duration": 18,
    "start_time": "2025-09-03T09:44:42.604Z"
   },
   {
    "duration": 51,
    "start_time": "2025-09-03T09:44:42.623Z"
   },
   {
    "duration": 501,
    "start_time": "2025-09-03T09:44:42.675Z"
   },
   {
    "duration": 35,
    "start_time": "2025-09-03T09:44:43.178Z"
   },
   {
    "duration": 206,
    "start_time": "2025-09-03T09:44:43.215Z"
   },
   {
    "duration": 194,
    "start_time": "2025-09-03T09:44:43.422Z"
   },
   {
    "duration": 144,
    "start_time": "2025-09-03T09:44:43.619Z"
   },
   {
    "duration": 264,
    "start_time": "2025-09-03T09:44:43.764Z"
   },
   {
    "duration": 94,
    "start_time": "2025-09-03T09:44:44.030Z"
   },
   {
    "duration": 130,
    "start_time": "2025-09-03T09:44:44.125Z"
   },
   {
    "duration": 49,
    "start_time": "2025-09-03T09:44:44.256Z"
   },
   {
    "duration": 247,
    "start_time": "2025-09-03T09:44:44.306Z"
   },
   {
    "duration": 89,
    "start_time": "2025-09-03T09:44:44.555Z"
   },
   {
    "duration": 41,
    "start_time": "2025-09-03T09:44:44.646Z"
   },
   {
    "duration": 352,
    "start_time": "2025-09-03T09:46:18.840Z"
   },
   {
    "duration": 154,
    "start_time": "2025-09-03T09:46:23.570Z"
   },
   {
    "duration": 260,
    "start_time": "2025-09-03T09:46:25.525Z"
   },
   {
    "duration": 4,
    "start_time": "2025-09-03T09:51:38.232Z"
   },
   {
    "duration": 94,
    "start_time": "2025-09-03T09:52:56.277Z"
   },
   {
    "duration": 20,
    "start_time": "2025-09-03T10:00:43.179Z"
   },
   {
    "duration": 19,
    "start_time": "2025-09-03T10:01:08.948Z"
   },
   {
    "duration": 102,
    "start_time": "2025-09-03T10:01:40.216Z"
   },
   {
    "duration": 19,
    "start_time": "2025-09-03T10:02:26.047Z"
   },
   {
    "duration": 20,
    "start_time": "2025-09-03T10:02:46.551Z"
   },
   {
    "duration": 20,
    "start_time": "2025-09-03T10:02:50.800Z"
   },
   {
    "duration": 21,
    "start_time": "2025-09-03T10:03:15.167Z"
   },
   {
    "duration": 112,
    "start_time": "2025-09-03T10:03:54.468Z"
   },
   {
    "duration": 421,
    "start_time": "2025-09-03T10:05:18.691Z"
   },
   {
    "duration": 125,
    "start_time": "2025-09-03T10:05:53.011Z"
   },
   {
    "duration": 1119,
    "start_time": "2025-09-03T10:06:01.454Z"
   },
   {
    "duration": 2159,
    "start_time": "2025-09-03T10:06:02.575Z"
   },
   {
    "duration": 33,
    "start_time": "2025-09-03T10:06:04.736Z"
   },
   {
    "duration": 403,
    "start_time": "2025-09-03T10:06:04.771Z"
   },
   {
    "duration": 13,
    "start_time": "2025-09-03T10:06:05.176Z"
   },
   {
    "duration": 149,
    "start_time": "2025-09-03T10:06:05.190Z"
   },
   {
    "duration": 73,
    "start_time": "2025-09-03T10:06:05.341Z"
   },
   {
    "duration": 21,
    "start_time": "2025-09-03T10:06:05.417Z"
   },
   {
    "duration": 48,
    "start_time": "2025-09-03T10:06:05.439Z"
   },
   {
    "duration": 528,
    "start_time": "2025-09-03T10:06:05.488Z"
   },
   {
    "duration": 36,
    "start_time": "2025-09-03T10:06:06.018Z"
   },
   {
    "duration": 232,
    "start_time": "2025-09-03T10:06:06.056Z"
   },
   {
    "duration": 198,
    "start_time": "2025-09-03T10:06:06.289Z"
   },
   {
    "duration": 148,
    "start_time": "2025-09-03T10:06:06.490Z"
   },
   {
    "duration": 386,
    "start_time": "2025-09-03T10:06:06.639Z"
   },
   {
    "duration": 158,
    "start_time": "2025-09-03T10:06:07.027Z"
   },
   {
    "duration": 253,
    "start_time": "2025-09-03T10:06:07.186Z"
   },
   {
    "duration": 113,
    "start_time": "2025-09-03T10:06:07.440Z"
   },
   {
    "duration": 42,
    "start_time": "2025-09-03T10:06:07.554Z"
   },
   {
    "duration": 40,
    "start_time": "2025-09-03T10:06:07.597Z"
   },
   {
    "duration": 244,
    "start_time": "2025-09-03T10:06:07.639Z"
   },
   {
    "duration": 94,
    "start_time": "2025-09-03T10:06:07.885Z"
   },
   {
    "duration": 32,
    "start_time": "2025-09-03T10:06:07.981Z"
   },
   {
    "duration": 99,
    "start_time": "2025-09-03T10:08:27.700Z"
   },
   {
    "duration": 21,
    "start_time": "2025-09-03T10:08:38.523Z"
   },
   {
    "duration": 21,
    "start_time": "2025-09-03T10:18:16.220Z"
   },
   {
    "duration": 21,
    "start_time": "2025-09-03T10:18:40.212Z"
   },
   {
    "duration": 15,
    "start_time": "2025-09-03T10:27:33.515Z"
   },
   {
    "duration": 1098,
    "start_time": "2025-09-03T10:34:24.067Z"
   },
   {
    "duration": 2257,
    "start_time": "2025-09-03T10:34:25.167Z"
   },
   {
    "duration": 6,
    "start_time": "2025-09-03T10:34:27.426Z"
   },
   {
    "duration": 414,
    "start_time": "2025-09-03T10:34:27.434Z"
   },
   {
    "duration": 24,
    "start_time": "2025-09-03T10:34:27.850Z"
   },
   {
    "duration": 140,
    "start_time": "2025-09-03T10:34:27.876Z"
   },
   {
    "duration": 82,
    "start_time": "2025-09-03T10:34:28.018Z"
   },
   {
    "duration": 19,
    "start_time": "2025-09-03T10:34:28.102Z"
   },
   {
    "duration": 48,
    "start_time": "2025-09-03T10:34:28.123Z"
   },
   {
    "duration": 516,
    "start_time": "2025-09-03T10:34:28.174Z"
   },
   {
    "duration": 36,
    "start_time": "2025-09-03T10:34:28.691Z"
   },
   {
    "duration": 244,
    "start_time": "2025-09-03T10:34:28.729Z"
   },
   {
    "duration": 200,
    "start_time": "2025-09-03T10:34:28.974Z"
   },
   {
    "duration": 146,
    "start_time": "2025-09-03T10:34:29.176Z"
   },
   {
    "duration": 398,
    "start_time": "2025-09-03T10:34:29.324Z"
   },
   {
    "duration": 165,
    "start_time": "2025-09-03T10:34:29.723Z"
   },
   {
    "duration": 258,
    "start_time": "2025-09-03T10:34:29.890Z"
   },
   {
    "duration": 111,
    "start_time": "2025-09-03T10:34:30.149Z"
   },
   {
    "duration": 29,
    "start_time": "2025-09-03T10:34:30.270Z"
   },
   {
    "duration": 114,
    "start_time": "2025-09-03T10:34:30.300Z"
   },
   {
    "duration": 53,
    "start_time": "2025-09-03T10:34:30.415Z"
   },
   {
    "duration": 176,
    "start_time": "2025-09-03T10:34:30.469Z"
   },
   {
    "duration": 275,
    "start_time": "2025-09-03T10:34:30.647Z"
   },
   {
    "duration": 93,
    "start_time": "2025-09-03T10:34:30.924Z"
   },
   {
    "duration": 54,
    "start_time": "2025-09-03T10:34:31.019Z"
   },
   {
    "duration": 1252,
    "start_time": "2025-09-03T11:12:12.322Z"
   },
   {
    "duration": 3876,
    "start_time": "2025-09-03T11:12:13.575Z"
   },
   {
    "duration": 7,
    "start_time": "2025-09-03T11:12:17.453Z"
   },
   {
    "duration": 454,
    "start_time": "2025-09-03T11:12:17.461Z"
   },
   {
    "duration": 27,
    "start_time": "2025-09-03T11:12:17.917Z"
   },
   {
    "duration": 189,
    "start_time": "2025-09-03T11:12:17.946Z"
   },
   {
    "duration": 69,
    "start_time": "2025-09-03T11:12:18.137Z"
   },
   {
    "duration": 45,
    "start_time": "2025-09-03T11:12:18.207Z"
   },
   {
    "duration": 30,
    "start_time": "2025-09-03T11:12:18.254Z"
   },
   {
    "duration": 612,
    "start_time": "2025-09-03T11:12:18.286Z"
   },
   {
    "duration": 53,
    "start_time": "2025-09-03T11:12:18.900Z"
   },
   {
    "duration": 240,
    "start_time": "2025-09-03T11:12:18.955Z"
   },
   {
    "duration": 223,
    "start_time": "2025-09-03T11:12:19.197Z"
   },
   {
    "duration": 169,
    "start_time": "2025-09-03T11:12:19.423Z"
   },
   {
    "duration": 427,
    "start_time": "2025-09-03T11:12:19.594Z"
   },
   {
    "duration": 188,
    "start_time": "2025-09-03T11:12:20.023Z"
   },
   {
    "duration": 285,
    "start_time": "2025-09-03T11:12:20.213Z"
   },
   {
    "duration": 141,
    "start_time": "2025-09-03T11:12:20.500Z"
   },
   {
    "duration": 32,
    "start_time": "2025-09-03T11:12:20.643Z"
   },
   {
    "duration": 53,
    "start_time": "2025-09-03T11:12:20.677Z"
   },
   {
    "duration": 26,
    "start_time": "2025-09-03T11:12:20.732Z"
   },
   {
    "duration": 72,
    "start_time": "2025-09-03T11:12:20.759Z"
   },
   {
    "duration": 277,
    "start_time": "2025-09-03T11:12:20.833Z"
   },
   {
    "duration": 100,
    "start_time": "2025-09-03T11:12:21.111Z"
   },
   {
    "duration": 43,
    "start_time": "2025-09-03T11:12:21.213Z"
   },
   {
    "duration": 49,
    "start_time": "2025-09-04T20:55:00.661Z"
   },
   {
    "duration": 1374,
    "start_time": "2025-09-04T20:55:17.163Z"
   },
   {
    "duration": 2539,
    "start_time": "2025-09-04T20:55:18.539Z"
   },
   {
    "duration": 6,
    "start_time": "2025-09-04T20:55:21.079Z"
   },
   {
    "duration": 542,
    "start_time": "2025-09-04T20:55:21.087Z"
   },
   {
    "duration": 13,
    "start_time": "2025-09-04T20:55:21.631Z"
   },
   {
    "duration": 177,
    "start_time": "2025-09-04T20:55:21.645Z"
   },
   {
    "duration": 87,
    "start_time": "2025-09-04T20:55:21.823Z"
   },
   {
    "duration": 22,
    "start_time": "2025-09-04T20:55:21.911Z"
   },
   {
    "duration": 60,
    "start_time": "2025-09-04T20:55:21.934Z"
   },
   {
    "duration": 597,
    "start_time": "2025-09-04T20:55:21.996Z"
   },
   {
    "duration": 40,
    "start_time": "2025-09-04T20:55:22.595Z"
   },
   {
    "duration": 256,
    "start_time": "2025-09-04T20:55:22.636Z"
   },
   {
    "duration": 223,
    "start_time": "2025-09-04T20:55:22.893Z"
   },
   {
    "duration": 159,
    "start_time": "2025-09-04T20:55:23.119Z"
   },
   {
    "duration": 415,
    "start_time": "2025-09-04T20:55:23.279Z"
   },
   {
    "duration": 182,
    "start_time": "2025-09-04T20:55:23.695Z"
   },
   {
    "duration": 272,
    "start_time": "2025-09-04T20:55:23.879Z"
   },
   {
    "duration": 108,
    "start_time": "2025-09-04T20:55:24.153Z"
   },
   {
    "duration": 1,
    "start_time": "2025-09-04T20:55:24.270Z"
   },
   {
    "duration": 0,
    "start_time": "2025-09-04T20:55:24.272Z"
   },
   {
    "duration": 0,
    "start_time": "2025-09-04T20:55:24.273Z"
   },
   {
    "duration": 0,
    "start_time": "2025-09-04T20:55:24.274Z"
   },
   {
    "duration": 0,
    "start_time": "2025-09-04T20:55:24.275Z"
   },
   {
    "duration": 0,
    "start_time": "2025-09-04T20:55:24.276Z"
   },
   {
    "duration": 0,
    "start_time": "2025-09-04T20:55:24.277Z"
   },
   {
    "duration": 167,
    "start_time": "2025-09-04T20:56:24.358Z"
   },
   {
    "duration": 205,
    "start_time": "2025-09-04T20:58:05.728Z"
   },
   {
    "duration": 162,
    "start_time": "2025-09-04T20:58:24.682Z"
   },
   {
    "duration": 147,
    "start_time": "2025-09-04T20:58:43.843Z"
   },
   {
    "duration": 1156,
    "start_time": "2025-09-04T20:58:50.838Z"
   },
   {
    "duration": 2223,
    "start_time": "2025-09-04T20:58:51.996Z"
   },
   {
    "duration": 8,
    "start_time": "2025-09-04T20:58:54.221Z"
   },
   {
    "duration": 463,
    "start_time": "2025-09-04T20:58:54.230Z"
   },
   {
    "duration": 13,
    "start_time": "2025-09-04T20:58:54.695Z"
   },
   {
    "duration": 178,
    "start_time": "2025-09-04T20:58:54.709Z"
   },
   {
    "duration": 88,
    "start_time": "2025-09-04T20:58:54.889Z"
   },
   {
    "duration": 21,
    "start_time": "2025-09-04T20:58:54.978Z"
   },
   {
    "duration": 40,
    "start_time": "2025-09-04T20:58:55.001Z"
   },
   {
    "duration": 609,
    "start_time": "2025-09-04T20:58:55.042Z"
   },
   {
    "duration": 52,
    "start_time": "2025-09-04T20:58:55.653Z"
   },
   {
    "duration": 243,
    "start_time": "2025-09-04T20:58:55.707Z"
   },
   {
    "duration": 235,
    "start_time": "2025-09-04T20:58:55.951Z"
   },
   {
    "duration": 181,
    "start_time": "2025-09-04T20:58:56.190Z"
   },
   {
    "duration": 440,
    "start_time": "2025-09-04T20:58:56.373Z"
   },
   {
    "duration": 199,
    "start_time": "2025-09-04T20:58:56.815Z"
   },
   {
    "duration": 276,
    "start_time": "2025-09-04T20:58:57.015Z"
   },
   {
    "duration": 121,
    "start_time": "2025-09-04T20:58:57.292Z"
   },
   {
    "duration": 32,
    "start_time": "2025-09-04T20:58:57.415Z"
   },
   {
    "duration": 43,
    "start_time": "2025-09-04T20:58:57.448Z"
   },
   {
    "duration": 15,
    "start_time": "2025-09-04T20:58:57.493Z"
   },
   {
    "duration": 65,
    "start_time": "2025-09-04T20:58:57.509Z"
   },
   {
    "duration": 252,
    "start_time": "2025-09-04T20:58:57.576Z"
   },
   {
    "duration": 106,
    "start_time": "2025-09-04T20:58:57.830Z"
   },
   {
    "duration": 46,
    "start_time": "2025-09-04T20:58:57.937Z"
   },
   {
    "duration": 317,
    "start_time": "2025-09-04T21:00:16.783Z"
   },
   {
    "duration": 103,
    "start_time": "2025-09-04T21:00:22.727Z"
   },
   {
    "duration": 345,
    "start_time": "2025-09-04T21:00:56.659Z"
   },
   {
    "duration": 124,
    "start_time": "2025-09-04T21:10:02.039Z"
   },
   {
    "duration": 84,
    "start_time": "2025-09-04T21:10:31.511Z"
   },
   {
    "duration": 76,
    "start_time": "2025-09-04T21:11:28.472Z"
   },
   {
    "duration": 1362,
    "start_time": "2025-09-04T21:15:06.869Z"
   },
   {
    "duration": 2813,
    "start_time": "2025-09-04T21:15:08.233Z"
   },
   {
    "duration": 7,
    "start_time": "2025-09-04T21:15:11.047Z"
   },
   {
    "duration": 475,
    "start_time": "2025-09-04T21:15:11.076Z"
   },
   {
    "duration": 30,
    "start_time": "2025-09-04T21:15:11.552Z"
   },
   {
    "duration": 199,
    "start_time": "2025-09-04T21:15:11.584Z"
   },
   {
    "duration": 108,
    "start_time": "2025-09-04T21:15:11.786Z"
   },
   {
    "duration": 39,
    "start_time": "2025-09-04T21:15:11.896Z"
   },
   {
    "duration": 87,
    "start_time": "2025-09-04T21:15:11.937Z"
   },
   {
    "duration": 749,
    "start_time": "2025-09-04T21:15:12.028Z"
   },
   {
    "duration": 49,
    "start_time": "2025-09-04T21:15:12.779Z"
   },
   {
    "duration": 277,
    "start_time": "2025-09-04T21:15:12.830Z"
   },
   {
    "duration": 254,
    "start_time": "2025-09-04T21:15:13.109Z"
   },
   {
    "duration": 193,
    "start_time": "2025-09-04T21:15:13.365Z"
   },
   {
    "duration": 514,
    "start_time": "2025-09-04T21:15:13.560Z"
   },
   {
    "duration": 249,
    "start_time": "2025-09-04T21:15:14.076Z"
   },
   {
    "duration": 402,
    "start_time": "2025-09-04T21:15:14.326Z"
   },
   {
    "duration": 165,
    "start_time": "2025-09-04T21:15:14.730Z"
   },
   {
    "duration": 32,
    "start_time": "2025-09-04T21:15:14.897Z"
   },
   {
    "duration": 43,
    "start_time": "2025-09-04T21:15:14.930Z"
   },
   {
    "duration": 28,
    "start_time": "2025-09-04T21:15:14.975Z"
   },
   {
    "duration": 93,
    "start_time": "2025-09-04T21:15:15.004Z"
   },
   {
    "duration": 328,
    "start_time": "2025-09-04T21:15:15.098Z"
   },
   {
    "duration": 126,
    "start_time": "2025-09-04T21:15:15.428Z"
   },
   {
    "duration": 47,
    "start_time": "2025-09-04T21:15:15.556Z"
   },
   {
    "duration": 99,
    "start_time": "2025-09-04T21:15:15.605Z"
   },
   {
    "duration": 30,
    "start_time": "2025-09-04T21:24:56.874Z"
   },
   {
    "duration": 174,
    "start_time": "2025-09-04T21:28:34.555Z"
   },
   {
    "duration": 142,
    "start_time": "2025-09-04T21:28:45.613Z"
   },
   {
    "duration": 182,
    "start_time": "2025-09-04T21:29:30.467Z"
   },
   {
    "duration": 151,
    "start_time": "2025-09-04T21:29:34.809Z"
   },
   {
    "duration": 1340,
    "start_time": "2025-09-04T21:32:43.672Z"
   },
   {
    "duration": 3005,
    "start_time": "2025-09-04T21:32:45.014Z"
   },
   {
    "duration": 7,
    "start_time": "2025-09-04T21:32:48.021Z"
   },
   {
    "duration": 581,
    "start_time": "2025-09-04T21:32:48.029Z"
   },
   {
    "duration": 21,
    "start_time": "2025-09-04T21:32:48.613Z"
   },
   {
    "duration": 240,
    "start_time": "2025-09-04T21:32:48.636Z"
   },
   {
    "duration": 123,
    "start_time": "2025-09-04T21:32:48.878Z"
   },
   {
    "duration": 26,
    "start_time": "2025-09-04T21:32:49.004Z"
   },
   {
    "duration": 84,
    "start_time": "2025-09-04T21:32:49.031Z"
   },
   {
    "duration": 738,
    "start_time": "2025-09-04T21:32:49.117Z"
   },
   {
    "duration": 61,
    "start_time": "2025-09-04T21:32:49.857Z"
   },
   {
    "duration": 302,
    "start_time": "2025-09-04T21:32:49.920Z"
   },
   {
    "duration": 278,
    "start_time": "2025-09-04T21:32:50.224Z"
   },
   {
    "duration": 208,
    "start_time": "2025-09-04T21:32:50.506Z"
   },
   {
    "duration": 533,
    "start_time": "2025-09-04T21:32:50.716Z"
   },
   {
    "duration": 256,
    "start_time": "2025-09-04T21:32:51.252Z"
   },
   {
    "duration": 401,
    "start_time": "2025-09-04T21:32:51.510Z"
   },
   {
    "duration": 143,
    "start_time": "2025-09-04T21:32:51.912Z"
   },
   {
    "duration": 55,
    "start_time": "2025-09-04T21:32:52.056Z"
   },
   {
    "duration": 24,
    "start_time": "2025-09-04T21:32:52.112Z"
   },
   {
    "duration": 48,
    "start_time": "2025-09-04T21:32:52.138Z"
   },
   {
    "duration": 98,
    "start_time": "2025-09-04T21:32:52.189Z"
   },
   {
    "duration": 344,
    "start_time": "2025-09-04T21:32:52.290Z"
   },
   {
    "duration": 129,
    "start_time": "2025-09-04T21:32:52.636Z"
   },
   {
    "duration": 44,
    "start_time": "2025-09-04T21:32:52.770Z"
   },
   {
    "duration": 96,
    "start_time": "2025-09-04T21:32:52.816Z"
   },
   {
    "duration": 21,
    "start_time": "2025-09-04T21:32:52.913Z"
   },
   {
    "duration": 223,
    "start_time": "2025-09-04T21:32:52.935Z"
   },
   {
    "duration": 1431,
    "start_time": "2025-09-05T09:33:09.652Z"
   },
   {
    "duration": 2222,
    "start_time": "2025-09-05T09:33:11.086Z"
   },
   {
    "duration": 7,
    "start_time": "2025-09-05T09:33:13.334Z"
   },
   {
    "duration": 473,
    "start_time": "2025-09-05T09:33:13.343Z"
   },
   {
    "duration": 27,
    "start_time": "2025-09-05T09:33:13.817Z"
   },
   {
    "duration": 169,
    "start_time": "2025-09-05T09:33:13.846Z"
   },
   {
    "duration": 79,
    "start_time": "2025-09-05T09:33:14.016Z"
   },
   {
    "duration": 47,
    "start_time": "2025-09-05T09:33:14.097Z"
   },
   {
    "duration": 33,
    "start_time": "2025-09-05T09:33:14.145Z"
   },
   {
    "duration": 636,
    "start_time": "2025-09-05T09:33:14.180Z"
   },
   {
    "duration": 50,
    "start_time": "2025-09-05T09:33:14.818Z"
   },
   {
    "duration": 256,
    "start_time": "2025-09-05T09:33:14.869Z"
   },
   {
    "duration": 257,
    "start_time": "2025-09-05T09:33:15.127Z"
   },
   {
    "duration": 182,
    "start_time": "2025-09-05T09:33:15.385Z"
   },
   {
    "duration": 469,
    "start_time": "2025-09-05T09:33:15.569Z"
   },
   {
    "duration": 201,
    "start_time": "2025-09-05T09:33:16.040Z"
   },
   {
    "duration": 348,
    "start_time": "2025-09-05T09:33:16.242Z"
   },
   {
    "duration": 127,
    "start_time": "2025-09-05T09:33:16.592Z"
   },
   {
    "duration": 42,
    "start_time": "2025-09-05T09:33:16.721Z"
   },
   {
    "duration": 25,
    "start_time": "2025-09-05T09:33:16.765Z"
   },
   {
    "duration": 50,
    "start_time": "2025-09-05T09:33:16.792Z"
   },
   {
    "duration": 55,
    "start_time": "2025-09-05T09:33:16.844Z"
   },
   {
    "duration": 281,
    "start_time": "2025-09-05T09:33:16.901Z"
   },
   {
    "duration": 116,
    "start_time": "2025-09-05T09:33:17.184Z"
   },
   {
    "duration": 47,
    "start_time": "2025-09-05T09:33:17.302Z"
   },
   {
    "duration": 90,
    "start_time": "2025-09-05T09:33:17.351Z"
   },
   {
    "duration": 20,
    "start_time": "2025-09-05T09:33:17.443Z"
   },
   {
    "duration": 193,
    "start_time": "2025-09-05T09:33:17.467Z"
   },
   {
    "duration": 12,
    "start_time": "2025-09-05T09:39:44.916Z"
   },
   {
    "duration": 506,
    "start_time": "2025-09-05T09:41:40.729Z"
   },
   {
    "duration": 490,
    "start_time": "2025-09-05T09:41:45.579Z"
   },
   {
    "duration": 169,
    "start_time": "2025-09-05T09:42:36.267Z"
   },
   {
    "duration": 171,
    "start_time": "2025-09-05T09:43:01.850Z"
   },
   {
    "duration": 164,
    "start_time": "2025-09-05T09:44:09.200Z"
   },
   {
    "duration": 268,
    "start_time": "2025-09-05T09:44:26.832Z"
   },
   {
    "duration": 1340,
    "start_time": "2025-09-05T13:36:05.667Z"
   },
   {
    "duration": 2511,
    "start_time": "2025-09-05T13:36:07.008Z"
   },
   {
    "duration": 7,
    "start_time": "2025-09-05T13:36:09.520Z"
   },
   {
    "duration": 487,
    "start_time": "2025-09-05T13:36:09.528Z"
   },
   {
    "duration": 13,
    "start_time": "2025-09-05T13:36:10.018Z"
   },
   {
    "duration": 185,
    "start_time": "2025-09-05T13:36:10.032Z"
   },
   {
    "duration": 91,
    "start_time": "2025-09-05T13:36:10.218Z"
   },
   {
    "duration": 19,
    "start_time": "2025-09-05T13:36:10.310Z"
   },
   {
    "duration": 63,
    "start_time": "2025-09-05T13:36:10.331Z"
   },
   {
    "duration": 594,
    "start_time": "2025-09-05T13:36:10.395Z"
   },
   {
    "duration": 37,
    "start_time": "2025-09-05T13:36:10.991Z"
   },
   {
    "duration": 263,
    "start_time": "2025-09-05T13:36:11.029Z"
   },
   {
    "duration": 236,
    "start_time": "2025-09-05T13:36:11.293Z"
   },
   {
    "duration": 171,
    "start_time": "2025-09-05T13:36:11.531Z"
   },
   {
    "duration": 429,
    "start_time": "2025-09-05T13:36:11.703Z"
   },
   {
    "duration": 187,
    "start_time": "2025-09-05T13:36:12.133Z"
   },
   {
    "duration": 322,
    "start_time": "2025-09-05T13:36:12.322Z"
   },
   {
    "duration": 126,
    "start_time": "2025-09-05T13:36:12.646Z"
   },
   {
    "duration": 30,
    "start_time": "2025-09-05T13:36:12.774Z"
   },
   {
    "duration": 20,
    "start_time": "2025-09-05T13:36:12.805Z"
   },
   {
    "duration": 23,
    "start_time": "2025-09-05T13:36:12.827Z"
   },
   {
    "duration": 57,
    "start_time": "2025-09-05T13:36:12.852Z"
   },
   {
    "duration": 244,
    "start_time": "2025-09-05T13:36:12.911Z"
   },
   {
    "duration": 103,
    "start_time": "2025-09-05T13:36:13.156Z"
   },
   {
    "duration": 39,
    "start_time": "2025-09-05T13:36:13.260Z"
   },
   {
    "duration": 74,
    "start_time": "2025-09-05T13:36:13.300Z"
   },
   {
    "duration": 15,
    "start_time": "2025-09-05T13:36:13.376Z"
   },
   {
    "duration": 583,
    "start_time": "2025-09-05T13:36:13.393Z"
   },
   {
    "duration": 166,
    "start_time": "2025-09-05T13:36:13.979Z"
   },
   {
    "duration": 182,
    "start_time": "2025-09-05T13:36:14.147Z"
   },
   {
    "duration": 18,
    "start_time": "2025-09-05T13:36:14.330Z"
   },
   {
    "duration": 181,
    "start_time": "2025-09-05T13:36:14.350Z"
   },
   {
    "duration": 65,
    "start_time": "2025-09-05T13:50:23.476Z"
   },
   {
    "duration": 296,
    "start_time": "2025-09-05T13:58:04.393Z"
   },
   {
    "duration": 207,
    "start_time": "2025-09-05T13:59:00.342Z"
   },
   {
    "duration": 205,
    "start_time": "2025-09-05T13:59:49.671Z"
   },
   {
    "duration": 4,
    "start_time": "2025-09-05T14:01:36.042Z"
   },
   {
    "duration": 32,
    "start_time": "2025-09-05T14:01:40.978Z"
   },
   {
    "duration": 35,
    "start_time": "2025-09-05T14:02:00.648Z"
   },
   {
    "duration": 11,
    "start_time": "2025-09-05T14:05:01.026Z"
   },
   {
    "duration": 10,
    "start_time": "2025-09-05T14:05:21.520Z"
   },
   {
    "duration": 19,
    "start_time": "2025-09-05T14:06:22.672Z"
   },
   {
    "duration": 13,
    "start_time": "2025-09-05T14:07:50.765Z"
   },
   {
    "duration": 10,
    "start_time": "2025-09-05T14:10:05.149Z"
   },
   {
    "duration": 64,
    "start_time": "2025-09-05T14:15:02.267Z"
   },
   {
    "duration": 23,
    "start_time": "2025-09-05T14:21:24.472Z"
   },
   {
    "duration": 595,
    "start_time": "2025-09-05T14:37:34.083Z"
   },
   {
    "duration": 555,
    "start_time": "2025-09-05T14:38:36.441Z"
   },
   {
    "duration": 76,
    "start_time": "2025-09-05T14:38:52.026Z"
   },
   {
    "duration": 515,
    "start_time": "2025-09-05T14:39:11.104Z"
   },
   {
    "duration": 718,
    "start_time": "2025-09-05T14:39:37.445Z"
   },
   {
    "duration": 651,
    "start_time": "2025-09-05T14:41:15.658Z"
   },
   {
    "duration": 678,
    "start_time": "2025-09-05T14:42:22.695Z"
   },
   {
    "duration": 828,
    "start_time": "2025-09-05T14:42:26.334Z"
   },
   {
    "duration": 1427,
    "start_time": "2025-09-08T15:09:58.306Z"
   },
   {
    "duration": 2555,
    "start_time": "2025-09-08T15:10:06.774Z"
   }
  ],
  "colab": {
   "provenance": []
  },
  "kernelspec": {
   "display_name": "Python 3 (ipykernel)",
   "language": "python",
   "name": "python3"
  },
  "language_info": {
   "codemirror_mode": {
    "name": "ipython",
    "version": 3
   },
   "file_extension": ".py",
   "mimetype": "text/x-python",
   "name": "python",
   "nbconvert_exporter": "python",
   "pygments_lexer": "ipython3",
   "version": "3.9.5"
  },
  "toc": {
   "base_numbering": 1,
   "nav_menu": {},
   "number_sections": false,
   "sideBar": true,
   "skip_h1_title": false,
   "title_cell": "Table of Contents",
   "title_sidebar": "Contents",
   "toc_cell": false,
   "toc_position": {},
   "toc_section_display": true,
   "toc_window_display": false
  }
 },
 "nbformat": 4,
 "nbformat_minor": 1
}
